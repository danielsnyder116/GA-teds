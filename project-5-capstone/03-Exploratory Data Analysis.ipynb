{
 "cells": [
  {
   "cell_type": "markdown",
   "metadata": {},
   "source": [
    "# Capstone, Part II: Exploratory Data Analysis\n"
   ]
  },
  {
   "cell_type": "markdown",
   "metadata": {},
   "source": [
    "## 1. Reading in the cleaned data set"
   ]
  },
  {
   "cell_type": "code",
   "execution_count": 1,
   "metadata": {},
   "outputs": [],
   "source": [
    "import pandas as pd\n",
    "import matplotlib.pyplot as plt\n",
    "import numpy as np \n",
    "import seaborn as sns\n",
    "\n",
    "from scipy.stats import ttest_ind\n",
    "\n",
    "%matplotlib inline\n",
    "plt.style.use(\"ggplot\")"
   ]
  },
  {
   "cell_type": "code",
   "execution_count": 2,
   "metadata": {},
   "outputs": [],
   "source": [
    "path = \"../enem2017/DADOS/pima.csv\"\n",
    "pima = pd.read_csv(path, encoding=\"latin1\")\n",
    "pd.set_option(\"max_rows\", 150)     \n",
    "pd.set_option(\"max_columns\", 150)"
   ]
  },
  {
   "cell_type": "markdown",
   "metadata": {},
   "source": [
    "## 2. Let's look at its basic characteristics\n"
   ]
  },
  {
   "cell_type": "code",
   "execution_count": 3,
   "metadata": {},
   "outputs": [
    {
     "data": {
      "text/html": [
       "<div>\n",
       "<style scoped>\n",
       "    .dataframe tbody tr th:only-of-type {\n",
       "        vertical-align: middle;\n",
       "    }\n",
       "\n",
       "    .dataframe tbody tr th {\n",
       "        vertical-align: top;\n",
       "    }\n",
       "\n",
       "    .dataframe thead th {\n",
       "        text-align: right;\n",
       "    }\n",
       "</style>\n",
       "<table border=\"1\" class=\"dataframe\">\n",
       "  <thead>\n",
       "    <tr style=\"text-align: right;\">\n",
       "      <th></th>\n",
       "      <th>student_id_num</th>\n",
       "      <th>city_of_residence</th>\n",
       "      <th>state_of_residence</th>\n",
       "      <th>age</th>\n",
       "      <th>sex</th>\n",
       "      <th>marital_status</th>\n",
       "      <th>race</th>\n",
       "      <th>nationality</th>\n",
       "      <th>birth_city_name</th>\n",
       "      <th>birth_state_initials</th>\n",
       "      <th>student_hs_grad_status</th>\n",
       "      <th>high_school_graduation_year</th>\n",
       "      <th>hs_type</th>\n",
       "      <th>for_fun?</th>\n",
       "      <th>pregnant?</th>\n",
       "      <th>requested_resource?</th>\n",
       "      <th>transgender?</th>\n",
       "      <th>did_ns_math?</th>\n",
       "      <th>did_hs_lang?</th>\n",
       "      <th>ns_score</th>\n",
       "      <th>hs_score</th>\n",
       "      <th>lc_score</th>\n",
       "      <th>math_score</th>\n",
       "      <th>for_language_choice</th>\n",
       "      <th>essay_gradable?</th>\n",
       "      <th>essay_score</th>\n",
       "      <th>dad_male_guardian_education</th>\n",
       "      <th>mom_female_guardian_education</th>\n",
       "      <th>male_occupation_class</th>\n",
       "      <th>female_occupation_class</th>\n",
       "      <th>number_of_housemates_include_student</th>\n",
       "      <th>family_monthly_income</th>\n",
       "      <th>domestic_worker?</th>\n",
       "      <th>home_has_bathroom?</th>\n",
       "      <th>home_wash_machine?</th>\n",
       "      <th>home_computer</th>\n",
       "      <th>home_has_internet?</th>\n",
       "      <th>income_avr</th>\n",
       "      <th>per_house_member_income</th>\n",
       "      <th>total_score</th>\n",
       "    </tr>\n",
       "  </thead>\n",
       "  <tbody>\n",
       "    <tr>\n",
       "      <th>0</th>\n",
       "      <td>170003336360</td>\n",
       "      <td>Teresina</td>\n",
       "      <td>Piauí</td>\n",
       "      <td>30.0</td>\n",
       "      <td>M</td>\n",
       "      <td>Married</td>\n",
       "      <td>Mestizo</td>\n",
       "      <td>brazilian</td>\n",
       "      <td>Teresina</td>\n",
       "      <td>PI</td>\n",
       "      <td>finished</td>\n",
       "      <td>before_2007</td>\n",
       "      <td>no_response</td>\n",
       "      <td>no,_student</td>\n",
       "      <td>0</td>\n",
       "      <td>0</td>\n",
       "      <td>0</td>\n",
       "      <td>Present</td>\n",
       "      <td>Present</td>\n",
       "      <td>674.8</td>\n",
       "      <td>682.7</td>\n",
       "      <td>626.4</td>\n",
       "      <td>795.0</td>\n",
       "      <td>English</td>\n",
       "      <td>all_good</td>\n",
       "      <td>780.0</td>\n",
       "      <td>college</td>\n",
       "      <td>high_school</td>\n",
       "      <td>skilled_white5</td>\n",
       "      <td>low_white4</td>\n",
       "      <td>3.0</td>\n",
       "      <td>18740+</td>\n",
       "      <td>Yes</td>\n",
       "      <td>Yes</td>\n",
       "      <td>Yes</td>\n",
       "      <td>3</td>\n",
       "      <td>Yes</td>\n",
       "      <td>18740.0</td>\n",
       "      <td>6246.666667</td>\n",
       "      <td>3558.9</td>\n",
       "    </tr>\n",
       "    <tr>\n",
       "      <th>1</th>\n",
       "      <td>170001671264</td>\n",
       "      <td>Balsas</td>\n",
       "      <td>Maranhão</td>\n",
       "      <td>25.0</td>\n",
       "      <td>M</td>\n",
       "      <td>Single</td>\n",
       "      <td>Mestizo</td>\n",
       "      <td>brazilian</td>\n",
       "      <td>Balsas</td>\n",
       "      <td>MA</td>\n",
       "      <td>finished</td>\n",
       "      <td>2010</td>\n",
       "      <td>no_response</td>\n",
       "      <td>no,_student</td>\n",
       "      <td>0</td>\n",
       "      <td>0</td>\n",
       "      <td>0</td>\n",
       "      <td>Present</td>\n",
       "      <td>Present</td>\n",
       "      <td>473.5</td>\n",
       "      <td>594.0</td>\n",
       "      <td>371.1</td>\n",
       "      <td>439.9</td>\n",
       "      <td>English</td>\n",
       "      <td>all_good</td>\n",
       "      <td>560.0</td>\n",
       "      <td>completed_9th</td>\n",
       "      <td>high_school</td>\n",
       "      <td>skilled_blue3</td>\n",
       "      <td>skilled_blue3</td>\n",
       "      <td>3.0</td>\n",
       "      <td>937-1406</td>\n",
       "      <td>No</td>\n",
       "      <td>Yes</td>\n",
       "      <td>Yes</td>\n",
       "      <td>1</td>\n",
       "      <td>Yes</td>\n",
       "      <td>1171.5</td>\n",
       "      <td>390.500000</td>\n",
       "      <td>2438.5</td>\n",
       "    </tr>\n",
       "    <tr>\n",
       "      <th>2</th>\n",
       "      <td>170003333547</td>\n",
       "      <td>Santo Amaro do Maranhão</td>\n",
       "      <td>Maranhão</td>\n",
       "      <td>23.0</td>\n",
       "      <td>M</td>\n",
       "      <td>Single</td>\n",
       "      <td>Mestizo</td>\n",
       "      <td>brazilian</td>\n",
       "      <td>Primeira Cruz</td>\n",
       "      <td>MA</td>\n",
       "      <td>finished</td>\n",
       "      <td>2012</td>\n",
       "      <td>no_response</td>\n",
       "      <td>no,_student</td>\n",
       "      <td>0</td>\n",
       "      <td>0</td>\n",
       "      <td>0</td>\n",
       "      <td>Absent</td>\n",
       "      <td>Absent</td>\n",
       "      <td>0.0</td>\n",
       "      <td>0.0</td>\n",
       "      <td>0.0</td>\n",
       "      <td>0.0</td>\n",
       "      <td>English</td>\n",
       "      <td>Missing</td>\n",
       "      <td>0.0</td>\n",
       "      <td>fifth_grade</td>\n",
       "      <td>high_school</td>\n",
       "      <td>farmer1</td>\n",
       "      <td>low_white4</td>\n",
       "      <td>7.0</td>\n",
       "      <td>0-937</td>\n",
       "      <td>No</td>\n",
       "      <td>Yes</td>\n",
       "      <td>Yes</td>\n",
       "      <td>1</td>\n",
       "      <td>Yes</td>\n",
       "      <td>468.5</td>\n",
       "      <td>66.928571</td>\n",
       "      <td>0.0</td>\n",
       "    </tr>\n",
       "    <tr>\n",
       "      <th>3</th>\n",
       "      <td>170001663653</td>\n",
       "      <td>São Luís</td>\n",
       "      <td>Maranhão</td>\n",
       "      <td>23.0</td>\n",
       "      <td>F</td>\n",
       "      <td>Single</td>\n",
       "      <td>White</td>\n",
       "      <td>brazilian</td>\n",
       "      <td>São Luís</td>\n",
       "      <td>MA</td>\n",
       "      <td>finished</td>\n",
       "      <td>2012</td>\n",
       "      <td>no_response</td>\n",
       "      <td>no,_student</td>\n",
       "      <td>0</td>\n",
       "      <td>0</td>\n",
       "      <td>0</td>\n",
       "      <td>Present</td>\n",
       "      <td>Present</td>\n",
       "      <td>430.6</td>\n",
       "      <td>630.0</td>\n",
       "      <td>549.5</td>\n",
       "      <td>493.9</td>\n",
       "      <td>Spanish</td>\n",
       "      <td>all_good</td>\n",
       "      <td>780.0</td>\n",
       "      <td>fifth_grade</td>\n",
       "      <td>fifth_grade</td>\n",
       "      <td>skilled_blue3</td>\n",
       "      <td>low_white4</td>\n",
       "      <td>4.0</td>\n",
       "      <td>937-1406</td>\n",
       "      <td>No</td>\n",
       "      <td>Yes</td>\n",
       "      <td>No</td>\n",
       "      <td>1</td>\n",
       "      <td>Yes</td>\n",
       "      <td>1171.5</td>\n",
       "      <td>292.875000</td>\n",
       "      <td>2884.0</td>\n",
       "    </tr>\n",
       "    <tr>\n",
       "      <th>4</th>\n",
       "      <td>170001663735</td>\n",
       "      <td>Teresina</td>\n",
       "      <td>Piauí</td>\n",
       "      <td>20.0</td>\n",
       "      <td>F</td>\n",
       "      <td>Single</td>\n",
       "      <td>Black</td>\n",
       "      <td>brazilian</td>\n",
       "      <td>Teresina</td>\n",
       "      <td>PI</td>\n",
       "      <td>finished</td>\n",
       "      <td>2016</td>\n",
       "      <td>no_response</td>\n",
       "      <td>no,_student</td>\n",
       "      <td>0</td>\n",
       "      <td>0</td>\n",
       "      <td>0</td>\n",
       "      <td>Absent</td>\n",
       "      <td>Present</td>\n",
       "      <td>0.0</td>\n",
       "      <td>496.6</td>\n",
       "      <td>544.5</td>\n",
       "      <td>0.0</td>\n",
       "      <td>Spanish</td>\n",
       "      <td>all_good</td>\n",
       "      <td>540.0</td>\n",
       "      <td>fifth_grade</td>\n",
       "      <td>high_school</td>\n",
       "      <td>skilled_blue3</td>\n",
       "      <td>unskilled_blue2</td>\n",
       "      <td>3.0</td>\n",
       "      <td>937-1406</td>\n",
       "      <td>No</td>\n",
       "      <td>Yes</td>\n",
       "      <td>No</td>\n",
       "      <td>0</td>\n",
       "      <td>No</td>\n",
       "      <td>1171.5</td>\n",
       "      <td>390.500000</td>\n",
       "      <td>1581.1</td>\n",
       "    </tr>\n",
       "  </tbody>\n",
       "</table>\n",
       "</div>"
      ],
      "text/plain": [
       "   student_id_num        city_of_residence state_of_residence   age sex  \\\n",
       "0    170003336360                 Teresina              Piauí  30.0   M   \n",
       "1    170001671264                   Balsas           Maranhão  25.0   M   \n",
       "2    170003333547  Santo Amaro do Maranhão           Maranhão  23.0   M   \n",
       "3    170001663653                 São Luís           Maranhão  23.0   F   \n",
       "4    170001663735                 Teresina              Piauí  20.0   F   \n",
       "\n",
       "  marital_status     race nationality birth_city_name birth_state_initials  \\\n",
       "0        Married  Mestizo   brazilian        Teresina                   PI   \n",
       "1         Single  Mestizo   brazilian          Balsas                   MA   \n",
       "2         Single  Mestizo   brazilian   Primeira Cruz                   MA   \n",
       "3         Single    White   brazilian        São Luís                   MA   \n",
       "4         Single    Black   brazilian        Teresina                   PI   \n",
       "\n",
       "  student_hs_grad_status high_school_graduation_year      hs_type  \\\n",
       "0               finished                 before_2007  no_response   \n",
       "1               finished                        2010  no_response   \n",
       "2               finished                        2012  no_response   \n",
       "3               finished                        2012  no_response   \n",
       "4               finished                        2016  no_response   \n",
       "\n",
       "      for_fun?  pregnant?  requested_resource?  transgender? did_ns_math?  \\\n",
       "0  no,_student          0                    0             0      Present   \n",
       "1  no,_student          0                    0             0      Present   \n",
       "2  no,_student          0                    0             0       Absent   \n",
       "3  no,_student          0                    0             0      Present   \n",
       "4  no,_student          0                    0             0       Absent   \n",
       "\n",
       "  did_hs_lang?  ns_score  hs_score  lc_score  math_score for_language_choice  \\\n",
       "0      Present     674.8     682.7     626.4       795.0             English   \n",
       "1      Present     473.5     594.0     371.1       439.9             English   \n",
       "2       Absent       0.0       0.0       0.0         0.0             English   \n",
       "3      Present     430.6     630.0     549.5       493.9             Spanish   \n",
       "4      Present       0.0     496.6     544.5         0.0             Spanish   \n",
       "\n",
       "  essay_gradable?  essay_score dad_male_guardian_education  \\\n",
       "0        all_good        780.0                     college   \n",
       "1        all_good        560.0               completed_9th   \n",
       "2         Missing          0.0                 fifth_grade   \n",
       "3        all_good        780.0                 fifth_grade   \n",
       "4        all_good        540.0                 fifth_grade   \n",
       "\n",
       "  mom_female_guardian_education male_occupation_class female_occupation_class  \\\n",
       "0                   high_school        skilled_white5              low_white4   \n",
       "1                   high_school         skilled_blue3           skilled_blue3   \n",
       "2                   high_school               farmer1              low_white4   \n",
       "3                   fifth_grade         skilled_blue3              low_white4   \n",
       "4                   high_school         skilled_blue3         unskilled_blue2   \n",
       "\n",
       "   number_of_housemates_include_student family_monthly_income  \\\n",
       "0                                   3.0                18740+   \n",
       "1                                   3.0              937-1406   \n",
       "2                                   7.0                 0-937   \n",
       "3                                   4.0              937-1406   \n",
       "4                                   3.0              937-1406   \n",
       "\n",
       "  domestic_worker? home_has_bathroom? home_wash_machine?  home_computer  \\\n",
       "0              Yes                Yes                Yes              3   \n",
       "1               No                Yes                Yes              1   \n",
       "2               No                Yes                Yes              1   \n",
       "3               No                Yes                 No              1   \n",
       "4               No                Yes                 No              0   \n",
       "\n",
       "  home_has_internet?  income_avr  per_house_member_income  total_score  \n",
       "0                Yes     18740.0              6246.666667       3558.9  \n",
       "1                Yes      1171.5               390.500000       2438.5  \n",
       "2                Yes       468.5                66.928571          0.0  \n",
       "3                Yes      1171.5               292.875000       2884.0  \n",
       "4                 No      1171.5               390.500000       1581.1  "
      ]
     },
     "execution_count": 3,
     "metadata": {},
     "output_type": "execute_result"
    }
   ],
   "source": [
    "pima.head()"
   ]
  },
  {
   "cell_type": "code",
   "execution_count": 4,
   "metadata": {},
   "outputs": [],
   "source": [
    "# https://guiadoestudante.abril.com.br/enem/como-funciona-nota-enem/\n"
   ]
  },
  {
   "cell_type": "code",
   "execution_count": 5,
   "metadata": {},
   "outputs": [
    {
     "data": {
      "text/plain": [
       "(435524, 40)"
      ]
     },
     "execution_count": 5,
     "metadata": {},
     "output_type": "execute_result"
    }
   ],
   "source": [
    "pima.shape"
   ]
  },
  {
   "cell_type": "code",
   "execution_count": 6,
   "metadata": {
    "scrolled": false
   },
   "outputs": [
    {
     "data": {
      "text/plain": [
       "student_id_num                            int64\n",
       "city_of_residence                        object\n",
       "state_of_residence                       object\n",
       "age                                     float64\n",
       "sex                                      object\n",
       "marital_status                           object\n",
       "race                                     object\n",
       "nationality                              object\n",
       "birth_city_name                          object\n",
       "birth_state_initials                     object\n",
       "student_hs_grad_status                   object\n",
       "high_school_graduation_year              object\n",
       "hs_type                                  object\n",
       "for_fun?                                 object\n",
       "pregnant?                                 int64\n",
       "requested_resource?                       int64\n",
       "transgender?                              int64\n",
       "did_ns_math?                             object\n",
       "did_hs_lang?                             object\n",
       "ns_score                                float64\n",
       "hs_score                                float64\n",
       "lc_score                                float64\n",
       "math_score                              float64\n",
       "for_language_choice                      object\n",
       "essay_gradable?                          object\n",
       "essay_score                             float64\n",
       "dad_male_guardian_education              object\n",
       "mom_female_guardian_education            object\n",
       "male_occupation_class                    object\n",
       "female_occupation_class                  object\n",
       "number_of_housemates_include_student    float64\n",
       "family_monthly_income                    object\n",
       "domestic_worker?                         object\n",
       "home_has_bathroom?                       object\n",
       "home_wash_machine?                       object\n",
       "home_computer                             int64\n",
       "home_has_internet?                       object\n",
       "income_avr                              float64\n",
       "per_house_member_income                 float64\n",
       "total_score                             float64\n",
       "dtype: object"
      ]
     },
     "execution_count": 6,
     "metadata": {},
     "output_type": "execute_result"
    }
   ],
   "source": [
    "pima.dtypes"
   ]
  },
  {
   "cell_type": "markdown",
   "metadata": {},
   "source": [
    "_The features are all in appropriate data types._"
   ]
  },
  {
   "cell_type": "markdown",
   "metadata": {},
   "source": [
    "### Missing Values"
   ]
  },
  {
   "cell_type": "code",
   "execution_count": 7,
   "metadata": {},
   "outputs": [
    {
     "data": {
      "text/plain": [
       "student_id_num                          0.0\n",
       "city_of_residence                       0.0\n",
       "state_of_residence                      0.0\n",
       "age                                     0.0\n",
       "sex                                     0.0\n",
       "marital_status                          0.0\n",
       "race                                    0.0\n",
       "nationality                             0.0\n",
       "birth_city_name                         0.0\n",
       "birth_state_initials                    0.0\n",
       "student_hs_grad_status                  0.0\n",
       "high_school_graduation_year             0.0\n",
       "hs_type                                 0.0\n",
       "for_fun?                                0.0\n",
       "pregnant?                               0.0\n",
       "requested_resource?                     0.0\n",
       "transgender?                            0.0\n",
       "did_ns_math?                            0.0\n",
       "did_hs_lang?                            0.0\n",
       "ns_score                                0.0\n",
       "hs_score                                0.0\n",
       "lc_score                                0.0\n",
       "math_score                              0.0\n",
       "for_language_choice                     0.0\n",
       "essay_gradable?                         0.0\n",
       "essay_score                             0.0\n",
       "dad_male_guardian_education             0.0\n",
       "mom_female_guardian_education           0.0\n",
       "male_occupation_class                   0.0\n",
       "female_occupation_class                 0.0\n",
       "number_of_housemates_include_student    0.0\n",
       "family_monthly_income                   0.0\n",
       "domestic_worker?                        0.0\n",
       "home_has_bathroom?                      0.0\n",
       "home_wash_machine?                      0.0\n",
       "home_computer                           0.0\n",
       "home_has_internet?                      0.0\n",
       "income_avr                              0.0\n",
       "per_house_member_income                 0.0\n",
       "total_score                             0.0\n",
       "dtype: float64"
      ]
     },
     "execution_count": 7,
     "metadata": {},
     "output_type": "execute_result"
    }
   ],
   "source": [
    "pima.isnull().mean()"
   ]
  },
  {
   "cell_type": "markdown",
   "metadata": {},
   "source": [
    "_Having ensured that NaN values were filled in the Data Cleaning notebook, there are no unaccounted for missing values. They can found either as \"0\" or \"Missing\" depending on the variable._"
   ]
  },
  {
   "cell_type": "markdown",
   "metadata": {},
   "source": [
    "### Scores "
   ]
  },
  {
   "cell_type": "code",
   "execution_count": 8,
   "metadata": {},
   "outputs": [
    {
     "data": {
      "text/plain": [
       "count    435524.000000\n",
       "mean       1747.433626\n",
       "std        1139.023773\n",
       "min           0.000000\n",
       "25%           0.000000\n",
       "50%        2247.100000\n",
       "75%        2564.000000\n",
       "max        4163.500000\n",
       "Name: total_score, dtype: float64"
      ]
     },
     "execution_count": 8,
     "metadata": {},
     "output_type": "execute_result"
    }
   ],
   "source": [
    "pima[\"total_score\"].describe()"
   ]
  },
  {
   "cell_type": "code",
   "execution_count": 9,
   "metadata": {},
   "outputs": [
    {
     "data": {
      "image/png": "[encoded data removed]",
      "text/plain": [
       "<Figure size 720x576 with 1 Axes>"
      ]
     },
     "metadata": {
      "needs_background": "light"
     },
     "output_type": "display_data"
    }
   ],
   "source": [
    "pima[\"total_score\"].plot(kind=\"hist\", bins=40, color=\"forestgreen\", edgecolor=\"blue\", figsize=(10,8))\n",
    "\n",
    "plt.title(\"Distribution of Scores\", size=18)\n",
    "plt.ylabel(\"Number of Students\", size=16)\n",
    "plt.xticks(rotation=0)\n",
    "plt.xlabel(\"Total Score\", size=16); #issue!"
   ]
  },
  {
   "cell_type": "markdown",
   "metadata": {},
   "source": [
    "_Clearly there is something going on as a significant amount of scores are 0.\n",
    "Turns out, a lot of students don't actually show up for the exam, or only show up for one session._"
   ]
  },
  {
   "cell_type": "markdown",
   "metadata": {},
   "source": [
    "#### In order to account for the absence,we have deleted incomplete exams from the main analysis. See the section below on students who missed one or both sessions to learn about the data and possible explanations."
   ]
  },
  {
   "cell_type": "markdown",
   "metadata": {},
   "source": [
    "## Understanding Missing Students"
   ]
  },
  {
   "cell_type": "markdown",
   "metadata": {},
   "source": [
    "### i. How many students missed Session 1?"
   ]
  },
  {
   "cell_type": "code",
   "execution_count": 10,
   "metadata": {},
   "outputs": [
    {
     "data": {
      "text/plain": [
       "Present    0.691957\n",
       "Absent     0.307806\n",
       "Missing    0.000236\n",
       "Name: did_ns_math?, dtype: float64"
      ]
     },
     "execution_count": 10,
     "metadata": {},
     "output_type": "execute_result"
    }
   ],
   "source": [
    "pima[\"did_ns_math?\"].value_counts(normalize=True)\n",
    "#The natural science and math portions are given on the same Sunday"
   ]
  },
  {
   "cell_type": "code",
   "execution_count": 11,
   "metadata": {},
   "outputs": [
    {
     "data": {
      "image/png": "[encoded data removed]",
      "text/plain": [
       "<Figure size 432x288 with 1 Axes>"
      ]
     },
     "metadata": {
      "needs_background": "light"
     },
     "output_type": "display_data"
    }
   ],
   "source": [
    "pima[\"did_ns_math?\"].value_counts(normalize=True).plot(kind=\"bar\")\n",
    "plt.title(\"Session 1 Attendance\")\n",
    "plt.ylabel(\"Percentage of Students\")\n",
    "plt.xticks(rotation=0)\n",
    "plt.xlabel(\"Student Indication\");"
   ]
  },
  {
   "cell_type": "markdown",
   "metadata": {},
   "source": [
    "### ii. How many students missed Session 2?"
   ]
  },
  {
   "cell_type": "code",
   "execution_count": 12,
   "metadata": {},
   "outputs": [
    {
     "data": {
      "text/plain": [
       "Present    0.725234\n",
       "Absent     0.274407\n",
       "Missing    0.000358\n",
       "Name: did_hs_lang?, dtype: float64"
      ]
     },
     "execution_count": 12,
     "metadata": {},
     "output_type": "execute_result"
    }
   ],
   "source": [
    "pima[\"did_hs_lang?\"].value_counts(normalize=True)\n",
    "#The human sciences and languag/code portions are given on the same Sunday"
   ]
  },
  {
   "cell_type": "code",
   "execution_count": 13,
   "metadata": {},
   "outputs": [
    {
     "data": {
      "image/png": "[encoded data removed]",
      "text/plain": [
       "<Figure size 432x288 with 1 Axes>"
      ]
     },
     "metadata": {
      "needs_background": "light"
     },
     "output_type": "display_data"
    }
   ],
   "source": [
    "pima[\"did_hs_lang?\"].value_counts(normalize=True).plot(kind=\"bar\")\n",
    "plt.title(\"Session 2 Attendance\")\n",
    "plt.ylabel(\"Percentage of Students\")\n",
    "plt.xticks(rotation=0)\n",
    "plt.xlabel(\"Student Indication\");"
   ]
  },
  {
   "cell_type": "code",
   "execution_count": 14,
   "metadata": {},
   "outputs": [],
   "source": [
    "incomplete1 = ((pima[\"did_ns_math?\"] == \"Present\") & (pima[\"did_hs_lang?\"] == \"Absent\")) #Session 1 \n",
    "incomplete2 = ((pima[\"did_ns_math?\"] == \"Absent\") & (pima[\"did_hs_lang?\"] == \"Present\")) #Session 2 \n",
    "incomplete3 = ((pima[\"did_ns_math?\"] == \"Absent\") & (pima[\"did_hs_lang?\"] == \"Absent\")) #Both Sessions 1 & 2 \n",
    "\n",
    "missing1 = pd.DataFrame(pima.loc[incomplete1, :])\n",
    "missing2 = pd.DataFrame(pima.loc[incomplete2, :])\n",
    "missing_both = pd.DataFrame(pima.loc[incomplete3, :])"
   ]
  },
  {
   "cell_type": "markdown",
   "metadata": {},
   "source": [
    "### iii. Understanding students who missed both sessions."
   ]
  },
  {
   "cell_type": "code",
   "execution_count": 15,
   "metadata": {},
   "outputs": [
    {
     "data": {
      "text/plain": [
       "Missing    118756\n",
       "Name: essay_gradable?, dtype: int64"
      ]
     },
     "execution_count": 15,
     "metadata": {},
     "output_type": "execute_result"
    }
   ],
   "source": [
    "missing_both[\"essay_gradable?\"].value_counts()"
   ]
  },
  {
   "cell_type": "code",
   "execution_count": 16,
   "metadata": {},
   "outputs": [
    {
     "data": {
      "text/plain": [
       "student_id_num        118756\n",
       "city_of_residence     118756\n",
       "state_of_residence    118756\n",
       "age                   118756\n",
       "sex                   118756\n",
       "dtype: int64"
      ]
     },
     "execution_count": 16,
     "metadata": {},
     "output_type": "execute_result"
    }
   ],
   "source": [
    "missing_both.count().head()"
   ]
  },
  {
   "cell_type": "markdown",
   "metadata": {},
   "source": [
    "### iv. Understanding students who missed only Session 1."
   ]
  },
  {
   "cell_type": "code",
   "execution_count": 17,
   "metadata": {},
   "outputs": [
    {
     "data": {
      "text/html": [
       "<div>\n",
       "<style scoped>\n",
       "    .dataframe tbody tr th:only-of-type {\n",
       "        vertical-align: middle;\n",
       "    }\n",
       "\n",
       "    .dataframe tbody tr th {\n",
       "        vertical-align: top;\n",
       "    }\n",
       "\n",
       "    .dataframe thead th {\n",
       "        text-align: right;\n",
       "    }\n",
       "</style>\n",
       "<table border=\"1\" class=\"dataframe\">\n",
       "  <thead>\n",
       "    <tr style=\"text-align: right;\">\n",
       "      <th></th>\n",
       "      <th>student_id_num</th>\n",
       "      <th>city_of_residence</th>\n",
       "      <th>state_of_residence</th>\n",
       "      <th>age</th>\n",
       "      <th>sex</th>\n",
       "      <th>marital_status</th>\n",
       "      <th>race</th>\n",
       "      <th>nationality</th>\n",
       "      <th>birth_city_name</th>\n",
       "      <th>birth_state_initials</th>\n",
       "      <th>student_hs_grad_status</th>\n",
       "      <th>high_school_graduation_year</th>\n",
       "      <th>hs_type</th>\n",
       "      <th>for_fun?</th>\n",
       "      <th>pregnant?</th>\n",
       "      <th>requested_resource?</th>\n",
       "      <th>transgender?</th>\n",
       "      <th>did_ns_math?</th>\n",
       "      <th>did_hs_lang?</th>\n",
       "      <th>ns_score</th>\n",
       "      <th>hs_score</th>\n",
       "      <th>lc_score</th>\n",
       "      <th>math_score</th>\n",
       "      <th>for_language_choice</th>\n",
       "      <th>essay_gradable?</th>\n",
       "      <th>essay_score</th>\n",
       "      <th>dad_male_guardian_education</th>\n",
       "      <th>mom_female_guardian_education</th>\n",
       "      <th>male_occupation_class</th>\n",
       "      <th>female_occupation_class</th>\n",
       "      <th>number_of_housemates_include_student</th>\n",
       "      <th>family_monthly_income</th>\n",
       "      <th>domestic_worker?</th>\n",
       "      <th>home_has_bathroom?</th>\n",
       "      <th>home_wash_machine?</th>\n",
       "      <th>home_computer</th>\n",
       "      <th>home_has_internet?</th>\n",
       "      <th>income_avr</th>\n",
       "      <th>per_house_member_income</th>\n",
       "      <th>total_score</th>\n",
       "    </tr>\n",
       "  </thead>\n",
       "  <tbody>\n",
       "    <tr>\n",
       "      <th>97</th>\n",
       "      <td>170001664748</td>\n",
       "      <td>Teresina</td>\n",
       "      <td>Piauí</td>\n",
       "      <td>28.0</td>\n",
       "      <td>F</td>\n",
       "      <td>Single</td>\n",
       "      <td>Mestizo</td>\n",
       "      <td>brazilian</td>\n",
       "      <td>Teresina</td>\n",
       "      <td>PI</td>\n",
       "      <td>finished</td>\n",
       "      <td>2010</td>\n",
       "      <td>no_response</td>\n",
       "      <td>no,_student</td>\n",
       "      <td>0</td>\n",
       "      <td>0</td>\n",
       "      <td>0</td>\n",
       "      <td>Present</td>\n",
       "      <td>Absent</td>\n",
       "      <td>460.0</td>\n",
       "      <td>0.0</td>\n",
       "      <td>0.0</td>\n",
       "      <td>578.1</td>\n",
       "      <td>Spanish</td>\n",
       "      <td>Missing</td>\n",
       "      <td>0.0</td>\n",
       "      <td>high_school</td>\n",
       "      <td>high_school</td>\n",
       "      <td>skilled_white5</td>\n",
       "      <td>don't_know</td>\n",
       "      <td>3.0</td>\n",
       "      <td>1406-1874</td>\n",
       "      <td>No</td>\n",
       "      <td>Yes</td>\n",
       "      <td>No</td>\n",
       "      <td>0</td>\n",
       "      <td>Yes</td>\n",
       "      <td>1640.0</td>\n",
       "      <td>546.666667</td>\n",
       "      <td>1038.1</td>\n",
       "    </tr>\n",
       "    <tr>\n",
       "      <th>337</th>\n",
       "      <td>170003336641</td>\n",
       "      <td>Teresina</td>\n",
       "      <td>Piauí</td>\n",
       "      <td>19.0</td>\n",
       "      <td>F</td>\n",
       "      <td>Single</td>\n",
       "      <td>Asian</td>\n",
       "      <td>brazilian</td>\n",
       "      <td>Teresina</td>\n",
       "      <td>PI</td>\n",
       "      <td>finishing_after_2017</td>\n",
       "      <td>no_response</td>\n",
       "      <td>no_response</td>\n",
       "      <td>no,_student</td>\n",
       "      <td>0</td>\n",
       "      <td>0</td>\n",
       "      <td>0</td>\n",
       "      <td>Present</td>\n",
       "      <td>Absent</td>\n",
       "      <td>479.4</td>\n",
       "      <td>0.0</td>\n",
       "      <td>0.0</td>\n",
       "      <td>460.1</td>\n",
       "      <td>English</td>\n",
       "      <td>Missing</td>\n",
       "      <td>0.0</td>\n",
       "      <td>don't_know</td>\n",
       "      <td>college</td>\n",
       "      <td>don't_know</td>\n",
       "      <td>skilled_white5</td>\n",
       "      <td>7.0</td>\n",
       "      <td>2811-3748</td>\n",
       "      <td>Yes</td>\n",
       "      <td>Yes</td>\n",
       "      <td>Yes</td>\n",
       "      <td>1</td>\n",
       "      <td>Yes</td>\n",
       "      <td>3279.5</td>\n",
       "      <td>468.500000</td>\n",
       "      <td>939.5</td>\n",
       "    </tr>\n",
       "    <tr>\n",
       "      <th>543</th>\n",
       "      <td>170001663812</td>\n",
       "      <td>São Luís</td>\n",
       "      <td>Maranhão</td>\n",
       "      <td>21.0</td>\n",
       "      <td>F</td>\n",
       "      <td>Single</td>\n",
       "      <td>White</td>\n",
       "      <td>brazilian</td>\n",
       "      <td>Coroatá</td>\n",
       "      <td>MA</td>\n",
       "      <td>finished</td>\n",
       "      <td>2014</td>\n",
       "      <td>no_response</td>\n",
       "      <td>no,_student</td>\n",
       "      <td>0</td>\n",
       "      <td>0</td>\n",
       "      <td>0</td>\n",
       "      <td>Present</td>\n",
       "      <td>Absent</td>\n",
       "      <td>482.7</td>\n",
       "      <td>0.0</td>\n",
       "      <td>0.0</td>\n",
       "      <td>518.1</td>\n",
       "      <td>English</td>\n",
       "      <td>Missing</td>\n",
       "      <td>0.0</td>\n",
       "      <td>between_5th_9th</td>\n",
       "      <td>completed_9th</td>\n",
       "      <td>skilled_blue3</td>\n",
       "      <td>unskilled_blue2</td>\n",
       "      <td>4.0</td>\n",
       "      <td>0-937</td>\n",
       "      <td>No</td>\n",
       "      <td>Yes</td>\n",
       "      <td>No</td>\n",
       "      <td>0</td>\n",
       "      <td>No</td>\n",
       "      <td>468.5</td>\n",
       "      <td>117.125000</td>\n",
       "      <td>1000.8</td>\n",
       "    </tr>\n",
       "    <tr>\n",
       "      <th>644</th>\n",
       "      <td>170001672658</td>\n",
       "      <td>São Luís</td>\n",
       "      <td>Maranhão</td>\n",
       "      <td>19.0</td>\n",
       "      <td>M</td>\n",
       "      <td>Single</td>\n",
       "      <td>Mestizo</td>\n",
       "      <td>brazilian</td>\n",
       "      <td>São Luís</td>\n",
       "      <td>MA</td>\n",
       "      <td>finished</td>\n",
       "      <td>2016</td>\n",
       "      <td>no_response</td>\n",
       "      <td>no,_student</td>\n",
       "      <td>0</td>\n",
       "      <td>0</td>\n",
       "      <td>0</td>\n",
       "      <td>Present</td>\n",
       "      <td>Absent</td>\n",
       "      <td>464.2</td>\n",
       "      <td>0.0</td>\n",
       "      <td>0.0</td>\n",
       "      <td>534.8</td>\n",
       "      <td>English</td>\n",
       "      <td>Missing</td>\n",
       "      <td>0.0</td>\n",
       "      <td>high_school</td>\n",
       "      <td>high_school</td>\n",
       "      <td>skilled_blue3</td>\n",
       "      <td>unskilled_blue2</td>\n",
       "      <td>6.0</td>\n",
       "      <td>1406-1874</td>\n",
       "      <td>No</td>\n",
       "      <td>Yes</td>\n",
       "      <td>No</td>\n",
       "      <td>1</td>\n",
       "      <td>Yes</td>\n",
       "      <td>1640.0</td>\n",
       "      <td>273.333333</td>\n",
       "      <td>999.0</td>\n",
       "    </tr>\n",
       "    <tr>\n",
       "      <th>2008</th>\n",
       "      <td>170000020322</td>\n",
       "      <td>São Luís</td>\n",
       "      <td>Maranhão</td>\n",
       "      <td>32.0</td>\n",
       "      <td>M</td>\n",
       "      <td>Single</td>\n",
       "      <td>Mestizo</td>\n",
       "      <td>brazilian</td>\n",
       "      <td>Pinheiro</td>\n",
       "      <td>MA</td>\n",
       "      <td>finished</td>\n",
       "      <td>before_2007</td>\n",
       "      <td>no_response</td>\n",
       "      <td>no,_student</td>\n",
       "      <td>0</td>\n",
       "      <td>0</td>\n",
       "      <td>0</td>\n",
       "      <td>Present</td>\n",
       "      <td>Absent</td>\n",
       "      <td>495.4</td>\n",
       "      <td>0.0</td>\n",
       "      <td>0.0</td>\n",
       "      <td>454.3</td>\n",
       "      <td>Spanish</td>\n",
       "      <td>Missing</td>\n",
       "      <td>0.0</td>\n",
       "      <td>completed_9th</td>\n",
       "      <td>completed_9th</td>\n",
       "      <td>farmer1</td>\n",
       "      <td>skilled_blue3</td>\n",
       "      <td>1.0</td>\n",
       "      <td>937-1406</td>\n",
       "      <td>No</td>\n",
       "      <td>Yes</td>\n",
       "      <td>No</td>\n",
       "      <td>0</td>\n",
       "      <td>Yes</td>\n",
       "      <td>1171.5</td>\n",
       "      <td>1171.500000</td>\n",
       "      <td>949.7</td>\n",
       "    </tr>\n",
       "  </tbody>\n",
       "</table>\n",
       "</div>"
      ],
      "text/plain": [
       "      student_id_num city_of_residence state_of_residence   age sex  \\\n",
       "97      170001664748          Teresina              Piauí  28.0   F   \n",
       "337     170003336641          Teresina              Piauí  19.0   F   \n",
       "543     170001663812          São Luís           Maranhão  21.0   F   \n",
       "644     170001672658          São Luís           Maranhão  19.0   M   \n",
       "2008    170000020322          São Luís           Maranhão  32.0   M   \n",
       "\n",
       "     marital_status     race nationality birth_city_name birth_state_initials  \\\n",
       "97           Single  Mestizo   brazilian        Teresina                   PI   \n",
       "337          Single    Asian   brazilian        Teresina                   PI   \n",
       "543          Single    White   brazilian         Coroatá                   MA   \n",
       "644          Single  Mestizo   brazilian        São Luís                   MA   \n",
       "2008         Single  Mestizo   brazilian        Pinheiro                   MA   \n",
       "\n",
       "     student_hs_grad_status high_school_graduation_year      hs_type  \\\n",
       "97                 finished                        2010  no_response   \n",
       "337    finishing_after_2017                 no_response  no_response   \n",
       "543                finished                        2014  no_response   \n",
       "644                finished                        2016  no_response   \n",
       "2008               finished                 before_2007  no_response   \n",
       "\n",
       "         for_fun?  pregnant?  requested_resource?  transgender? did_ns_math?  \\\n",
       "97    no,_student          0                    0             0      Present   \n",
       "337   no,_student          0                    0             0      Present   \n",
       "543   no,_student          0                    0             0      Present   \n",
       "644   no,_student          0                    0             0      Present   \n",
       "2008  no,_student          0                    0             0      Present   \n",
       "\n",
       "     did_hs_lang?  ns_score  hs_score  lc_score  math_score  \\\n",
       "97         Absent     460.0       0.0       0.0       578.1   \n",
       "337        Absent     479.4       0.0       0.0       460.1   \n",
       "543        Absent     482.7       0.0       0.0       518.1   \n",
       "644        Absent     464.2       0.0       0.0       534.8   \n",
       "2008       Absent     495.4       0.0       0.0       454.3   \n",
       "\n",
       "     for_language_choice essay_gradable?  essay_score  \\\n",
       "97               Spanish         Missing          0.0   \n",
       "337              English         Missing          0.0   \n",
       "543              English         Missing          0.0   \n",
       "644              English         Missing          0.0   \n",
       "2008             Spanish         Missing          0.0   \n",
       "\n",
       "     dad_male_guardian_education mom_female_guardian_education  \\\n",
       "97                   high_school                   high_school   \n",
       "337                   don't_know                       college   \n",
       "543              between_5th_9th                 completed_9th   \n",
       "644                  high_school                   high_school   \n",
       "2008               completed_9th                 completed_9th   \n",
       "\n",
       "     male_occupation_class female_occupation_class  \\\n",
       "97          skilled_white5              don't_know   \n",
       "337             don't_know          skilled_white5   \n",
       "543          skilled_blue3         unskilled_blue2   \n",
       "644          skilled_blue3         unskilled_blue2   \n",
       "2008               farmer1           skilled_blue3   \n",
       "\n",
       "      number_of_housemates_include_student family_monthly_income  \\\n",
       "97                                     3.0             1406-1874   \n",
       "337                                    7.0             2811-3748   \n",
       "543                                    4.0                 0-937   \n",
       "644                                    6.0             1406-1874   \n",
       "2008                                   1.0              937-1406   \n",
       "\n",
       "     domestic_worker? home_has_bathroom? home_wash_machine?  home_computer  \\\n",
       "97                 No                Yes                 No              0   \n",
       "337               Yes                Yes                Yes              1   \n",
       "543                No                Yes                 No              0   \n",
       "644                No                Yes                 No              1   \n",
       "2008               No                Yes                 No              0   \n",
       "\n",
       "     home_has_internet?  income_avr  per_house_member_income  total_score  \n",
       "97                  Yes      1640.0               546.666667       1038.1  \n",
       "337                 Yes      3279.5               468.500000        939.5  \n",
       "543                  No       468.5               117.125000       1000.8  \n",
       "644                 Yes      1640.0               273.333333        999.0  \n",
       "2008                Yes      1171.5              1171.500000        949.7  "
      ]
     },
     "execution_count": 17,
     "metadata": {},
     "output_type": "execute_result"
    }
   ],
   "source": [
    "missing1.head()"
   ]
  },
  {
   "cell_type": "code",
   "execution_count": 18,
   "metadata": {},
   "outputs": [
    {
     "data": {
      "text/plain": [
       "(755, 40)"
      ]
     },
     "execution_count": 18,
     "metadata": {},
     "output_type": "execute_result"
    }
   ],
   "source": [
    "missing1.shape"
   ]
  },
  {
   "cell_type": "code",
   "execution_count": 19,
   "metadata": {},
   "outputs": [
    {
     "data": {
      "text/plain": [
       "(15192, 40)"
      ]
     },
     "execution_count": 19,
     "metadata": {},
     "output_type": "execute_result"
    }
   ],
   "source": [
    "missing2.shape"
   ]
  },
  {
   "cell_type": "code",
   "execution_count": 20,
   "metadata": {},
   "outputs": [
    {
     "data": {
      "text/plain": [
       "(118756, 40)"
      ]
     },
     "execution_count": 20,
     "metadata": {},
     "output_type": "execute_result"
    }
   ],
   "source": [
    "missing_both.shape"
   ]
  },
  {
   "cell_type": "code",
   "execution_count": 21,
   "metadata": {},
   "outputs": [
    {
     "data": {
      "text/html": [
       "<div>\n",
       "<style scoped>\n",
       "    .dataframe tbody tr th:only-of-type {\n",
       "        vertical-align: middle;\n",
       "    }\n",
       "\n",
       "    .dataframe tbody tr th {\n",
       "        vertical-align: top;\n",
       "    }\n",
       "\n",
       "    .dataframe thead th {\n",
       "        text-align: right;\n",
       "    }\n",
       "</style>\n",
       "<table border=\"1\" class=\"dataframe\">\n",
       "  <thead>\n",
       "    <tr style=\"text-align: right;\">\n",
       "      <th></th>\n",
       "      <th>student_id_num</th>\n",
       "      <th>city_of_residence</th>\n",
       "      <th>state_of_residence</th>\n",
       "      <th>age</th>\n",
       "      <th>sex</th>\n",
       "      <th>marital_status</th>\n",
       "      <th>race</th>\n",
       "      <th>nationality</th>\n",
       "      <th>birth_city_name</th>\n",
       "      <th>birth_state_initials</th>\n",
       "      <th>student_hs_grad_status</th>\n",
       "      <th>high_school_graduation_year</th>\n",
       "      <th>hs_type</th>\n",
       "      <th>for_fun?</th>\n",
       "      <th>pregnant?</th>\n",
       "      <th>requested_resource?</th>\n",
       "      <th>transgender?</th>\n",
       "      <th>did_ns_math?</th>\n",
       "      <th>did_hs_lang?</th>\n",
       "      <th>ns_score</th>\n",
       "      <th>hs_score</th>\n",
       "      <th>lc_score</th>\n",
       "      <th>math_score</th>\n",
       "      <th>for_language_choice</th>\n",
       "      <th>essay_gradable?</th>\n",
       "      <th>essay_score</th>\n",
       "      <th>dad_male_guardian_education</th>\n",
       "      <th>mom_female_guardian_education</th>\n",
       "      <th>male_occupation_class</th>\n",
       "      <th>female_occupation_class</th>\n",
       "      <th>number_of_housemates_include_student</th>\n",
       "      <th>family_monthly_income</th>\n",
       "      <th>domestic_worker?</th>\n",
       "      <th>home_has_bathroom?</th>\n",
       "      <th>home_wash_machine?</th>\n",
       "      <th>home_computer</th>\n",
       "      <th>home_has_internet?</th>\n",
       "      <th>income_avr</th>\n",
       "      <th>per_house_member_income</th>\n",
       "      <th>total_score</th>\n",
       "    </tr>\n",
       "  </thead>\n",
       "  <tbody>\n",
       "    <tr>\n",
       "      <th>4</th>\n",
       "      <td>170001663735</td>\n",
       "      <td>Teresina</td>\n",
       "      <td>Piauí</td>\n",
       "      <td>20.0</td>\n",
       "      <td>F</td>\n",
       "      <td>Single</td>\n",
       "      <td>Black</td>\n",
       "      <td>brazilian</td>\n",
       "      <td>Teresina</td>\n",
       "      <td>PI</td>\n",
       "      <td>finished</td>\n",
       "      <td>2016</td>\n",
       "      <td>no_response</td>\n",
       "      <td>no,_student</td>\n",
       "      <td>0</td>\n",
       "      <td>0</td>\n",
       "      <td>0</td>\n",
       "      <td>Absent</td>\n",
       "      <td>Present</td>\n",
       "      <td>0.0</td>\n",
       "      <td>496.6</td>\n",
       "      <td>544.5</td>\n",
       "      <td>0.0</td>\n",
       "      <td>Spanish</td>\n",
       "      <td>all_good</td>\n",
       "      <td>540.0</td>\n",
       "      <td>fifth_grade</td>\n",
       "      <td>high_school</td>\n",
       "      <td>skilled_blue3</td>\n",
       "      <td>unskilled_blue2</td>\n",
       "      <td>3.0</td>\n",
       "      <td>937-1406</td>\n",
       "      <td>No</td>\n",
       "      <td>Yes</td>\n",
       "      <td>No</td>\n",
       "      <td>0</td>\n",
       "      <td>No</td>\n",
       "      <td>1171.5</td>\n",
       "      <td>390.5</td>\n",
       "      <td>1581.1</td>\n",
       "    </tr>\n",
       "    <tr>\n",
       "      <th>158</th>\n",
       "      <td>170003335430</td>\n",
       "      <td>Alto Longá</td>\n",
       "      <td>Piauí</td>\n",
       "      <td>17.0</td>\n",
       "      <td>M</td>\n",
       "      <td>Single</td>\n",
       "      <td>Mestizo</td>\n",
       "      <td>brazilian</td>\n",
       "      <td>Teresina</td>\n",
       "      <td>PI</td>\n",
       "      <td>finished</td>\n",
       "      <td>2016</td>\n",
       "      <td>no_response</td>\n",
       "      <td>no,_student</td>\n",
       "      <td>0</td>\n",
       "      <td>0</td>\n",
       "      <td>0</td>\n",
       "      <td>Absent</td>\n",
       "      <td>Present</td>\n",
       "      <td>0.0</td>\n",
       "      <td>456.3</td>\n",
       "      <td>393.7</td>\n",
       "      <td>0.0</td>\n",
       "      <td>Spanish</td>\n",
       "      <td>all_good</td>\n",
       "      <td>600.0</td>\n",
       "      <td>completed_9th</td>\n",
       "      <td>completed_9th</td>\n",
       "      <td>don't_know</td>\n",
       "      <td>don't_know</td>\n",
       "      <td>3.0</td>\n",
       "      <td>937-1406</td>\n",
       "      <td>No</td>\n",
       "      <td>Yes</td>\n",
       "      <td>Yes</td>\n",
       "      <td>1</td>\n",
       "      <td>Yes</td>\n",
       "      <td>1171.5</td>\n",
       "      <td>390.5</td>\n",
       "      <td>1450.0</td>\n",
       "    </tr>\n",
       "    <tr>\n",
       "      <th>163</th>\n",
       "      <td>170003334023</td>\n",
       "      <td>Timon</td>\n",
       "      <td>Maranhão</td>\n",
       "      <td>22.0</td>\n",
       "      <td>F</td>\n",
       "      <td>Missing</td>\n",
       "      <td>no_response</td>\n",
       "      <td>brazilian</td>\n",
       "      <td>Açailândia</td>\n",
       "      <td>MA</td>\n",
       "      <td>finished</td>\n",
       "      <td>2014</td>\n",
       "      <td>no_response</td>\n",
       "      <td>no,_student</td>\n",
       "      <td>0</td>\n",
       "      <td>0</td>\n",
       "      <td>0</td>\n",
       "      <td>Absent</td>\n",
       "      <td>Present</td>\n",
       "      <td>0.0</td>\n",
       "      <td>476.5</td>\n",
       "      <td>543.4</td>\n",
       "      <td>0.0</td>\n",
       "      <td>English</td>\n",
       "      <td>all_good</td>\n",
       "      <td>620.0</td>\n",
       "      <td>high_school</td>\n",
       "      <td>high_school</td>\n",
       "      <td>skilled_blue3</td>\n",
       "      <td>skilled_blue3</td>\n",
       "      <td>6.0</td>\n",
       "      <td>no_response</td>\n",
       "      <td>No</td>\n",
       "      <td>Yes</td>\n",
       "      <td>No</td>\n",
       "      <td>1</td>\n",
       "      <td>No</td>\n",
       "      <td>0.0</td>\n",
       "      <td>0.0</td>\n",
       "      <td>1639.9</td>\n",
       "    </tr>\n",
       "    <tr>\n",
       "      <th>169</th>\n",
       "      <td>170003350423</td>\n",
       "      <td>São Luís</td>\n",
       "      <td>Maranhão</td>\n",
       "      <td>29.0</td>\n",
       "      <td>F</td>\n",
       "      <td>Single</td>\n",
       "      <td>White</td>\n",
       "      <td>brazilian</td>\n",
       "      <td>São Luís</td>\n",
       "      <td>MA</td>\n",
       "      <td>finished</td>\n",
       "      <td>before_2007</td>\n",
       "      <td>no_response</td>\n",
       "      <td>no,_student</td>\n",
       "      <td>0</td>\n",
       "      <td>0</td>\n",
       "      <td>0</td>\n",
       "      <td>Absent</td>\n",
       "      <td>Present</td>\n",
       "      <td>0.0</td>\n",
       "      <td>624.9</td>\n",
       "      <td>602.8</td>\n",
       "      <td>0.0</td>\n",
       "      <td>English</td>\n",
       "      <td>all_good</td>\n",
       "      <td>500.0</td>\n",
       "      <td>high_school</td>\n",
       "      <td>high_school</td>\n",
       "      <td>low_white4</td>\n",
       "      <td>skilled_blue3</td>\n",
       "      <td>5.0</td>\n",
       "      <td>5622-6559</td>\n",
       "      <td>No</td>\n",
       "      <td>Yes</td>\n",
       "      <td>Yes</td>\n",
       "      <td>1</td>\n",
       "      <td>Yes</td>\n",
       "      <td>6090.5</td>\n",
       "      <td>1218.1</td>\n",
       "      <td>1727.7</td>\n",
       "    </tr>\n",
       "    <tr>\n",
       "      <th>179</th>\n",
       "      <td>170001666504</td>\n",
       "      <td>Teresina</td>\n",
       "      <td>Piauí</td>\n",
       "      <td>29.0</td>\n",
       "      <td>F</td>\n",
       "      <td>Single</td>\n",
       "      <td>Mestizo</td>\n",
       "      <td>brazilian</td>\n",
       "      <td>Teresina</td>\n",
       "      <td>PI</td>\n",
       "      <td>finished</td>\n",
       "      <td>2007</td>\n",
       "      <td>no_response</td>\n",
       "      <td>no,_student</td>\n",
       "      <td>0</td>\n",
       "      <td>0</td>\n",
       "      <td>0</td>\n",
       "      <td>Absent</td>\n",
       "      <td>Present</td>\n",
       "      <td>0.0</td>\n",
       "      <td>507.2</td>\n",
       "      <td>555.7</td>\n",
       "      <td>0.0</td>\n",
       "      <td>English</td>\n",
       "      <td>all_good</td>\n",
       "      <td>600.0</td>\n",
       "      <td>fifth_grade</td>\n",
       "      <td>high_school</td>\n",
       "      <td>skilled_blue3</td>\n",
       "      <td>unskilled_blue2</td>\n",
       "      <td>5.0</td>\n",
       "      <td>937-1406</td>\n",
       "      <td>No</td>\n",
       "      <td>Yes</td>\n",
       "      <td>No</td>\n",
       "      <td>1</td>\n",
       "      <td>Yes</td>\n",
       "      <td>1171.5</td>\n",
       "      <td>234.3</td>\n",
       "      <td>1662.9</td>\n",
       "    </tr>\n",
       "  </tbody>\n",
       "</table>\n",
       "</div>"
      ],
      "text/plain": [
       "     student_id_num city_of_residence state_of_residence   age sex  \\\n",
       "4      170001663735          Teresina              Piauí  20.0   F   \n",
       "158    170003335430        Alto Longá              Piauí  17.0   M   \n",
       "163    170003334023             Timon           Maranhão  22.0   F   \n",
       "169    170003350423          São Luís           Maranhão  29.0   F   \n",
       "179    170001666504          Teresina              Piauí  29.0   F   \n",
       "\n",
       "    marital_status         race nationality birth_city_name  \\\n",
       "4           Single        Black   brazilian        Teresina   \n",
       "158         Single      Mestizo   brazilian        Teresina   \n",
       "163        Missing  no_response   brazilian      Açailândia   \n",
       "169         Single        White   brazilian        São Luís   \n",
       "179         Single      Mestizo   brazilian        Teresina   \n",
       "\n",
       "    birth_state_initials student_hs_grad_status high_school_graduation_year  \\\n",
       "4                     PI               finished                        2016   \n",
       "158                   PI               finished                        2016   \n",
       "163                   MA               finished                        2014   \n",
       "169                   MA               finished                 before_2007   \n",
       "179                   PI               finished                        2007   \n",
       "\n",
       "         hs_type     for_fun?  pregnant?  requested_resource?  transgender?  \\\n",
       "4    no_response  no,_student          0                    0             0   \n",
       "158  no_response  no,_student          0                    0             0   \n",
       "163  no_response  no,_student          0                    0             0   \n",
       "169  no_response  no,_student          0                    0             0   \n",
       "179  no_response  no,_student          0                    0             0   \n",
       "\n",
       "    did_ns_math? did_hs_lang?  ns_score  hs_score  lc_score  math_score  \\\n",
       "4         Absent      Present       0.0     496.6     544.5         0.0   \n",
       "158       Absent      Present       0.0     456.3     393.7         0.0   \n",
       "163       Absent      Present       0.0     476.5     543.4         0.0   \n",
       "169       Absent      Present       0.0     624.9     602.8         0.0   \n",
       "179       Absent      Present       0.0     507.2     555.7         0.0   \n",
       "\n",
       "    for_language_choice essay_gradable?  essay_score  \\\n",
       "4               Spanish        all_good        540.0   \n",
       "158             Spanish        all_good        600.0   \n",
       "163             English        all_good        620.0   \n",
       "169             English        all_good        500.0   \n",
       "179             English        all_good        600.0   \n",
       "\n",
       "    dad_male_guardian_education mom_female_guardian_education  \\\n",
       "4                   fifth_grade                   high_school   \n",
       "158               completed_9th                 completed_9th   \n",
       "163                 high_school                   high_school   \n",
       "169                 high_school                   high_school   \n",
       "179                 fifth_grade                   high_school   \n",
       "\n",
       "    male_occupation_class female_occupation_class  \\\n",
       "4           skilled_blue3         unskilled_blue2   \n",
       "158            don't_know              don't_know   \n",
       "163         skilled_blue3           skilled_blue3   \n",
       "169            low_white4           skilled_blue3   \n",
       "179         skilled_blue3         unskilled_blue2   \n",
       "\n",
       "     number_of_housemates_include_student family_monthly_income  \\\n",
       "4                                     3.0              937-1406   \n",
       "158                                   3.0              937-1406   \n",
       "163                                   6.0           no_response   \n",
       "169                                   5.0             5622-6559   \n",
       "179                                   5.0              937-1406   \n",
       "\n",
       "    domestic_worker? home_has_bathroom? home_wash_machine?  home_computer  \\\n",
       "4                 No                Yes                 No              0   \n",
       "158               No                Yes                Yes              1   \n",
       "163               No                Yes                 No              1   \n",
       "169               No                Yes                Yes              1   \n",
       "179               No                Yes                 No              1   \n",
       "\n",
       "    home_has_internet?  income_avr  per_house_member_income  total_score  \n",
       "4                   No      1171.5                    390.5       1581.1  \n",
       "158                Yes      1171.5                    390.5       1450.0  \n",
       "163                 No         0.0                      0.0       1639.9  \n",
       "169                Yes      6090.5                   1218.1       1727.7  \n",
       "179                Yes      1171.5                    234.3       1662.9  "
      ]
     },
     "execution_count": 21,
     "metadata": {},
     "output_type": "execute_result"
    }
   ],
   "source": [
    "missing2.head()"
   ]
  },
  {
   "cell_type": "code",
   "execution_count": null,
   "metadata": {},
   "outputs": [],
   "source": []
  },
  {
   "cell_type": "markdown",
   "metadata": {},
   "source": [
    "### v. Missing Student Conclusions"
   ]
  },
  {
   "cell_type": "markdown",
   "metadata": {},
   "source": [
    "For our analyses, we will only look at valid score results, and so have created a filtered dataframe."
   ]
  },
  {
   "cell_type": "code",
   "execution_count": 22,
   "metadata": {},
   "outputs": [],
   "source": [
    "not_missing =((pima[\"ns_score\"] != 0) & (pima[\"hs_score\"] != 0) & (pima[\"lc_score\"] != 0) & (pima[\"math_score\"] != 0))\n",
    "\n",
    "valid_pima = pima[not_missing]"
   ]
  },
  {
   "cell_type": "code",
   "execution_count": 23,
   "metadata": {},
   "outputs": [
    {
     "data": {
      "text/plain": [
       "student_id_num        300176\n",
       "city_of_residence     300176\n",
       "state_of_residence    300176\n",
       "age                   300176\n",
       "sex                   300176\n",
       "dtype: int64"
      ]
     },
     "execution_count": 23,
     "metadata": {},
     "output_type": "execute_result"
    }
   ],
   "source": [
    "valid_pima.count().head()"
   ]
  },
  {
   "cell_type": "markdown",
   "metadata": {},
   "source": [
    "## 3. Valid Data EDA"
   ]
  },
  {
   "cell_type": "markdown",
   "metadata": {},
   "source": [
    "### A. Scores"
   ]
  },
  {
   "cell_type": "code",
   "execution_count": 24,
   "metadata": {},
   "outputs": [
    {
     "data": {
      "image/png": "[encoded data removed]",
      "text/plain": [
       "<Figure size 720x576 with 1 Axes>"
      ]
     },
     "metadata": {
      "needs_background": "light"
     },
     "output_type": "display_data"
    }
   ],
   "source": [
    "valid_pima[\"total_score\"].plot(kind=\"hist\", bins=200, color=\"forestgreen\", edgecolor=\"blue\", figsize=(10,8))\n",
    "plt.ylabel(\"Number of Students\", size=16)\n",
    "plt.xticks(rotation=0)\n",
    "plt.xlabel(\"Score\", size=16)\n",
    "plt.title(\"Valid Student Score Distribution\", size=18);\n",
    " #set values between 1500 and 2000  -figure out hat determines variance "
   ]
  },
  {
   "cell_type": "code",
   "execution_count": 25,
   "metadata": {},
   "outputs": [
    {
     "data": {
      "image/png": "[encoded data removed]",
      "text/plain": [
       "<Figure size 432x288 with 1 Axes>"
      ]
     },
     "metadata": {
      "needs_background": "light"
     },
     "output_type": "display_data"
    }
   ],
   "source": [
    "valid_pima[\"ns_score\"].plot(kind=\"hist\", bins=200);"
   ]
  },
  {
   "cell_type": "code",
   "execution_count": 26,
   "metadata": {},
   "outputs": [
    {
     "data": {
      "image/png": "[encoded data removed]",
      "text/plain": [
       "<Figure size 432x288 with 1 Axes>"
      ]
     },
     "metadata": {
      "needs_background": "light"
     },
     "output_type": "display_data"
    }
   ],
   "source": [
    "valid_pima[\"hs_score\"].plot(kind=\"hist\", bins=200);"
   ]
  },
  {
   "cell_type": "code",
   "execution_count": 27,
   "metadata": {},
   "outputs": [
    {
     "data": {
      "image/png": "[encoded data removed]",
      "text/plain": [
       "<Figure size 432x288 with 1 Axes>"
      ]
     },
     "metadata": {
      "needs_background": "light"
     },
     "output_type": "display_data"
    }
   ],
   "source": [
    "valid_pima[\"lc_score\"].plot(kind=\"hist\", bins=200);"
   ]
  },
  {
   "cell_type": "code",
   "execution_count": 28,
   "metadata": {},
   "outputs": [
    {
     "data": {
      "image/png": "[encoded data removed]",
      "text/plain": [
       "<Figure size 432x288 with 1 Axes>"
      ]
     },
     "metadata": {
      "needs_background": "light"
     },
     "output_type": "display_data"
    }
   ],
   "source": [
    "valid_pima[\"math_score\"].plot(kind=\"hist\", bins=200);"
   ]
  },
  {
   "cell_type": "code",
   "execution_count": 29,
   "metadata": {},
   "outputs": [
    {
     "data": {
      "image/png": "[encoded data removed]",
      "text/plain": [
       "<Figure size 720x576 with 1 Axes>"
      ]
     },
     "metadata": {
      "needs_background": "light"
     },
     "output_type": "display_data"
    }
   ],
   "source": [
    "valid_pima[\"essay_score\"].plot(kind=\"hist\", bins=100, color=\"forestgreen\", edgecolor=\"blue\", figsize=(10,8))\n",
    "plt.ylabel(\"Number of Students\", size=16)\n",
    "plt.xticks(rotation=0)\n",
    "plt.xlabel(\"Score (Intervals of 20)\", size=16)\n",
    "plt.title(\"Valid Student Essay Score Distribution\", size=18);"
   ]
  },
  {
   "cell_type": "code",
   "execution_count": 30,
   "metadata": {},
   "outputs": [
    {
     "data": {
      "text/plain": [
       "all_good                     276722\n",
       "doesn't_respond_to_prompt     19862\n",
       "blank                          1306\n",
       "not_enough_text                1122\n",
       "disconnected_part               475\n",
       "copy of prompt                  397\n",
       "no_attention_to_type            220\n",
       "nullified                        72\n",
       "Name: essay_gradable?, dtype: int64"
      ]
     },
     "execution_count": 30,
     "metadata": {},
     "output_type": "execute_result"
    }
   ],
   "source": [
    "valid_pima[\"essay_gradable?\"].value_counts()"
   ]
  },
  {
   "cell_type": "code",
   "execution_count": 31,
   "metadata": {},
   "outputs": [
    {
     "data": {
      "text/plain": [
       "0.011966313096316827"
      ]
     },
     "execution_count": 31,
     "metadata": {},
     "output_type": "execute_result"
    }
   ],
   "source": [
    "3592/300176"
   ]
  },
  {
   "cell_type": "markdown",
   "metadata": {},
   "source": [
    "_Even after removing the incomplete scores, it seems that many students still got a zero on the essay portion. Since the essay is scored differently than the other sections, we will separate it from the combined score, what we are designating as the sum of the four area section scores._"
   ]
  },
  {
   "cell_type": "code",
   "execution_count": 32,
   "metadata": {},
   "outputs": [
    {
     "name": "stderr",
     "output_type": "stream",
     "text": [
      "C:\\Users\\602770\\AppData\\Local\\Continuum\\anaconda3\\lib\\site-packages\\ipykernel_launcher.py:1: SettingWithCopyWarning: \n",
      "A value is trying to be set on a copy of a slice from a DataFrame.\n",
      "Try using .loc[row_indexer,col_indexer] = value instead\n",
      "\n",
      "See the caveats in the documentation: http://pandas.pydata.org/pandas-docs/stable/indexing.html#indexing-view-versus-copy\n",
      "  \"\"\"Entry point for launching an IPython kernel.\n"
     ]
    }
   ],
   "source": [
    "valid_pima[\"combined_score\"] = (valid_pima[\"ns_score\"] + valid_pima[\"hs_score\"] + valid_pima[\"lc_score\"] + valid_pima[\"math_score\"])"
   ]
  },
  {
   "cell_type": "code",
   "execution_count": 33,
   "metadata": {},
   "outputs": [
    {
     "data": {
      "image/png": "[encoded data removed]",
      "text/plain": [
       "<Figure size 720x576 with 1 Axes>"
      ]
     },
     "metadata": {
      "needs_background": "light"
     },
     "output_type": "display_data"
    }
   ],
   "source": [
    "valid_pima[\"combined_score\"].plot(kind=\"hist\", bins=200, color=\"forestgreen\", figsize=(10,8), edgecolor=\"blue\")\n",
    "plt.ylabel(\"Number of Students\", size=16)\n",
    "plt.xlabel(\"Score\", size=16)\n",
    "plt.xticks(rotation=0)\n",
    "plt.title(\"Valid Student Combined Score Distribution\", size=18);"
   ]
  },
  {
   "cell_type": "code",
   "execution_count": 34,
   "metadata": {},
   "outputs": [
    {
     "data": {
      "image/png": "[encoded data removed]",
      "text/plain": [
       "<Figure size 432x288 with 1 Axes>"
      ]
     },
     "metadata": {
      "needs_background": "light"
     },
     "output_type": "display_data"
    }
   ],
   "source": [
    "valid_pima[\"combined_score\"].plot(kind=\"hist\", bins=7, edgecolor=\"blue\")\n",
    "plt.ylabel(\"Number of Students\", size=12)\n",
    "plt.xlabel(\"Score\")\n",
    "plt.xticks(rotation=0)\n",
    "plt.title(\"Valid Student Combined Score Distribution\");"
   ]
  },
  {
   "cell_type": "markdown",
   "metadata": {},
   "source": [
    "_This looks a lot more normal for a distribution of scores._"
   ]
  },
  {
   "cell_type": "markdown",
   "metadata": {},
   "source": [
    "### B. Student Demographics"
   ]
  },
  {
   "cell_type": "markdown",
   "metadata": {},
   "source": [
    "#### 1. Age"
   ]
  },
  {
   "cell_type": "code",
   "execution_count": 35,
   "metadata": {},
   "outputs": [
    {
     "data": {
      "text/plain": [
       "count    300176.000000\n",
       "mean         21.996835\n",
       "std           6.985986\n",
       "min           0.000000\n",
       "25%          18.000000\n",
       "50%          19.000000\n",
       "75%          24.000000\n",
       "max          79.000000\n",
       "Name: age, dtype: float64"
      ]
     },
     "execution_count": 35,
     "metadata": {},
     "output_type": "execute_result"
    }
   ],
   "source": [
    "valid_pima[\"age\"].describe()"
   ]
  },
  {
   "cell_type": "code",
   "execution_count": 36,
   "metadata": {},
   "outputs": [
    {
     "data": {
      "image/png": "[encoded data removed]",
      "text/plain": [
       "<Figure size 720x576 with 1 Axes>"
      ]
     },
     "metadata": {
      "needs_background": "light"
     },
     "output_type": "display_data"
    }
   ],
   "source": [
    "valid_pima[\"age\"].plot(kind=\"box\", figsize=(10,8))\n",
    "\n",
    "plt.ylabel(\"Age (years)\", size=12)\n",
    "plt.title(\"Student Age Distribution\", size=20);"
   ]
  },
  {
   "cell_type": "markdown",
   "metadata": {},
   "source": [
    "### 2. Sex"
   ]
  },
  {
   "cell_type": "code",
   "execution_count": 37,
   "metadata": {},
   "outputs": [
    {
     "data": {
      "text/plain": [
       "F    0.59701\n",
       "M    0.40299\n",
       "Name: sex, dtype: float64"
      ]
     },
     "execution_count": 37,
     "metadata": {},
     "output_type": "execute_result"
    }
   ],
   "source": [
    "valid_pima[\"sex\"].value_counts(normalize=True)"
   ]
  },
  {
   "cell_type": "code",
   "execution_count": 38,
   "metadata": {},
   "outputs": [
    {
     "data": {
      "image/png": "[encoded data removed]",
      "text/plain": [
       "<Figure size 432x288 with 1 Axes>"
      ]
     },
     "metadata": {
      "needs_background": "light"
     },
     "output_type": "display_data"
    }
   ],
   "source": [
    "valid_pima[\"sex\"].value_counts(normalize=True).plot(kind=\"bar\" );\n",
    "\n",
    "plt.ylabel(\"Percentage\", size=12)\n",
    "plt.xticks(rotation=0)\n",
    "plt.title(\"Student Sex Distribution\", size=20);"
   ]
  },
  {
   "cell_type": "code",
   "execution_count": 39,
   "metadata": {},
   "outputs": [
    {
     "data": {
      "text/plain": [
       "0    300169\n",
       "1         7\n",
       "Name: transgender?, dtype: int64"
      ]
     },
     "execution_count": 39,
     "metadata": {},
     "output_type": "execute_result"
    }
   ],
   "source": [
    "valid_pima[\"transgender?\"].value_counts()"
   ]
  },
  {
   "cell_type": "markdown",
   "metadata": {},
   "source": [
    "### 3. Cities of Residence"
   ]
  },
  {
   "cell_type": "code",
   "execution_count": 40,
   "metadata": {},
   "outputs": [
    {
     "data": {
      "image/png": "[encoded data removed]",
      "text/plain": [
       "<Figure size 432x288 with 1 Axes>"
      ]
     },
     "metadata": {
      "needs_background": "light"
     },
     "output_type": "display_data"
    }
   ],
   "source": [
    "graph = pima[\"city_of_residence\"].value_counts().head(10).plot(kind=\"barh\")\n",
    "plt.ylabel(\"City\")\n",
    "plt.xlabel(\"Number of Students\")\n",
    "plt.xticks(rotation=80);\n",
    "graph.invert_yaxis()"
   ]
  },
  {
   "cell_type": "markdown",
   "metadata": {},
   "source": [
    "### 4. Marital Status"
   ]
  },
  {
   "cell_type": "code",
   "execution_count": 41,
   "metadata": {},
   "outputs": [
    {
     "data": {
      "text/plain": [
       "Single       0.887269\n",
       "Married      0.076249\n",
       "Missing      0.027417\n",
       "Divorced     0.008039\n",
       "Widow(er)    0.001026\n",
       "Name: marital_status, dtype: float64"
      ]
     },
     "execution_count": 41,
     "metadata": {},
     "output_type": "execute_result"
    }
   ],
   "source": [
    "valid_pima[\"marital_status\"].value_counts(normalize=True)"
   ]
  },
  {
   "cell_type": "code",
   "execution_count": 42,
   "metadata": {},
   "outputs": [
    {
     "data": {
      "image/png": "[encoded data removed]",
      "text/plain": [
       "<Figure size 432x288 with 1 Axes>"
      ]
     },
     "metadata": {
      "needs_background": "light"
     },
     "output_type": "display_data"
    }
   ],
   "source": [
    "valid_pima[\"marital_status\"].value_counts(normalize=True).plot(kind=\"barh\");"
   ]
  },
  {
   "cell_type": "markdown",
   "metadata": {},
   "source": [
    "### 5. Student Origin"
   ]
  },
  {
   "cell_type": "code",
   "execution_count": 43,
   "metadata": {},
   "outputs": [
    {
     "data": {
      "text/plain": [
       "MA         0.584091\n",
       "PI         0.316451\n",
       "Missing    0.037158\n",
       "SP         0.014565\n",
       "PA         0.012939\n",
       "DF         0.007795\n",
       "CE         0.005314\n",
       "TO         0.003241\n",
       "RJ         0.002755\n",
       "PE         0.002712\n",
       "Name: birth_state_initials, dtype: float64"
      ]
     },
     "execution_count": 43,
     "metadata": {},
     "output_type": "execute_result"
    }
   ],
   "source": [
    "valid_pima[\"birth_state_initials\"].value_counts(normalize=True).head(10)"
   ]
  },
  {
   "cell_type": "code",
   "execution_count": 44,
   "metadata": {},
   "outputs": [
    {
     "data": {
      "image/png": "[encoded data removed]",
      "text/plain": [
       "<Figure size 432x288 with 1 Axes>"
      ]
     },
     "metadata": {
      "needs_background": "light"
     },
     "output_type": "display_data"
    }
   ],
   "source": [
    "valid_pima[\"birth_state_initials\"].value_counts().head(10).plot(kind=\"bar\")\n",
    "\n",
    "plt.title(\"Students Originally From Other States\")\n",
    "plt.xlabel(\"State Initial\")\n",
    "plt.xticks(rotation=30)\n",
    "plt.ylabel(\"Number of Students\");"
   ]
  },
  {
   "cell_type": "code",
   "execution_count": 45,
   "metadata": {},
   "outputs": [
    {
     "data": {
      "text/plain": [
       "brazilian             0.962842\n",
       "naturalized           0.034693\n",
       "native_born_abroad    0.001602\n",
       "foreigner             0.000476\n",
       "no_response           0.000386\n",
       "Name: nationality, dtype: float64"
      ]
     },
     "execution_count": 45,
     "metadata": {},
     "output_type": "execute_result"
    }
   ],
   "source": [
    "valid_pima[\"nationality\"].value_counts(normalize=True)"
   ]
  },
  {
   "cell_type": "code",
   "execution_count": 46,
   "metadata": {},
   "outputs": [
    {
     "data": {
      "image/png": "[encoded data removed]",
      "text/plain": [
       "<Figure size 432x288 with 1 Axes>"
      ]
     },
     "metadata": {
      "needs_background": "light"
     },
     "output_type": "display_data"
    }
   ],
   "source": [
    "valid_pima[\"nationality\"].value_counts(normalize=True).plot(kind=\"bar\")\n",
    "\n",
    "plt.title(\"Student Nationality\")\n",
    "plt.xlabel(\"Classification\")\n",
    "plt.xticks(rotation=20)\n",
    "plt.ylabel(\"Percentage of Students\");\n",
    "\n",
    "#How to scale graph "
   ]
  },
  {
   "cell_type": "markdown",
   "metadata": {},
   "source": [
    "### 6. Ethnicities/Race"
   ]
  },
  {
   "cell_type": "code",
   "execution_count": 47,
   "metadata": {},
   "outputs": [
    {
     "data": {
      "text/plain": [
       "Mestizo        0.631480\n",
       "White          0.181720\n",
       "Black          0.148819\n",
       "Asian          0.020971\n",
       "no_response    0.013182\n",
       "Native         0.003828\n",
       "Name: race, dtype: float64"
      ]
     },
     "execution_count": 47,
     "metadata": {},
     "output_type": "execute_result"
    }
   ],
   "source": [
    "valid_pima[\"race\"].value_counts(normalize=True)"
   ]
  },
  {
   "cell_type": "code",
   "execution_count": 48,
   "metadata": {},
   "outputs": [
    {
     "data": {
      "image/png": "[encoded data removed]",
      "text/plain": [
       "<Figure size 720x576 with 1 Axes>"
      ]
     },
     "metadata": {
      "needs_background": "light"
     },
     "output_type": "display_data"
    }
   ],
   "source": [
    "valid_pima[\"race\"].value_counts().plot(kind=\"bar\", figsize=(10,8))\n",
    "plt.title(\"Race of Students\", size=18)\n",
    "plt.xlabel(\"Race\", size=16)\n",
    "plt.ylabel(\"Number of Students\", size=16)\n",
    "plt.xticks(rotation=35);"
   ]
  },
  {
   "cell_type": "markdown",
   "metadata": {},
   "source": [
    "### 7. Graduation Year"
   ]
  },
  {
   "cell_type": "code",
   "execution_count": 49,
   "metadata": {},
   "outputs": [
    {
     "data": {
      "text/plain": [
       "no_response    0.382023\n",
       "2016           0.142237\n",
       "before_2007    0.100974\n",
       "2015           0.100291\n",
       "2014           0.068200\n",
       "2013           0.049411\n",
       "2012           0.038884\n",
       "2011           0.030795\n",
       "2010           0.027461\n",
       "2009           0.023066\n",
       "2008           0.018982\n",
       "2007           0.017676\n",
       "Name: high_school_graduation_year, dtype: float64"
      ]
     },
     "execution_count": 49,
     "metadata": {},
     "output_type": "execute_result"
    }
   ],
   "source": [
    "valid_pima[\"high_school_graduation_year\"].value_counts(normalize=True)"
   ]
  },
  {
   "cell_type": "code",
   "execution_count": 50,
   "metadata": {},
   "outputs": [
    {
     "data": {
      "image/png": "[encoded data removed]",
      "text/plain": [
       "<Figure size 432x288 with 1 Axes>"
      ]
     },
     "metadata": {
      "needs_background": "light"
     },
     "output_type": "display_data"
    }
   ],
   "source": [
    "valid_pima[\"high_school_graduation_year\"].value_counts(normalize=True).plot(kind=\"barh\");"
   ]
  },
  {
   "cell_type": "markdown",
   "metadata": {},
   "source": [
    "### 8. School Type of Students "
   ]
  },
  {
   "cell_type": "code",
   "execution_count": 51,
   "metadata": {},
   "outputs": [
    {
     "data": {
      "text/plain": [
       "no_response    0.735345\n",
       "public         0.229435\n",
       "private        0.034910\n",
       "foreign        0.000310\n",
       "Name: hs_type, dtype: float64"
      ]
     },
     "execution_count": 51,
     "metadata": {},
     "output_type": "execute_result"
    }
   ],
   "source": [
    "valid_pima[\"hs_type\"].value_counts(normalize=True)"
   ]
  },
  {
   "cell_type": "markdown",
   "metadata": {},
   "source": [
    "_The fact that over three quarters of students are not responding to questions regarding their schools may indicate the concern over the influence that coming from a public vs. private school has on admission. Ultimately though, students need to prove their identity and education before matriculating to a university program, so there is no concern with the response rate on this question._"
   ]
  },
  {
   "cell_type": "code",
   "execution_count": 52,
   "metadata": {},
   "outputs": [
    {
     "data": {
      "image/png": "[encoded data removed]",
      "text/plain": [
       "<Figure size 432x288 with 1 Axes>"
      ]
     },
     "metadata": {
      "needs_background": "light"
     },
     "output_type": "display_data"
    }
   ],
   "source": [
    "valid_pima[\"hs_type\"].value_counts(normalize=True).plot(kind=\"bar\")\n",
    "plt.title(\"Student School Type\")\n",
    "plt.xlabel(\"Type\")\n",
    "plt.xticks(rotation=0)\n",
    "plt.ylabel(\"Percentage of Students\");\n"
   ]
  },
  {
   "cell_type": "markdown",
   "metadata": {},
   "source": [
    "###  9. Alternative Purpose for Taking ENEM"
   ]
  },
  {
   "cell_type": "code",
   "execution_count": 53,
   "metadata": {},
   "outputs": [
    {
     "data": {
      "text/plain": [
       "no,_student        0.900382\n",
       "yes_not_student    0.099618\n",
       "Name: for_fun?, dtype: float64"
      ]
     },
     "execution_count": 53,
     "metadata": {},
     "output_type": "execute_result"
    }
   ],
   "source": [
    "valid_pima[\"for_fun?\"].value_counts(normalize=True)"
   ]
  },
  {
   "cell_type": "code",
   "execution_count": 54,
   "metadata": {},
   "outputs": [
    {
     "data": {
      "image/png": "[encoded data removed]",
      "text/plain": [
       "<Figure size 432x288 with 1 Axes>"
      ]
     },
     "metadata": {
      "needs_background": "light"
     },
     "output_type": "display_data"
    }
   ],
   "source": [
    "valid_pima[\"for_fun?\"].value_counts(normalize=True).plot(kind=\"bar\")\n",
    "plt.title(\"Test Taken for Fun?\")\n",
    "plt.ylabel(\"Percentage of Students\")\n",
    "plt.xticks(rotation=0)\n",
    "plt.xlabel(\"Student Indication\");"
   ]
  },
  {
   "cell_type": "markdown",
   "metadata": {},
   "source": [
    "## C. Student Family & Home Life Characteristics"
   ]
  },
  {
   "cell_type": "markdown",
   "metadata": {},
   "source": [
    "### 12. Internet Access"
   ]
  },
  {
   "cell_type": "code",
   "execution_count": 55,
   "metadata": {},
   "outputs": [
    {
     "data": {
      "text/plain": [
       "No     0.566947\n",
       "Yes    0.433053\n",
       "Name: home_has_internet?, dtype: float64"
      ]
     },
     "execution_count": 55,
     "metadata": {},
     "output_type": "execute_result"
    }
   ],
   "source": [
    "valid_pima[\"home_has_internet?\"].value_counts(normalize=True)"
   ]
  },
  {
   "cell_type": "code",
   "execution_count": 56,
   "metadata": {},
   "outputs": [
    {
     "data": {
      "image/png": "[encoded data removed]",
      "text/plain": [
       "<Figure size 432x288 with 1 Axes>"
      ]
     },
     "metadata": {
      "needs_background": "light"
     },
     "output_type": "display_data"
    }
   ],
   "source": [
    "valid_pima[\"home_has_internet?\"].value_counts(normalize=True).plot(kind=\"bar\")\n",
    "plt.title(\"Percentage of Student Homes with Internet\")\n",
    "plt.ylabel(\"Percentage of Students\")\n",
    "plt.xticks(rotation=0);"
   ]
  },
  {
   "cell_type": "markdown",
   "metadata": {},
   "source": [
    "### 13. Home Conditions"
   ]
  },
  {
   "cell_type": "code",
   "execution_count": 57,
   "metadata": {},
   "outputs": [
    {
     "data": {
      "text/plain": [
       "Yes    0.963375\n",
       "No     0.036625\n",
       "Name: home_has_bathroom?, dtype: float64"
      ]
     },
     "execution_count": 57,
     "metadata": {},
     "output_type": "execute_result"
    }
   ],
   "source": [
    "valid_pima[\"home_has_bathroom?\"].value_counts(normalize=True)"
   ]
  },
  {
   "cell_type": "markdown",
   "metadata": {},
   "source": [
    "_So 3.7% (need number) of students taking the exam do not have a bathroom in their house. This is low, but not low enough._"
   ]
  },
  {
   "cell_type": "code",
   "execution_count": 58,
   "metadata": {},
   "outputs": [
    {
     "data": {
      "text/plain": [
       "0    0.625157\n",
       "1    0.326722\n",
       "2    0.035926\n",
       "3    0.009125\n",
       "4    0.003072\n",
       "Name: home_computer, dtype: float64"
      ]
     },
     "execution_count": 58,
     "metadata": {},
     "output_type": "execute_result"
    }
   ],
   "source": [
    "valid_pima[\"home_computer\"].value_counts(normalize=True)"
   ]
  },
  {
   "cell_type": "markdown",
   "metadata": {},
   "source": [
    "_So 62.5% of students do not have a computer at home._"
   ]
  },
  {
   "cell_type": "code",
   "execution_count": 59,
   "metadata": {},
   "outputs": [
    {
     "data": {
      "text/plain": [
       "No     0.725381\n",
       "Yes    0.274619\n",
       "Name: home_wash_machine?, dtype: float64"
      ]
     },
     "execution_count": 59,
     "metadata": {},
     "output_type": "execute_result"
    }
   ],
   "source": [
    "valid_pima[\"home_wash_machine?\"].value_counts(normalize=True)"
   ]
  },
  {
   "cell_type": "markdown",
   "metadata": {},
   "source": [
    "_72.5% of students don't have a washing machine._"
   ]
  },
  {
   "cell_type": "markdown",
   "metadata": {},
   "source": [
    "### 14. Parental Education"
   ]
  },
  {
   "cell_type": "code",
   "execution_count": 60,
   "metadata": {},
   "outputs": [
    {
     "data": {
      "text/plain": [
       "fifth_grade        0.255640\n",
       "high_school        0.219575\n",
       "between_5th_9th    0.142919\n",
       "completed_9th      0.117624\n",
       "don't_know         0.104089\n",
       "no_education       0.094071\n",
       "college            0.040903\n",
       "graduate_degree    0.025179\n",
       "Name: dad_male_guardian_education, dtype: float64"
      ]
     },
     "execution_count": 60,
     "metadata": {},
     "output_type": "execute_result"
    }
   ],
   "source": [
    "valid_pima[\"dad_male_guardian_education\"].value_counts(normalize=True)"
   ]
  },
  {
   "cell_type": "code",
   "execution_count": 61,
   "metadata": {},
   "outputs": [
    {
     "data": {
      "image/png": "[encoded data removed]",
      "text/plain": [
       "<Figure size 720x576 with 1 Axes>"
      ]
     },
     "metadata": {
      "needs_background": "light"
     },
     "output_type": "display_data"
    }
   ],
   "source": [
    "valid_pima[\"dad_male_guardian_education\"].value_counts(normalize=True).plot(kind=\"barh\", figsize=(10,8))\n",
    "plt.title(\"Male Guardian Education\", size=18)\n",
    "plt.xlabel(\"Percentage of Male Guardians\", size=16)\n",
    "plt.xticks(rotation=50)\n",
    "plt.ylabel(\"Highest Education Completed\", size=16);"
   ]
  },
  {
   "cell_type": "code",
   "execution_count": 62,
   "metadata": {},
   "outputs": [
    {
     "data": {
      "text/plain": [
       "high_school        0.303712\n",
       "fifth_grade        0.186591\n",
       "completed_9th      0.141597\n",
       "between_5th_9th    0.135890\n",
       "college            0.072391\n",
       "no_education       0.061437\n",
       "graduate_degree    0.059385\n",
       "don't_know         0.038997\n",
       "Name: mom_female_guardian_education, dtype: float64"
      ]
     },
     "execution_count": 62,
     "metadata": {},
     "output_type": "execute_result"
    }
   ],
   "source": [
    "valid_pima[\"mom_female_guardian_education\"].value_counts(normalize=True)"
   ]
  },
  {
   "cell_type": "code",
   "execution_count": 63,
   "metadata": {},
   "outputs": [
    {
     "data": {
      "image/png": "[encoded data removed]",
      "text/plain": [
       "<Figure size 720x576 with 1 Axes>"
      ]
     },
     "metadata": {
      "needs_background": "light"
     },
     "output_type": "display_data"
    }
   ],
   "source": [
    "valid_pima[\"mom_female_guardian_education\"].value_counts(normalize=True).plot(kind=\"barh\", figsize=(10,8))\n",
    "plt.title(\"Female Guardian Education\", size=18)\n",
    "plt.xlabel(\"Percentage of Female Guardians\", size=16)\n",
    "plt.xticks(rotation=50)\n",
    "plt.ylabel(\"Highest Education Completed\", size=16);"
   ]
  },
  {
   "cell_type": "markdown",
   "metadata": {},
   "source": [
    "### 15. Socioeconomic Status"
   ]
  },
  {
   "cell_type": "code",
   "execution_count": 64,
   "metadata": {},
   "outputs": [
    {
     "data": {
      "text/plain": [
       "0-937          0.442687\n",
       "937-1406       0.219068\n",
       "no_response    0.083631\n",
       "1406-1874      0.078361\n",
       "1874-2343      0.047432\n",
       "2811-3748      0.030162\n",
       "2343-2811      0.028620\n",
       "3748-4685      0.020145\n",
       "4685-5622      0.014375\n",
       "5622-6559      0.008678\n",
       "6559-7496      0.005097\n",
       "9730-11244     0.004604\n",
       "7496-8433      0.004018\n",
       "18740+         0.003858\n",
       "8433-9370      0.003348\n",
       "11244-14055    0.003225\n",
       "14055-18740    0.002692\n",
       "Name: family_monthly_income, dtype: float64"
      ]
     },
     "execution_count": 64,
     "metadata": {},
     "output_type": "execute_result"
    }
   ],
   "source": [
    "valid_pima[\"family_monthly_income\"].value_counts(normalize=True)"
   ]
  },
  {
   "cell_type": "markdown",
   "metadata": {},
   "source": [
    "_So 44.3% of students have a family income that is at or below one minimum salary._ "
   ]
  },
  {
   "cell_type": "code",
   "execution_count": 65,
   "metadata": {},
   "outputs": [
    {
     "data": {
      "image/png": "[encoded data removed]",
      "text/plain": [
       "<Figure size 720x576 with 1 Axes>"
      ]
     },
     "metadata": {
      "needs_background": "light"
     },
     "output_type": "display_data"
    }
   ],
   "source": [
    "valid_pima[\"family_monthly_income\"].value_counts(normalize=True).plot(kind=\"barh\", figsize=(10,8))\n",
    "plt.title(\"Student Income\", size=18)\n",
    "plt.xlabel(\"Percentage of Students\", size=16)\n",
    "plt.ylabel(\"Income Bracket\", size=16);"
   ]
  },
  {
   "cell_type": "code",
   "execution_count": 66,
   "metadata": {},
   "outputs": [
    {
     "data": {
      "image/png": "[encoded data removed]",
      "text/plain": [
       "<Figure size 432x288 with 1 Axes>"
      ]
     },
     "metadata": {
      "needs_background": "light"
     },
     "output_type": "display_data"
    }
   ],
   "source": [
    "valid_pima[\"family_monthly_income\"].value_counts(normalize=True).plot(kind=\"barh\")\n",
    "plt.title(\"Student Income\")\n",
    "plt.xlabel(\"Percentage of Students\")\n",
    "plt.ylabel(\"Income Bracket\");"
   ]
  },
  {
   "cell_type": "markdown",
   "metadata": {},
   "source": [
    "### C. Feature Influence on Score Results\n"
   ]
  },
  {
   "cell_type": "code",
   "execution_count": 67,
   "metadata": {},
   "outputs": [
    {
     "data": {
      "image/png": "[encoded data removed]",
      "text/plain": [
       "<Figure size 432x288 with 2 Axes>"
      ]
     },
     "metadata": {
      "needs_background": "light"
     },
     "output_type": "display_data"
    }
   ],
   "source": [
    "sns.heatmap(valid_pima.corr(), cmap=\"coolwarm\", vmin=-1);"
   ]
  },
  {
   "cell_type": "markdown",
   "metadata": {},
   "source": [
    "_Looks like there isn't much correlation between any of the variables. Let's take a closer look.\n",
    "It should also be noted that for many of the comparisons, hypothesis tests can be conducted to see if the differences are statistically significant or not. There was not enough time to do so in the current analysis._"
   ]
  },
  {
   "cell_type": "code",
   "execution_count": 68,
   "metadata": {},
   "outputs": [
    {
     "data": {
      "text/html": [
       "<div>\n",
       "<style scoped>\n",
       "    .dataframe tbody tr th:only-of-type {\n",
       "        vertical-align: middle;\n",
       "    }\n",
       "\n",
       "    .dataframe tbody tr th {\n",
       "        vertical-align: top;\n",
       "    }\n",
       "\n",
       "    .dataframe thead tr th {\n",
       "        text-align: left;\n",
       "    }\n",
       "\n",
       "    .dataframe thead tr:last-of-type th {\n",
       "        text-align: right;\n",
       "    }\n",
       "</style>\n",
       "<table border=\"1\" class=\"dataframe\">\n",
       "  <thead>\n",
       "    <tr>\n",
       "      <th></th>\n",
       "      <th colspan=\"8\" halign=\"left\">age</th>\n",
       "      <th colspan=\"8\" halign=\"left\">ns_score</th>\n",
       "      <th colspan=\"8\" halign=\"left\">hs_score</th>\n",
       "      <th colspan=\"8\" halign=\"left\">lc_score</th>\n",
       "      <th colspan=\"8\" halign=\"left\">math_score</th>\n",
       "      <th colspan=\"8\" halign=\"left\">essay_score</th>\n",
       "    </tr>\n",
       "    <tr>\n",
       "      <th></th>\n",
       "      <th>count</th>\n",
       "      <th>mean</th>\n",
       "      <th>std</th>\n",
       "      <th>min</th>\n",
       "      <th>25%</th>\n",
       "      <th>50%</th>\n",
       "      <th>75%</th>\n",
       "      <th>max</th>\n",
       "      <th>count</th>\n",
       "      <th>mean</th>\n",
       "      <th>std</th>\n",
       "      <th>min</th>\n",
       "      <th>25%</th>\n",
       "      <th>50%</th>\n",
       "      <th>75%</th>\n",
       "      <th>max</th>\n",
       "      <th>count</th>\n",
       "      <th>mean</th>\n",
       "      <th>std</th>\n",
       "      <th>min</th>\n",
       "      <th>25%</th>\n",
       "      <th>50%</th>\n",
       "      <th>75%</th>\n",
       "      <th>max</th>\n",
       "      <th>count</th>\n",
       "      <th>mean</th>\n",
       "      <th>std</th>\n",
       "      <th>min</th>\n",
       "      <th>25%</th>\n",
       "      <th>50%</th>\n",
       "      <th>75%</th>\n",
       "      <th>max</th>\n",
       "      <th>count</th>\n",
       "      <th>mean</th>\n",
       "      <th>std</th>\n",
       "      <th>min</th>\n",
       "      <th>25%</th>\n",
       "      <th>50%</th>\n",
       "      <th>75%</th>\n",
       "      <th>max</th>\n",
       "      <th>count</th>\n",
       "      <th>mean</th>\n",
       "      <th>std</th>\n",
       "      <th>min</th>\n",
       "      <th>25%</th>\n",
       "      <th>50%</th>\n",
       "      <th>75%</th>\n",
       "      <th>max</th>\n",
       "    </tr>\n",
       "    <tr>\n",
       "      <th>nationality</th>\n",
       "      <th></th>\n",
       "      <th></th>\n",
       "      <th></th>\n",
       "      <th></th>\n",
       "      <th></th>\n",
       "      <th></th>\n",
       "      <th></th>\n",
       "      <th></th>\n",
       "      <th></th>\n",
       "      <th></th>\n",
       "      <th></th>\n",
       "      <th></th>\n",
       "      <th></th>\n",
       "      <th></th>\n",
       "      <th></th>\n",
       "      <th></th>\n",
       "      <th></th>\n",
       "      <th></th>\n",
       "      <th></th>\n",
       "      <th></th>\n",
       "      <th></th>\n",
       "      <th></th>\n",
       "      <th></th>\n",
       "      <th></th>\n",
       "      <th></th>\n",
       "      <th></th>\n",
       "      <th></th>\n",
       "      <th></th>\n",
       "      <th></th>\n",
       "      <th></th>\n",
       "      <th></th>\n",
       "      <th></th>\n",
       "      <th></th>\n",
       "      <th></th>\n",
       "      <th></th>\n",
       "      <th></th>\n",
       "      <th></th>\n",
       "      <th></th>\n",
       "      <th></th>\n",
       "      <th></th>\n",
       "      <th></th>\n",
       "      <th></th>\n",
       "      <th></th>\n",
       "      <th></th>\n",
       "      <th></th>\n",
       "      <th></th>\n",
       "      <th></th>\n",
       "      <th></th>\n",
       "    </tr>\n",
       "  </thead>\n",
       "  <tbody>\n",
       "    <tr>\n",
       "      <th>brazilian</th>\n",
       "      <td>289022.0</td>\n",
       "      <td>22.020469</td>\n",
       "      <td>7.001824</td>\n",
       "      <td>0.0</td>\n",
       "      <td>18.0</td>\n",
       "      <td>19.0</td>\n",
       "      <td>24.0</td>\n",
       "      <td>79.0</td>\n",
       "      <td>289022.0</td>\n",
       "      <td>492.585693</td>\n",
       "      <td>65.933103</td>\n",
       "      <td>298.2</td>\n",
       "      <td>441.20</td>\n",
       "      <td>486.3</td>\n",
       "      <td>537.1</td>\n",
       "      <td>839.2</td>\n",
       "      <td>289022.0</td>\n",
       "      <td>496.931936</td>\n",
       "      <td>77.999273</td>\n",
       "      <td>321.4</td>\n",
       "      <td>435.90</td>\n",
       "      <td>491.3</td>\n",
       "      <td>555.000</td>\n",
       "      <td>836.6</td>\n",
       "      <td>289022.0</td>\n",
       "      <td>488.735383</td>\n",
       "      <td>64.642760</td>\n",
       "      <td>299.6</td>\n",
       "      <td>446.100</td>\n",
       "      <td>491.2</td>\n",
       "      <td>533.70</td>\n",
       "      <td>744.8</td>\n",
       "      <td>289022.0</td>\n",
       "      <td>489.007431</td>\n",
       "      <td>91.555341</td>\n",
       "      <td>310.8</td>\n",
       "      <td>417.900</td>\n",
       "      <td>471.8</td>\n",
       "      <td>542.400</td>\n",
       "      <td>989.0</td>\n",
       "      <td>289022.0</td>\n",
       "      <td>499.914955</td>\n",
       "      <td>192.953031</td>\n",
       "      <td>0.0</td>\n",
       "      <td>420.0</td>\n",
       "      <td>520.0</td>\n",
       "      <td>600.0</td>\n",
       "      <td>1000.0</td>\n",
       "    </tr>\n",
       "    <tr>\n",
       "      <th>foreigner</th>\n",
       "      <td>143.0</td>\n",
       "      <td>22.209790</td>\n",
       "      <td>7.829030</td>\n",
       "      <td>15.0</td>\n",
       "      <td>17.0</td>\n",
       "      <td>20.0</td>\n",
       "      <td>24.0</td>\n",
       "      <td>63.0</td>\n",
       "      <td>143.0</td>\n",
       "      <td>489.360839</td>\n",
       "      <td>66.541507</td>\n",
       "      <td>378.8</td>\n",
       "      <td>430.70</td>\n",
       "      <td>485.6</td>\n",
       "      <td>542.0</td>\n",
       "      <td>638.7</td>\n",
       "      <td>143.0</td>\n",
       "      <td>500.814685</td>\n",
       "      <td>79.759384</td>\n",
       "      <td>362.1</td>\n",
       "      <td>435.60</td>\n",
       "      <td>494.3</td>\n",
       "      <td>555.200</td>\n",
       "      <td>683.2</td>\n",
       "      <td>143.0</td>\n",
       "      <td>484.438462</td>\n",
       "      <td>64.967359</td>\n",
       "      <td>338.5</td>\n",
       "      <td>436.500</td>\n",
       "      <td>491.0</td>\n",
       "      <td>529.55</td>\n",
       "      <td>607.2</td>\n",
       "      <td>143.0</td>\n",
       "      <td>489.604895</td>\n",
       "      <td>89.837659</td>\n",
       "      <td>353.5</td>\n",
       "      <td>425.200</td>\n",
       "      <td>469.8</td>\n",
       "      <td>534.650</td>\n",
       "      <td>862.2</td>\n",
       "      <td>143.0</td>\n",
       "      <td>481.958042</td>\n",
       "      <td>199.242434</td>\n",
       "      <td>0.0</td>\n",
       "      <td>420.0</td>\n",
       "      <td>520.0</td>\n",
       "      <td>600.0</td>\n",
       "      <td>820.0</td>\n",
       "    </tr>\n",
       "    <tr>\n",
       "      <th>native_born_abroad</th>\n",
       "      <td>481.0</td>\n",
       "      <td>23.690229</td>\n",
       "      <td>8.756527</td>\n",
       "      <td>14.0</td>\n",
       "      <td>18.0</td>\n",
       "      <td>20.0</td>\n",
       "      <td>26.0</td>\n",
       "      <td>64.0</td>\n",
       "      <td>481.0</td>\n",
       "      <td>485.308940</td>\n",
       "      <td>64.747934</td>\n",
       "      <td>380.9</td>\n",
       "      <td>433.30</td>\n",
       "      <td>475.1</td>\n",
       "      <td>526.3</td>\n",
       "      <td>732.5</td>\n",
       "      <td>481.0</td>\n",
       "      <td>487.457173</td>\n",
       "      <td>75.696212</td>\n",
       "      <td>335.2</td>\n",
       "      <td>427.10</td>\n",
       "      <td>481.3</td>\n",
       "      <td>539.100</td>\n",
       "      <td>724.6</td>\n",
       "      <td>481.0</td>\n",
       "      <td>483.683784</td>\n",
       "      <td>60.944240</td>\n",
       "      <td>317.2</td>\n",
       "      <td>444.500</td>\n",
       "      <td>486.1</td>\n",
       "      <td>525.80</td>\n",
       "      <td>659.8</td>\n",
       "      <td>481.0</td>\n",
       "      <td>474.254262</td>\n",
       "      <td>91.391790</td>\n",
       "      <td>353.3</td>\n",
       "      <td>405.900</td>\n",
       "      <td>456.2</td>\n",
       "      <td>516.100</td>\n",
       "      <td>929.0</td>\n",
       "      <td>481.0</td>\n",
       "      <td>473.970894</td>\n",
       "      <td>203.959328</td>\n",
       "      <td>0.0</td>\n",
       "      <td>400.0</td>\n",
       "      <td>520.0</td>\n",
       "      <td>600.0</td>\n",
       "      <td>980.0</td>\n",
       "    </tr>\n",
       "    <tr>\n",
       "      <th>naturalized</th>\n",
       "      <td>10414.0</td>\n",
       "      <td>21.274150</td>\n",
       "      <td>6.383863</td>\n",
       "      <td>13.0</td>\n",
       "      <td>18.0</td>\n",
       "      <td>19.0</td>\n",
       "      <td>22.0</td>\n",
       "      <td>72.0</td>\n",
       "      <td>10414.0</td>\n",
       "      <td>478.315978</td>\n",
       "      <td>56.595202</td>\n",
       "      <td>330.4</td>\n",
       "      <td>434.90</td>\n",
       "      <td>473.1</td>\n",
       "      <td>516.8</td>\n",
       "      <td>739.5</td>\n",
       "      <td>10414.0</td>\n",
       "      <td>477.928356</td>\n",
       "      <td>66.384302</td>\n",
       "      <td>334.7</td>\n",
       "      <td>427.40</td>\n",
       "      <td>472.9</td>\n",
       "      <td>526.700</td>\n",
       "      <td>735.4</td>\n",
       "      <td>10414.0</td>\n",
       "      <td>475.301335</td>\n",
       "      <td>55.738343</td>\n",
       "      <td>299.6</td>\n",
       "      <td>439.325</td>\n",
       "      <td>479.0</td>\n",
       "      <td>514.50</td>\n",
       "      <td>668.2</td>\n",
       "      <td>10414.0</td>\n",
       "      <td>469.665681</td>\n",
       "      <td>74.273691</td>\n",
       "      <td>324.9</td>\n",
       "      <td>411.500</td>\n",
       "      <td>457.8</td>\n",
       "      <td>515.175</td>\n",
       "      <td>925.1</td>\n",
       "      <td>10414.0</td>\n",
       "      <td>480.887267</td>\n",
       "      <td>187.794419</td>\n",
       "      <td>0.0</td>\n",
       "      <td>420.0</td>\n",
       "      <td>520.0</td>\n",
       "      <td>580.0</td>\n",
       "      <td>980.0</td>\n",
       "    </tr>\n",
       "    <tr>\n",
       "      <th>no_response</th>\n",
       "      <td>116.0</td>\n",
       "      <td>20.706897</td>\n",
       "      <td>5.335716</td>\n",
       "      <td>15.0</td>\n",
       "      <td>17.0</td>\n",
       "      <td>19.0</td>\n",
       "      <td>22.0</td>\n",
       "      <td>51.0</td>\n",
       "      <td>116.0</td>\n",
       "      <td>480.284483</td>\n",
       "      <td>57.617879</td>\n",
       "      <td>380.0</td>\n",
       "      <td>442.65</td>\n",
       "      <td>477.3</td>\n",
       "      <td>523.3</td>\n",
       "      <td>624.5</td>\n",
       "      <td>116.0</td>\n",
       "      <td>485.300000</td>\n",
       "      <td>64.071721</td>\n",
       "      <td>341.4</td>\n",
       "      <td>438.85</td>\n",
       "      <td>474.2</td>\n",
       "      <td>532.425</td>\n",
       "      <td>647.9</td>\n",
       "      <td>116.0</td>\n",
       "      <td>474.190517</td>\n",
       "      <td>63.681815</td>\n",
       "      <td>316.9</td>\n",
       "      <td>434.750</td>\n",
       "      <td>480.6</td>\n",
       "      <td>513.10</td>\n",
       "      <td>626.2</td>\n",
       "      <td>116.0</td>\n",
       "      <td>467.089655</td>\n",
       "      <td>76.535229</td>\n",
       "      <td>359.0</td>\n",
       "      <td>406.675</td>\n",
       "      <td>453.9</td>\n",
       "      <td>508.825</td>\n",
       "      <td>741.1</td>\n",
       "      <td>116.0</td>\n",
       "      <td>466.724138</td>\n",
       "      <td>198.917837</td>\n",
       "      <td>0.0</td>\n",
       "      <td>380.0</td>\n",
       "      <td>510.0</td>\n",
       "      <td>600.0</td>\n",
       "      <td>900.0</td>\n",
       "    </tr>\n",
       "  </tbody>\n",
       "</table>\n",
       "</div>"
      ],
      "text/plain": [
       "                         age                                               \\\n",
       "                       count       mean       std   min   25%   50%   75%   \n",
       "nationality                                                                 \n",
       "brazilian           289022.0  22.020469  7.001824   0.0  18.0  19.0  24.0   \n",
       "foreigner              143.0  22.209790  7.829030  15.0  17.0  20.0  24.0   \n",
       "native_born_abroad     481.0  23.690229  8.756527  14.0  18.0  20.0  26.0   \n",
       "naturalized          10414.0  21.274150  6.383863  13.0  18.0  19.0  22.0   \n",
       "no_response            116.0  20.706897  5.335716  15.0  17.0  19.0  22.0   \n",
       "\n",
       "                          ns_score                                        \\\n",
       "                     max     count        mean        std    min     25%   \n",
       "nationality                                                                \n",
       "brazilian           79.0  289022.0  492.585693  65.933103  298.2  441.20   \n",
       "foreigner           63.0     143.0  489.360839  66.541507  378.8  430.70   \n",
       "native_born_abroad  64.0     481.0  485.308940  64.747934  380.9  433.30   \n",
       "naturalized         72.0   10414.0  478.315978  56.595202  330.4  434.90   \n",
       "no_response         51.0     116.0  480.284483  57.617879  380.0  442.65   \n",
       "\n",
       "                                         hs_score                         \\\n",
       "                      50%    75%    max     count        mean        std   \n",
       "nationality                                                                \n",
       "brazilian           486.3  537.1  839.2  289022.0  496.931936  77.999273   \n",
       "foreigner           485.6  542.0  638.7     143.0  500.814685  79.759384   \n",
       "native_born_abroad  475.1  526.3  732.5     481.0  487.457173  75.696212   \n",
       "naturalized         473.1  516.8  739.5   10414.0  477.928356  66.384302   \n",
       "no_response         477.3  523.3  624.5     116.0  485.300000  64.071721   \n",
       "\n",
       "                                                          lc_score  \\\n",
       "                      min     25%    50%      75%    max     count   \n",
       "nationality                                                          \n",
       "brazilian           321.4  435.90  491.3  555.000  836.6  289022.0   \n",
       "foreigner           362.1  435.60  494.3  555.200  683.2     143.0   \n",
       "native_born_abroad  335.2  427.10  481.3  539.100  724.6     481.0   \n",
       "naturalized         334.7  427.40  472.9  526.700  735.4   10414.0   \n",
       "no_response         341.4  438.85  474.2  532.425  647.9     116.0   \n",
       "\n",
       "                                                                          \\\n",
       "                          mean        std    min      25%    50%     75%   \n",
       "nationality                                                                \n",
       "brazilian           488.735383  64.642760  299.6  446.100  491.2  533.70   \n",
       "foreigner           484.438462  64.967359  338.5  436.500  491.0  529.55   \n",
       "native_born_abroad  483.683784  60.944240  317.2  444.500  486.1  525.80   \n",
       "naturalized         475.301335  55.738343  299.6  439.325  479.0  514.50   \n",
       "no_response         474.190517  63.681815  316.9  434.750  480.6  513.10   \n",
       "\n",
       "                          math_score                                         \\\n",
       "                      max      count        mean        std    min      25%   \n",
       "nationality                                                                   \n",
       "brazilian           744.8   289022.0  489.007431  91.555341  310.8  417.900   \n",
       "foreigner           607.2      143.0  489.604895  89.837659  353.5  425.200   \n",
       "native_born_abroad  659.8      481.0  474.254262  91.391790  353.3  405.900   \n",
       "naturalized         668.2    10414.0  469.665681  74.273691  324.9  411.500   \n",
       "no_response         626.2      116.0  467.089655  76.535229  359.0  406.675   \n",
       "\n",
       "                                          essay_score                          \\\n",
       "                      50%      75%    max       count        mean         std   \n",
       "nationality                                                                     \n",
       "brazilian           471.8  542.400  989.0    289022.0  499.914955  192.953031   \n",
       "foreigner           469.8  534.650  862.2       143.0  481.958042  199.242434   \n",
       "native_born_abroad  456.2  516.100  929.0       481.0  473.970894  203.959328   \n",
       "naturalized         457.8  515.175  925.1     10414.0  480.887267  187.794419   \n",
       "no_response         453.9  508.825  741.1       116.0  466.724138  198.917837   \n",
       "\n",
       "                                                      \n",
       "                    min    25%    50%    75%     max  \n",
       "nationality                                           \n",
       "brazilian           0.0  420.0  520.0  600.0  1000.0  \n",
       "foreigner           0.0  420.0  520.0  600.0   820.0  \n",
       "native_born_abroad  0.0  400.0  520.0  600.0   980.0  \n",
       "naturalized         0.0  420.0  520.0  580.0   980.0  \n",
       "no_response         0.0  380.0  510.0  600.0   900.0  "
      ]
     },
     "execution_count": 68,
     "metadata": {},
     "output_type": "execute_result"
    }
   ],
   "source": [
    "valid_pima.groupby(\"nationality\")[\"age\", \"ns_score\", \"hs_score\", \"lc_score\", \"math_score\", \"essay_score\"].describe()"
   ]
  },
  {
   "cell_type": "code",
   "execution_count": 69,
   "metadata": {},
   "outputs": [
    {
     "data": {
      "image/png": "[encoded data removed]",
      "text/plain": [
       "<Figure size 432x288 with 1 Axes>"
      ]
     },
     "metadata": {
      "needs_background": "light"
     },
     "output_type": "display_data"
    }
   ],
   "source": [
    "valid_pima.groupby(\"nationality\")[\"total_score\"].mean().plot(kind=\"bar\")\n",
    "plt.title(\"Total Score by Nationality\")\n",
    "plt.xlabel(\"Student Nationality\")\n",
    "plt.xticks(rotation=20)\n",
    "plt.ylabel(\"Total Score\");"
   ]
  },
  {
   "cell_type": "markdown",
   "metadata": {},
   "source": [
    "_This shows that there was little variation among scores between the various nationality classifications, although foreigners tended to have slightly lower scores than native Brazilians._"
   ]
  },
  {
   "cell_type": "code",
   "execution_count": 70,
   "metadata": {
    "scrolled": true
   },
   "outputs": [
    {
     "data": {
      "image/png": "[encoded data removed]",
      "text/plain": [
       "<Figure size 432x288 with 1 Axes>"
      ]
     },
     "metadata": {
      "needs_background": "light"
     },
     "output_type": "display_data"
    }
   ],
   "source": [
    "valid_pima.groupby(\"sex\")[\"combined_score\"].mean().plot(kind=\"bar\")\n",
    "plt.title(\"Total Score by Sex\")\n",
    "plt.xlabel(\"Sex\")\n",
    "plt.xticks(rotation=0)\n",
    "plt.ylabel(\"Total Score\");"
   ]
  },
  {
   "cell_type": "markdown",
   "metadata": {},
   "source": [
    "_Male students had higher average test scores than female students.\n",
    "There are many more females taking the ENEM exam than males, about 60% to 40%._"
   ]
  },
  {
   "cell_type": "code",
   "execution_count": 71,
   "metadata": {},
   "outputs": [
    {
     "data": {
      "text/html": [
       "<div>\n",
       "<style scoped>\n",
       "    .dataframe tbody tr th:only-of-type {\n",
       "        vertical-align: middle;\n",
       "    }\n",
       "\n",
       "    .dataframe tbody tr th {\n",
       "        vertical-align: top;\n",
       "    }\n",
       "\n",
       "    .dataframe thead th {\n",
       "        text-align: right;\n",
       "    }\n",
       "</style>\n",
       "<table border=\"1\" class=\"dataframe\">\n",
       "  <thead>\n",
       "    <tr style=\"text-align: right;\">\n",
       "      <th></th>\n",
       "      <th>count</th>\n",
       "      <th>mean</th>\n",
       "      <th>std</th>\n",
       "      <th>min</th>\n",
       "      <th>25%</th>\n",
       "      <th>50%</th>\n",
       "      <th>75%</th>\n",
       "      <th>max</th>\n",
       "    </tr>\n",
       "    <tr>\n",
       "      <th>city_of_residence</th>\n",
       "      <th></th>\n",
       "      <th></th>\n",
       "      <th></th>\n",
       "      <th></th>\n",
       "      <th></th>\n",
       "      <th></th>\n",
       "      <th></th>\n",
       "      <th></th>\n",
       "    </tr>\n",
       "  </thead>\n",
       "  <tbody>\n",
       "    <tr>\n",
       "      <th>Cocal dos Alves</th>\n",
       "      <td>92.0</td>\n",
       "      <td>2219.578261</td>\n",
       "      <td>242.735037</td>\n",
       "      <td>1565.7</td>\n",
       "      <td>2067.300</td>\n",
       "      <td>2199.00</td>\n",
       "      <td>2391.300</td>\n",
       "      <td>2791.5</td>\n",
       "    </tr>\n",
       "    <tr>\n",
       "      <th>Teresina</th>\n",
       "      <td>40815.0</td>\n",
       "      <td>2060.610815</td>\n",
       "      <td>283.262009</td>\n",
       "      <td>1314.6</td>\n",
       "      <td>1846.650</td>\n",
       "      <td>2014.40</td>\n",
       "      <td>2229.850</td>\n",
       "      <td>3203.5</td>\n",
       "    </tr>\n",
       "    <tr>\n",
       "      <th>Francisco Santos</th>\n",
       "      <td>227.0</td>\n",
       "      <td>2040.881057</td>\n",
       "      <td>277.303777</td>\n",
       "      <td>1502.9</td>\n",
       "      <td>1831.750</td>\n",
       "      <td>2010.60</td>\n",
       "      <td>2218.050</td>\n",
       "      <td>2752.3</td>\n",
       "    </tr>\n",
       "    <tr>\n",
       "      <th>Imperatriz</th>\n",
       "      <td>15284.0</td>\n",
       "      <td>2017.978965</td>\n",
       "      <td>243.682154</td>\n",
       "      <td>1380.8</td>\n",
       "      <td>1834.175</td>\n",
       "      <td>1986.55</td>\n",
       "      <td>2172.425</td>\n",
       "      <td>3095.0</td>\n",
       "    </tr>\n",
       "    <tr>\n",
       "      <th>Santo Antônio de Lisboa</th>\n",
       "      <td>203.0</td>\n",
       "      <td>2013.094089</td>\n",
       "      <td>261.772101</td>\n",
       "      <td>1479.2</td>\n",
       "      <td>1827.700</td>\n",
       "      <td>1944.40</td>\n",
       "      <td>2143.350</td>\n",
       "      <td>2882.9</td>\n",
       "    </tr>\n",
       "    <tr>\n",
       "      <th>Caldeirão Grande do Piauí</th>\n",
       "      <td>53.0</td>\n",
       "      <td>2010.254717</td>\n",
       "      <td>237.474378</td>\n",
       "      <td>1619.3</td>\n",
       "      <td>1812.000</td>\n",
       "      <td>1989.30</td>\n",
       "      <td>2199.600</td>\n",
       "      <td>2556.0</td>\n",
       "    </tr>\n",
       "    <tr>\n",
       "      <th>São Luís</th>\n",
       "      <td>61932.0</td>\n",
       "      <td>2008.538725</td>\n",
       "      <td>245.341650</td>\n",
       "      <td>1370.4</td>\n",
       "      <td>1825.100</td>\n",
       "      <td>1973.30</td>\n",
       "      <td>2157.400</td>\n",
       "      <td>3188.8</td>\n",
       "    </tr>\n",
       "    <tr>\n",
       "      <th>Cocal</th>\n",
       "      <td>389.0</td>\n",
       "      <td>2005.326478</td>\n",
       "      <td>229.488338</td>\n",
       "      <td>1528.4</td>\n",
       "      <td>1827.900</td>\n",
       "      <td>1987.90</td>\n",
       "      <td>2171.000</td>\n",
       "      <td>2634.9</td>\n",
       "    </tr>\n",
       "    <tr>\n",
       "      <th>Dom Pedro</th>\n",
       "      <td>481.0</td>\n",
       "      <td>1999.546985</td>\n",
       "      <td>227.298284</td>\n",
       "      <td>1424.0</td>\n",
       "      <td>1835.600</td>\n",
       "      <td>1980.20</td>\n",
       "      <td>2139.500</td>\n",
       "      <td>2925.5</td>\n",
       "    </tr>\n",
       "    <tr>\n",
       "      <th>Parnaíba</th>\n",
       "      <td>6998.0</td>\n",
       "      <td>1998.228051</td>\n",
       "      <td>247.962470</td>\n",
       "      <td>1363.3</td>\n",
       "      <td>1814.125</td>\n",
       "      <td>1959.90</td>\n",
       "      <td>2144.800</td>\n",
       "      <td>3047.2</td>\n",
       "    </tr>\n",
       "  </tbody>\n",
       "</table>\n",
       "</div>"
      ],
      "text/plain": [
       "                             count         mean         std     min       25%  \\\n",
       "city_of_residence                                                               \n",
       "Cocal dos Alves               92.0  2219.578261  242.735037  1565.7  2067.300   \n",
       "Teresina                   40815.0  2060.610815  283.262009  1314.6  1846.650   \n",
       "Francisco Santos             227.0  2040.881057  277.303777  1502.9  1831.750   \n",
       "Imperatriz                 15284.0  2017.978965  243.682154  1380.8  1834.175   \n",
       "Santo Antônio de Lisboa      203.0  2013.094089  261.772101  1479.2  1827.700   \n",
       "Caldeirão Grande do Piauí     53.0  2010.254717  237.474378  1619.3  1812.000   \n",
       "São Luís                   61932.0  2008.538725  245.341650  1370.4  1825.100   \n",
       "Cocal                        389.0  2005.326478  229.488338  1528.4  1827.900   \n",
       "Dom Pedro                    481.0  1999.546985  227.298284  1424.0  1835.600   \n",
       "Parnaíba                    6998.0  1998.228051  247.962470  1363.3  1814.125   \n",
       "\n",
       "                               50%       75%     max  \n",
       "city_of_residence                                     \n",
       "Cocal dos Alves            2199.00  2391.300  2791.5  \n",
       "Teresina                   2014.40  2229.850  3203.5  \n",
       "Francisco Santos           2010.60  2218.050  2752.3  \n",
       "Imperatriz                 1986.55  2172.425  3095.0  \n",
       "Santo Antônio de Lisboa    1944.40  2143.350  2882.9  \n",
       "Caldeirão Grande do Piauí  1989.30  2199.600  2556.0  \n",
       "São Luís                   1973.30  2157.400  3188.8  \n",
       "Cocal                      1987.90  2171.000  2634.9  \n",
       "Dom Pedro                  1980.20  2139.500  2925.5  \n",
       "Parnaíba                   1959.90  2144.800  3047.2  "
      ]
     },
     "execution_count": 71,
     "metadata": {},
     "output_type": "execute_result"
    }
   ],
   "source": [
    "valid_pima.groupby(\"city_of_residence\")[\"combined_score\"].describe().sort_values(by=\"mean\", ascending=False).head(10) #Best Overall"
   ]
  },
  {
   "cell_type": "markdown",
   "metadata": {},
   "source": [
    "_Ten Cities with highest mean combined score._"
   ]
  },
  {
   "cell_type": "code",
   "execution_count": 72,
   "metadata": {},
   "outputs": [
    {
     "data": {
      "text/html": [
       "<div>\n",
       "<style scoped>\n",
       "    .dataframe tbody tr th:only-of-type {\n",
       "        vertical-align: middle;\n",
       "    }\n",
       "\n",
       "    .dataframe tbody tr th {\n",
       "        vertical-align: top;\n",
       "    }\n",
       "\n",
       "    .dataframe thead th {\n",
       "        text-align: right;\n",
       "    }\n",
       "</style>\n",
       "<table border=\"1\" class=\"dataframe\">\n",
       "  <thead>\n",
       "    <tr style=\"text-align: right;\">\n",
       "      <th></th>\n",
       "      <th>count</th>\n",
       "      <th>mean</th>\n",
       "      <th>std</th>\n",
       "      <th>min</th>\n",
       "      <th>25%</th>\n",
       "      <th>50%</th>\n",
       "      <th>75%</th>\n",
       "      <th>max</th>\n",
       "    </tr>\n",
       "    <tr>\n",
       "      <th>city_of_residence</th>\n",
       "      <th></th>\n",
       "      <th></th>\n",
       "      <th></th>\n",
       "      <th></th>\n",
       "      <th></th>\n",
       "      <th></th>\n",
       "      <th></th>\n",
       "      <th></th>\n",
       "    </tr>\n",
       "  </thead>\n",
       "  <tbody>\n",
       "    <tr>\n",
       "      <th>Matões do Norte</th>\n",
       "      <td>112.0</td>\n",
       "      <td>1796.353571</td>\n",
       "      <td>151.790001</td>\n",
       "      <td>1483.6</td>\n",
       "      <td>1696.725</td>\n",
       "      <td>1769.85</td>\n",
       "      <td>1884.175</td>\n",
       "      <td>2276.3</td>\n",
       "    </tr>\n",
       "    <tr>\n",
       "      <th>Lagoa Grande do Maranhão</th>\n",
       "      <td>107.0</td>\n",
       "      <td>1800.010280</td>\n",
       "      <td>161.760003</td>\n",
       "      <td>1497.6</td>\n",
       "      <td>1688.600</td>\n",
       "      <td>1771.90</td>\n",
       "      <td>1878.900</td>\n",
       "      <td>2280.1</td>\n",
       "    </tr>\n",
       "    <tr>\n",
       "      <th>Altamira do Maranhão</th>\n",
       "      <td>100.0</td>\n",
       "      <td>1803.821000</td>\n",
       "      <td>160.449918</td>\n",
       "      <td>1520.0</td>\n",
       "      <td>1697.725</td>\n",
       "      <td>1784.55</td>\n",
       "      <td>1862.125</td>\n",
       "      <td>2374.5</td>\n",
       "    </tr>\n",
       "    <tr>\n",
       "      <th>Pedro Laurentino</th>\n",
       "      <td>44.0</td>\n",
       "      <td>1806.815909</td>\n",
       "      <td>169.187613</td>\n",
       "      <td>1547.0</td>\n",
       "      <td>1675.700</td>\n",
       "      <td>1755.15</td>\n",
       "      <td>1946.525</td>\n",
       "      <td>2140.1</td>\n",
       "    </tr>\n",
       "    <tr>\n",
       "      <th>Cachoeira Grande</th>\n",
       "      <td>140.0</td>\n",
       "      <td>1807.752857</td>\n",
       "      <td>175.952509</td>\n",
       "      <td>1486.2</td>\n",
       "      <td>1681.325</td>\n",
       "      <td>1762.60</td>\n",
       "      <td>1909.450</td>\n",
       "      <td>2364.2</td>\n",
       "    </tr>\n",
       "    <tr>\n",
       "      <th>Antônio Almeida</th>\n",
       "      <td>54.0</td>\n",
       "      <td>1809.020370</td>\n",
       "      <td>182.354852</td>\n",
       "      <td>1553.5</td>\n",
       "      <td>1695.200</td>\n",
       "      <td>1765.40</td>\n",
       "      <td>1864.825</td>\n",
       "      <td>2366.6</td>\n",
       "    </tr>\n",
       "    <tr>\n",
       "      <th>Belágua</th>\n",
       "      <td>107.0</td>\n",
       "      <td>1809.079439</td>\n",
       "      <td>154.692669</td>\n",
       "      <td>1540.5</td>\n",
       "      <td>1716.350</td>\n",
       "      <td>1778.20</td>\n",
       "      <td>1876.250</td>\n",
       "      <td>2274.0</td>\n",
       "    </tr>\n",
       "    <tr>\n",
       "      <th>Monte Alegre do Piauí</th>\n",
       "      <td>203.0</td>\n",
       "      <td>1812.894089</td>\n",
       "      <td>170.495839</td>\n",
       "      <td>1475.9</td>\n",
       "      <td>1691.150</td>\n",
       "      <td>1801.40</td>\n",
       "      <td>1890.950</td>\n",
       "      <td>2838.2</td>\n",
       "    </tr>\n",
       "    <tr>\n",
       "      <th>Canavieira</th>\n",
       "      <td>30.0</td>\n",
       "      <td>1813.553333</td>\n",
       "      <td>162.473042</td>\n",
       "      <td>1577.7</td>\n",
       "      <td>1690.875</td>\n",
       "      <td>1785.45</td>\n",
       "      <td>1931.175</td>\n",
       "      <td>2168.4</td>\n",
       "    </tr>\n",
       "    <tr>\n",
       "      <th>Currais</th>\n",
       "      <td>66.0</td>\n",
       "      <td>1814.456061</td>\n",
       "      <td>172.648155</td>\n",
       "      <td>1583.4</td>\n",
       "      <td>1696.200</td>\n",
       "      <td>1766.20</td>\n",
       "      <td>1880.000</td>\n",
       "      <td>2428.9</td>\n",
       "    </tr>\n",
       "  </tbody>\n",
       "</table>\n",
       "</div>"
      ],
      "text/plain": [
       "                          count         mean         std     min       25%  \\\n",
       "city_of_residence                                                            \n",
       "Matões do Norte           112.0  1796.353571  151.790001  1483.6  1696.725   \n",
       "Lagoa Grande do Maranhão  107.0  1800.010280  161.760003  1497.6  1688.600   \n",
       "Altamira do Maranhão      100.0  1803.821000  160.449918  1520.0  1697.725   \n",
       "Pedro Laurentino           44.0  1806.815909  169.187613  1547.0  1675.700   \n",
       "Cachoeira Grande          140.0  1807.752857  175.952509  1486.2  1681.325   \n",
       "Antônio Almeida            54.0  1809.020370  182.354852  1553.5  1695.200   \n",
       "Belágua                   107.0  1809.079439  154.692669  1540.5  1716.350   \n",
       "Monte Alegre do Piauí     203.0  1812.894089  170.495839  1475.9  1691.150   \n",
       "Canavieira                 30.0  1813.553333  162.473042  1577.7  1690.875   \n",
       "Currais                    66.0  1814.456061  172.648155  1583.4  1696.200   \n",
       "\n",
       "                              50%       75%     max  \n",
       "city_of_residence                                    \n",
       "Matões do Norte           1769.85  1884.175  2276.3  \n",
       "Lagoa Grande do Maranhão  1771.90  1878.900  2280.1  \n",
       "Altamira do Maranhão      1784.55  1862.125  2374.5  \n",
       "Pedro Laurentino          1755.15  1946.525  2140.1  \n",
       "Cachoeira Grande          1762.60  1909.450  2364.2  \n",
       "Antônio Almeida           1765.40  1864.825  2366.6  \n",
       "Belágua                   1778.20  1876.250  2274.0  \n",
       "Monte Alegre do Piauí     1801.40  1890.950  2838.2  \n",
       "Canavieira                1785.45  1931.175  2168.4  \n",
       "Currais                   1766.20  1880.000  2428.9  "
      ]
     },
     "execution_count": 72,
     "metadata": {},
     "output_type": "execute_result"
    }
   ],
   "source": [
    "valid_pima.groupby(\"city_of_residence\")[\"combined_score\"].describe().sort_values(by=\"mean\").head(10) #Worst Overall"
   ]
  },
  {
   "cell_type": "markdown",
   "metadata": {},
   "source": [
    "_Ten Cities with lowest mean combined score._"
   ]
  },
  {
   "cell_type": "code",
   "execution_count": 73,
   "metadata": {},
   "outputs": [
    {
     "data": {
      "text/html": [
       "<div>\n",
       "<style scoped>\n",
       "    .dataframe tbody tr th:only-of-type {\n",
       "        vertical-align: middle;\n",
       "    }\n",
       "\n",
       "    .dataframe tbody tr th {\n",
       "        vertical-align: top;\n",
       "    }\n",
       "\n",
       "    .dataframe thead th {\n",
       "        text-align: right;\n",
       "    }\n",
       "</style>\n",
       "<table border=\"1\" class=\"dataframe\">\n",
       "  <thead>\n",
       "    <tr style=\"text-align: right;\">\n",
       "      <th></th>\n",
       "      <th>count</th>\n",
       "      <th>mean</th>\n",
       "      <th>std</th>\n",
       "      <th>min</th>\n",
       "      <th>25%</th>\n",
       "      <th>50%</th>\n",
       "      <th>75%</th>\n",
       "      <th>max</th>\n",
       "    </tr>\n",
       "    <tr>\n",
       "      <th>city_of_residence</th>\n",
       "      <th></th>\n",
       "      <th></th>\n",
       "      <th></th>\n",
       "      <th></th>\n",
       "      <th></th>\n",
       "      <th></th>\n",
       "      <th></th>\n",
       "      <th></th>\n",
       "    </tr>\n",
       "  </thead>\n",
       "  <tbody>\n",
       "    <tr>\n",
       "      <th>Cocal dos Alves</th>\n",
       "      <td>92.0</td>\n",
       "      <td>551.523913</td>\n",
       "      <td>62.864206</td>\n",
       "      <td>387.6</td>\n",
       "      <td>520.275</td>\n",
       "      <td>563.55</td>\n",
       "      <td>599.425</td>\n",
       "      <td>665.2</td>\n",
       "    </tr>\n",
       "    <tr>\n",
       "      <th>Teresina</th>\n",
       "      <td>40815.0</td>\n",
       "      <td>510.744116</td>\n",
       "      <td>74.392312</td>\n",
       "      <td>298.2</td>\n",
       "      <td>452.700</td>\n",
       "      <td>504.30</td>\n",
       "      <td>561.450</td>\n",
       "      <td>839.2</td>\n",
       "    </tr>\n",
       "    <tr>\n",
       "      <th>Imperatriz</th>\n",
       "      <td>15284.0</td>\n",
       "      <td>504.746748</td>\n",
       "      <td>68.182704</td>\n",
       "      <td>298.3</td>\n",
       "      <td>450.875</td>\n",
       "      <td>500.05</td>\n",
       "      <td>553.500</td>\n",
       "      <td>816.1</td>\n",
       "    </tr>\n",
       "    <tr>\n",
       "      <th>Landri Sales</th>\n",
       "      <td>71.0</td>\n",
       "      <td>504.098592</td>\n",
       "      <td>71.698915</td>\n",
       "      <td>381.2</td>\n",
       "      <td>453.750</td>\n",
       "      <td>492.60</td>\n",
       "      <td>557.800</td>\n",
       "      <td>644.3</td>\n",
       "    </tr>\n",
       "    <tr>\n",
       "      <th>São José do Divino</th>\n",
       "      <td>108.0</td>\n",
       "      <td>500.900000</td>\n",
       "      <td>55.707371</td>\n",
       "      <td>379.8</td>\n",
       "      <td>457.950</td>\n",
       "      <td>504.50</td>\n",
       "      <td>540.300</td>\n",
       "      <td>642.7</td>\n",
       "    </tr>\n",
       "    <tr>\n",
       "      <th>Cocal</th>\n",
       "      <td>389.0</td>\n",
       "      <td>500.874807</td>\n",
       "      <td>64.993839</td>\n",
       "      <td>385.2</td>\n",
       "      <td>446.800</td>\n",
       "      <td>496.10</td>\n",
       "      <td>549.600</td>\n",
       "      <td>679.2</td>\n",
       "    </tr>\n",
       "    <tr>\n",
       "      <th>Francisco Santos</th>\n",
       "      <td>227.0</td>\n",
       "      <td>500.670485</td>\n",
       "      <td>72.213228</td>\n",
       "      <td>378.4</td>\n",
       "      <td>446.800</td>\n",
       "      <td>495.50</td>\n",
       "      <td>555.750</td>\n",
       "      <td>714.2</td>\n",
       "    </tr>\n",
       "    <tr>\n",
       "      <th>Parnaíba</th>\n",
       "      <td>6998.0</td>\n",
       "      <td>500.507859</td>\n",
       "      <td>67.555490</td>\n",
       "      <td>323.6</td>\n",
       "      <td>448.100</td>\n",
       "      <td>494.60</td>\n",
       "      <td>547.900</td>\n",
       "      <td>778.3</td>\n",
       "    </tr>\n",
       "    <tr>\n",
       "      <th>São Luís</th>\n",
       "      <td>61932.0</td>\n",
       "      <td>500.135357</td>\n",
       "      <td>67.022721</td>\n",
       "      <td>303.3</td>\n",
       "      <td>447.900</td>\n",
       "      <td>494.30</td>\n",
       "      <td>546.900</td>\n",
       "      <td>771.0</td>\n",
       "    </tr>\n",
       "    <tr>\n",
       "      <th>Pedreiras</th>\n",
       "      <td>1054.0</td>\n",
       "      <td>498.429791</td>\n",
       "      <td>65.462640</td>\n",
       "      <td>375.3</td>\n",
       "      <td>445.825</td>\n",
       "      <td>495.50</td>\n",
       "      <td>545.500</td>\n",
       "      <td>732.4</td>\n",
       "    </tr>\n",
       "  </tbody>\n",
       "</table>\n",
       "</div>"
      ],
      "text/plain": [
       "                      count        mean        std    min      25%     50%  \\\n",
       "city_of_residence                                                            \n",
       "Cocal dos Alves        92.0  551.523913  62.864206  387.6  520.275  563.55   \n",
       "Teresina            40815.0  510.744116  74.392312  298.2  452.700  504.30   \n",
       "Imperatriz          15284.0  504.746748  68.182704  298.3  450.875  500.05   \n",
       "Landri Sales           71.0  504.098592  71.698915  381.2  453.750  492.60   \n",
       "São José do Divino    108.0  500.900000  55.707371  379.8  457.950  504.50   \n",
       "Cocal                 389.0  500.874807  64.993839  385.2  446.800  496.10   \n",
       "Francisco Santos      227.0  500.670485  72.213228  378.4  446.800  495.50   \n",
       "Parnaíba             6998.0  500.507859  67.555490  323.6  448.100  494.60   \n",
       "São Luís            61932.0  500.135357  67.022721  303.3  447.900  494.30   \n",
       "Pedreiras            1054.0  498.429791  65.462640  375.3  445.825  495.50   \n",
       "\n",
       "                        75%    max  \n",
       "city_of_residence                   \n",
       "Cocal dos Alves     599.425  665.2  \n",
       "Teresina            561.450  839.2  \n",
       "Imperatriz          553.500  816.1  \n",
       "Landri Sales        557.800  644.3  \n",
       "São José do Divino  540.300  642.7  \n",
       "Cocal               549.600  679.2  \n",
       "Francisco Santos    555.750  714.2  \n",
       "Parnaíba            547.900  778.3  \n",
       "São Luís            546.900  771.0  \n",
       "Pedreiras           545.500  732.4  "
      ]
     },
     "execution_count": 73,
     "metadata": {},
     "output_type": "execute_result"
    }
   ],
   "source": [
    "valid_pima.groupby(\"city_of_residence\")[\"ns_score\"].describe().sort_values(by=\"mean\", ascending=False).head(10)"
   ]
  },
  {
   "cell_type": "markdown",
   "metadata": {},
   "source": [
    "_Example of best 10 cities by average Natural Science score. Interesting to see the smaller cities that have very good average scores._ "
   ]
  },
  {
   "cell_type": "code",
   "execution_count": 74,
   "metadata": {},
   "outputs": [
    {
     "data": {
      "text/html": [
       "<div>\n",
       "<style scoped>\n",
       "    .dataframe tbody tr th:only-of-type {\n",
       "        vertical-align: middle;\n",
       "    }\n",
       "\n",
       "    .dataframe tbody tr th {\n",
       "        vertical-align: top;\n",
       "    }\n",
       "\n",
       "    .dataframe thead th {\n",
       "        text-align: right;\n",
       "    }\n",
       "</style>\n",
       "<table border=\"1\" class=\"dataframe\">\n",
       "  <thead>\n",
       "    <tr style=\"text-align: right;\">\n",
       "      <th></th>\n",
       "      <th>count</th>\n",
       "      <th>mean</th>\n",
       "      <th>std</th>\n",
       "      <th>min</th>\n",
       "      <th>25%</th>\n",
       "      <th>50%</th>\n",
       "      <th>75%</th>\n",
       "      <th>max</th>\n",
       "    </tr>\n",
       "    <tr>\n",
       "      <th>city_of_residence</th>\n",
       "      <th></th>\n",
       "      <th></th>\n",
       "      <th></th>\n",
       "      <th></th>\n",
       "      <th></th>\n",
       "      <th></th>\n",
       "      <th></th>\n",
       "      <th></th>\n",
       "    </tr>\n",
       "  </thead>\n",
       "  <tbody>\n",
       "    <tr>\n",
       "      <th>Passagem Franca do Piauí</th>\n",
       "      <td>45.0</td>\n",
       "      <td>444.768889</td>\n",
       "      <td>44.001197</td>\n",
       "      <td>387.1</td>\n",
       "      <td>405.100</td>\n",
       "      <td>432.40</td>\n",
       "      <td>464.800</td>\n",
       "      <td>545.3</td>\n",
       "    </tr>\n",
       "    <tr>\n",
       "      <th>Pedro Laurentino</th>\n",
       "      <td>44.0</td>\n",
       "      <td>450.927273</td>\n",
       "      <td>46.751408</td>\n",
       "      <td>382.8</td>\n",
       "      <td>412.025</td>\n",
       "      <td>438.15</td>\n",
       "      <td>483.575</td>\n",
       "      <td>554.4</td>\n",
       "    </tr>\n",
       "    <tr>\n",
       "      <th>Matões do Norte</th>\n",
       "      <td>112.0</td>\n",
       "      <td>454.410714</td>\n",
       "      <td>52.595977</td>\n",
       "      <td>377.6</td>\n",
       "      <td>411.650</td>\n",
       "      <td>447.40</td>\n",
       "      <td>484.600</td>\n",
       "      <td>587.9</td>\n",
       "    </tr>\n",
       "    <tr>\n",
       "      <th>Curral Novo do Piauí</th>\n",
       "      <td>37.0</td>\n",
       "      <td>458.367568</td>\n",
       "      <td>52.024028</td>\n",
       "      <td>385.6</td>\n",
       "      <td>412.800</td>\n",
       "      <td>452.50</td>\n",
       "      <td>496.600</td>\n",
       "      <td>580.4</td>\n",
       "    </tr>\n",
       "    <tr>\n",
       "      <th>Lagoa Grande do Maranhão</th>\n",
       "      <td>107.0</td>\n",
       "      <td>458.659813</td>\n",
       "      <td>49.590384</td>\n",
       "      <td>377.7</td>\n",
       "      <td>418.850</td>\n",
       "      <td>457.20</td>\n",
       "      <td>489.700</td>\n",
       "      <td>600.0</td>\n",
       "    </tr>\n",
       "    <tr>\n",
       "      <th>Altamira do Maranhão</th>\n",
       "      <td>100.0</td>\n",
       "      <td>458.698000</td>\n",
       "      <td>50.884154</td>\n",
       "      <td>375.1</td>\n",
       "      <td>416.175</td>\n",
       "      <td>457.15</td>\n",
       "      <td>490.175</td>\n",
       "      <td>617.3</td>\n",
       "    </tr>\n",
       "    <tr>\n",
       "      <th>Sebastião Barros</th>\n",
       "      <td>82.0</td>\n",
       "      <td>459.331707</td>\n",
       "      <td>51.338095</td>\n",
       "      <td>377.6</td>\n",
       "      <td>419.250</td>\n",
       "      <td>442.05</td>\n",
       "      <td>504.225</td>\n",
       "      <td>577.2</td>\n",
       "    </tr>\n",
       "    <tr>\n",
       "      <th>Afonso Cunha</th>\n",
       "      <td>68.0</td>\n",
       "      <td>459.482353</td>\n",
       "      <td>47.956653</td>\n",
       "      <td>377.5</td>\n",
       "      <td>417.950</td>\n",
       "      <td>460.55</td>\n",
       "      <td>495.775</td>\n",
       "      <td>576.6</td>\n",
       "    </tr>\n",
       "    <tr>\n",
       "      <th>Nova Santa Rita</th>\n",
       "      <td>66.0</td>\n",
       "      <td>459.484848</td>\n",
       "      <td>54.409759</td>\n",
       "      <td>376.9</td>\n",
       "      <td>413.825</td>\n",
       "      <td>452.20</td>\n",
       "      <td>497.750</td>\n",
       "      <td>607.5</td>\n",
       "    </tr>\n",
       "    <tr>\n",
       "      <th>Alvorada do Gurguéia</th>\n",
       "      <td>100.0</td>\n",
       "      <td>459.561000</td>\n",
       "      <td>53.804691</td>\n",
       "      <td>379.3</td>\n",
       "      <td>417.500</td>\n",
       "      <td>450.15</td>\n",
       "      <td>491.775</td>\n",
       "      <td>580.4</td>\n",
       "    </tr>\n",
       "  </tbody>\n",
       "</table>\n",
       "</div>"
      ],
      "text/plain": [
       "                          count        mean        std    min      25%  \\\n",
       "city_of_residence                                                        \n",
       "Passagem Franca do Piauí   45.0  444.768889  44.001197  387.1  405.100   \n",
       "Pedro Laurentino           44.0  450.927273  46.751408  382.8  412.025   \n",
       "Matões do Norte           112.0  454.410714  52.595977  377.6  411.650   \n",
       "Curral Novo do Piauí       37.0  458.367568  52.024028  385.6  412.800   \n",
       "Lagoa Grande do Maranhão  107.0  458.659813  49.590384  377.7  418.850   \n",
       "Altamira do Maranhão      100.0  458.698000  50.884154  375.1  416.175   \n",
       "Sebastião Barros           82.0  459.331707  51.338095  377.6  419.250   \n",
       "Afonso Cunha               68.0  459.482353  47.956653  377.5  417.950   \n",
       "Nova Santa Rita            66.0  459.484848  54.409759  376.9  413.825   \n",
       "Alvorada do Gurguéia      100.0  459.561000  53.804691  379.3  417.500   \n",
       "\n",
       "                             50%      75%    max  \n",
       "city_of_residence                                 \n",
       "Passagem Franca do Piauí  432.40  464.800  545.3  \n",
       "Pedro Laurentino          438.15  483.575  554.4  \n",
       "Matões do Norte           447.40  484.600  587.9  \n",
       "Curral Novo do Piauí      452.50  496.600  580.4  \n",
       "Lagoa Grande do Maranhão  457.20  489.700  600.0  \n",
       "Altamira do Maranhão      457.15  490.175  617.3  \n",
       "Sebastião Barros          442.05  504.225  577.2  \n",
       "Afonso Cunha              460.55  495.775  576.6  \n",
       "Nova Santa Rita           452.20  497.750  607.5  \n",
       "Alvorada do Gurguéia      450.15  491.775  580.4  "
      ]
     },
     "execution_count": 74,
     "metadata": {},
     "output_type": "execute_result"
    }
   ],
   "source": [
    "valid_pima.groupby(\"city_of_residence\")[\"ns_score\"].describe().sort_values(by=\"mean\", ascending=True).head(10)"
   ]
  },
  {
   "cell_type": "markdown",
   "metadata": {},
   "source": [
    "_And on the flipside, the 10 worst-performing cities by Natural Science score.\n",
    "It would interesting to know schools are federal, state, and locally run, and whether they are public or private._"
   ]
  },
  {
   "cell_type": "code",
   "execution_count": 75,
   "metadata": {},
   "outputs": [
    {
     "data": {
      "text/html": [
       "<div>\n",
       "<style scoped>\n",
       "    .dataframe tbody tr th:only-of-type {\n",
       "        vertical-align: middle;\n",
       "    }\n",
       "\n",
       "    .dataframe tbody tr th {\n",
       "        vertical-align: top;\n",
       "    }\n",
       "\n",
       "    .dataframe thead th {\n",
       "        text-align: right;\n",
       "    }\n",
       "</style>\n",
       "<table border=\"1\" class=\"dataframe\">\n",
       "  <thead>\n",
       "    <tr style=\"text-align: right;\">\n",
       "      <th></th>\n",
       "      <th>age</th>\n",
       "      <th>ns_score</th>\n",
       "      <th>hs_score</th>\n",
       "      <th>lc_score</th>\n",
       "      <th>math_score</th>\n",
       "      <th>essay_score</th>\n",
       "      <th>combined_score</th>\n",
       "    </tr>\n",
       "  </thead>\n",
       "  <tbody>\n",
       "    <tr>\n",
       "      <th>count</th>\n",
       "      <td>300176.000000</td>\n",
       "      <td>300176.000000</td>\n",
       "      <td>300176.000000</td>\n",
       "      <td>300176.000000</td>\n",
       "      <td>300176.000000</td>\n",
       "      <td>300176.000000</td>\n",
       "      <td>300176.000000</td>\n",
       "    </tr>\n",
       "    <tr>\n",
       "      <th>mean</th>\n",
       "      <td>21.996835</td>\n",
       "      <td>492.072684</td>\n",
       "      <td>496.254817</td>\n",
       "      <td>488.253553</td>\n",
       "      <td>488.304582</td>\n",
       "      <td>499.191874</td>\n",
       "      <td>1964.885636</td>\n",
       "    </tr>\n",
       "    <tr>\n",
       "      <th>std</th>\n",
       "      <td>6.985986</td>\n",
       "      <td>65.679311</td>\n",
       "      <td>77.696276</td>\n",
       "      <td>64.395935</td>\n",
       "      <td>91.075309</td>\n",
       "      <td>192.834086</td>\n",
       "      <td>240.722247</td>\n",
       "    </tr>\n",
       "    <tr>\n",
       "      <th>min</th>\n",
       "      <td>0.000000</td>\n",
       "      <td>298.200000</td>\n",
       "      <td>321.400000</td>\n",
       "      <td>299.600000</td>\n",
       "      <td>310.800000</td>\n",
       "      <td>0.000000</td>\n",
       "      <td>1314.600000</td>\n",
       "    </tr>\n",
       "    <tr>\n",
       "      <th>25%</th>\n",
       "      <td>18.000000</td>\n",
       "      <td>440.900000</td>\n",
       "      <td>435.600000</td>\n",
       "      <td>445.800000</td>\n",
       "      <td>417.600000</td>\n",
       "      <td>420.000000</td>\n",
       "      <td>1786.300000</td>\n",
       "    </tr>\n",
       "    <tr>\n",
       "      <th>50%</th>\n",
       "      <td>19.000000</td>\n",
       "      <td>485.700000</td>\n",
       "      <td>490.500000</td>\n",
       "      <td>490.700000</td>\n",
       "      <td>471.200000</td>\n",
       "      <td>520.000000</td>\n",
       "      <td>1924.400000</td>\n",
       "    </tr>\n",
       "    <tr>\n",
       "      <th>75%</th>\n",
       "      <td>24.000000</td>\n",
       "      <td>536.300000</td>\n",
       "      <td>553.900000</td>\n",
       "      <td>532.900000</td>\n",
       "      <td>541.200000</td>\n",
       "      <td>600.000000</td>\n",
       "      <td>2104.800000</td>\n",
       "    </tr>\n",
       "    <tr>\n",
       "      <th>max</th>\n",
       "      <td>79.000000</td>\n",
       "      <td>839.200000</td>\n",
       "      <td>836.600000</td>\n",
       "      <td>744.800000</td>\n",
       "      <td>989.000000</td>\n",
       "      <td>1000.000000</td>\n",
       "      <td>3203.500000</td>\n",
       "    </tr>\n",
       "  </tbody>\n",
       "</table>\n",
       "</div>"
      ],
      "text/plain": [
       "                 age       ns_score       hs_score       lc_score  \\\n",
       "count  300176.000000  300176.000000  300176.000000  300176.000000   \n",
       "mean       21.996835     492.072684     496.254817     488.253553   \n",
       "std         6.985986      65.679311      77.696276      64.395935   \n",
       "min         0.000000     298.200000     321.400000     299.600000   \n",
       "25%        18.000000     440.900000     435.600000     445.800000   \n",
       "50%        19.000000     485.700000     490.500000     490.700000   \n",
       "75%        24.000000     536.300000     553.900000     532.900000   \n",
       "max        79.000000     839.200000     836.600000     744.800000   \n",
       "\n",
       "          math_score    essay_score  combined_score  \n",
       "count  300176.000000  300176.000000   300176.000000  \n",
       "mean      488.304582     499.191874     1964.885636  \n",
       "std        91.075309     192.834086      240.722247  \n",
       "min       310.800000       0.000000     1314.600000  \n",
       "25%       417.600000     420.000000     1786.300000  \n",
       "50%       471.200000     520.000000     1924.400000  \n",
       "75%       541.200000     600.000000     2104.800000  \n",
       "max       989.000000    1000.000000     3203.500000  "
      ]
     },
     "execution_count": 75,
     "metadata": {},
     "output_type": "execute_result"
    }
   ],
   "source": [
    "valid_pima.loc[:,[\"age\", \"ns_score\", \"hs_score\", \"lc_score\", \"math_score\", \"essay_score\", \"combined_score\"]].describe()"
   ]
  },
  {
   "cell_type": "markdown",
   "metadata": {},
   "source": [
    "_This is the overall average score, which could be used as a baseline to measure how decently a city is doing compared to the overall average._"
   ]
  },
  {
   "cell_type": "code",
   "execution_count": 76,
   "metadata": {},
   "outputs": [
    {
     "data": {
      "text/html": [
       "<div>\n",
       "<style scoped>\n",
       "    .dataframe tbody tr th:only-of-type {\n",
       "        vertical-align: middle;\n",
       "    }\n",
       "\n",
       "    .dataframe tbody tr th {\n",
       "        vertical-align: top;\n",
       "    }\n",
       "\n",
       "    .dataframe thead tr th {\n",
       "        text-align: left;\n",
       "    }\n",
       "\n",
       "    .dataframe thead tr:last-of-type th {\n",
       "        text-align: right;\n",
       "    }\n",
       "</style>\n",
       "<table border=\"1\" class=\"dataframe\">\n",
       "  <thead>\n",
       "    <tr>\n",
       "      <th></th>\n",
       "      <th colspan=\"8\" halign=\"left\">age</th>\n",
       "      <th colspan=\"8\" halign=\"left\">ns_score</th>\n",
       "      <th colspan=\"8\" halign=\"left\">hs_score</th>\n",
       "      <th colspan=\"8\" halign=\"left\">lc_score</th>\n",
       "      <th colspan=\"8\" halign=\"left\">math_score</th>\n",
       "      <th colspan=\"8\" halign=\"left\">essay_score</th>\n",
       "      <th colspan=\"8\" halign=\"left\">combined_score</th>\n",
       "    </tr>\n",
       "    <tr>\n",
       "      <th></th>\n",
       "      <th>count</th>\n",
       "      <th>mean</th>\n",
       "      <th>std</th>\n",
       "      <th>min</th>\n",
       "      <th>25%</th>\n",
       "      <th>50%</th>\n",
       "      <th>75%</th>\n",
       "      <th>max</th>\n",
       "      <th>count</th>\n",
       "      <th>mean</th>\n",
       "      <th>std</th>\n",
       "      <th>min</th>\n",
       "      <th>25%</th>\n",
       "      <th>50%</th>\n",
       "      <th>75%</th>\n",
       "      <th>max</th>\n",
       "      <th>count</th>\n",
       "      <th>mean</th>\n",
       "      <th>std</th>\n",
       "      <th>min</th>\n",
       "      <th>25%</th>\n",
       "      <th>50%</th>\n",
       "      <th>75%</th>\n",
       "      <th>max</th>\n",
       "      <th>count</th>\n",
       "      <th>mean</th>\n",
       "      <th>std</th>\n",
       "      <th>min</th>\n",
       "      <th>25%</th>\n",
       "      <th>50%</th>\n",
       "      <th>75%</th>\n",
       "      <th>max</th>\n",
       "      <th>count</th>\n",
       "      <th>mean</th>\n",
       "      <th>std</th>\n",
       "      <th>min</th>\n",
       "      <th>25%</th>\n",
       "      <th>50%</th>\n",
       "      <th>75%</th>\n",
       "      <th>max</th>\n",
       "      <th>count</th>\n",
       "      <th>mean</th>\n",
       "      <th>std</th>\n",
       "      <th>min</th>\n",
       "      <th>25%</th>\n",
       "      <th>50%</th>\n",
       "      <th>75%</th>\n",
       "      <th>max</th>\n",
       "      <th>count</th>\n",
       "      <th>mean</th>\n",
       "      <th>std</th>\n",
       "      <th>min</th>\n",
       "      <th>25%</th>\n",
       "      <th>50%</th>\n",
       "      <th>75%</th>\n",
       "      <th>max</th>\n",
       "    </tr>\n",
       "    <tr>\n",
       "      <th>state_of_residence</th>\n",
       "      <th></th>\n",
       "      <th></th>\n",
       "      <th></th>\n",
       "      <th></th>\n",
       "      <th></th>\n",
       "      <th></th>\n",
       "      <th></th>\n",
       "      <th></th>\n",
       "      <th></th>\n",
       "      <th></th>\n",
       "      <th></th>\n",
       "      <th></th>\n",
       "      <th></th>\n",
       "      <th></th>\n",
       "      <th></th>\n",
       "      <th></th>\n",
       "      <th></th>\n",
       "      <th></th>\n",
       "      <th></th>\n",
       "      <th></th>\n",
       "      <th></th>\n",
       "      <th></th>\n",
       "      <th></th>\n",
       "      <th></th>\n",
       "      <th></th>\n",
       "      <th></th>\n",
       "      <th></th>\n",
       "      <th></th>\n",
       "      <th></th>\n",
       "      <th></th>\n",
       "      <th></th>\n",
       "      <th></th>\n",
       "      <th></th>\n",
       "      <th></th>\n",
       "      <th></th>\n",
       "      <th></th>\n",
       "      <th></th>\n",
       "      <th></th>\n",
       "      <th></th>\n",
       "      <th></th>\n",
       "      <th></th>\n",
       "      <th></th>\n",
       "      <th></th>\n",
       "      <th></th>\n",
       "      <th></th>\n",
       "      <th></th>\n",
       "      <th></th>\n",
       "      <th></th>\n",
       "      <th></th>\n",
       "      <th></th>\n",
       "      <th></th>\n",
       "      <th></th>\n",
       "      <th></th>\n",
       "      <th></th>\n",
       "      <th></th>\n",
       "      <th></th>\n",
       "    </tr>\n",
       "  </thead>\n",
       "  <tbody>\n",
       "    <tr>\n",
       "      <th>Maranhão</th>\n",
       "      <td>194994.0</td>\n",
       "      <td>21.904074</td>\n",
       "      <td>6.823627</td>\n",
       "      <td>0.0</td>\n",
       "      <td>18.0</td>\n",
       "      <td>19.0</td>\n",
       "      <td>24.0</td>\n",
       "      <td>75.0</td>\n",
       "      <td>194994.0</td>\n",
       "      <td>490.159217</td>\n",
       "      <td>63.946089</td>\n",
       "      <td>298.3</td>\n",
       "      <td>440.3</td>\n",
       "      <td>484.10</td>\n",
       "      <td>533.7</td>\n",
       "      <td>816.1</td>\n",
       "      <td>194994.0</td>\n",
       "      <td>494.02265</td>\n",
       "      <td>76.224127</td>\n",
       "      <td>325.5</td>\n",
       "      <td>434.5</td>\n",
       "      <td>488.6</td>\n",
       "      <td>550.8</td>\n",
       "      <td>836.6</td>\n",
       "      <td>194994.0</td>\n",
       "      <td>487.026659</td>\n",
       "      <td>63.664914</td>\n",
       "      <td>299.6</td>\n",
       "      <td>445.3</td>\n",
       "      <td>490.1</td>\n",
       "      <td>531.4</td>\n",
       "      <td>744.8</td>\n",
       "      <td>194994.0</td>\n",
       "      <td>484.000095</td>\n",
       "      <td>86.583543</td>\n",
       "      <td>310.8</td>\n",
       "      <td>416.2</td>\n",
       "      <td>468.4</td>\n",
       "      <td>535.8</td>\n",
       "      <td>975.8</td>\n",
       "      <td>194994.0</td>\n",
       "      <td>491.654615</td>\n",
       "      <td>193.664930</td>\n",
       "      <td>0.0</td>\n",
       "      <td>420.0</td>\n",
       "      <td>520.0</td>\n",
       "      <td>600.0</td>\n",
       "      <td>980.0</td>\n",
       "      <td>194994.0</td>\n",
       "      <td>1955.208621</td>\n",
       "      <td>230.625552</td>\n",
       "      <td>1362.3</td>\n",
       "      <td>1783.7</td>\n",
       "      <td>1918.7</td>\n",
       "      <td>2092.6</td>\n",
       "      <td>3188.8</td>\n",
       "    </tr>\n",
       "    <tr>\n",
       "      <th>Piauí</th>\n",
       "      <td>105182.0</td>\n",
       "      <td>22.168803</td>\n",
       "      <td>7.274307</td>\n",
       "      <td>0.0</td>\n",
       "      <td>18.0</td>\n",
       "      <td>19.0</td>\n",
       "      <td>24.0</td>\n",
       "      <td>79.0</td>\n",
       "      <td>105182.0</td>\n",
       "      <td>495.620006</td>\n",
       "      <td>68.636378</td>\n",
       "      <td>298.2</td>\n",
       "      <td>442.1</td>\n",
       "      <td>488.85</td>\n",
       "      <td>541.3</td>\n",
       "      <td>839.2</td>\n",
       "      <td>105182.0</td>\n",
       "      <td>500.39297</td>\n",
       "      <td>80.190305</td>\n",
       "      <td>321.4</td>\n",
       "      <td>437.5</td>\n",
       "      <td>494.6</td>\n",
       "      <td>559.9</td>\n",
       "      <td>815.3</td>\n",
       "      <td>105182.0</td>\n",
       "      <td>490.528059</td>\n",
       "      <td>65.669347</td>\n",
       "      <td>299.6</td>\n",
       "      <td>446.6</td>\n",
       "      <td>491.9</td>\n",
       "      <td>536.1</td>\n",
       "      <td>737.1</td>\n",
       "      <td>105182.0</td>\n",
       "      <td>496.284552</td>\n",
       "      <td>98.367476</td>\n",
       "      <td>326.9</td>\n",
       "      <td>420.5</td>\n",
       "      <td>476.8</td>\n",
       "      <td>551.9</td>\n",
       "      <td>989.0</td>\n",
       "      <td>105182.0</td>\n",
       "      <td>513.164990</td>\n",
       "      <td>190.497899</td>\n",
       "      <td>0.0</td>\n",
       "      <td>440.0</td>\n",
       "      <td>540.0</td>\n",
       "      <td>620.0</td>\n",
       "      <td>1000.0</td>\n",
       "      <td>105182.0</td>\n",
       "      <td>1982.825587</td>\n",
       "      <td>257.439350</td>\n",
       "      <td>1314.6</td>\n",
       "      <td>1791.6</td>\n",
       "      <td>1935.7</td>\n",
       "      <td>2129.4</td>\n",
       "      <td>3203.5</td>\n",
       "    </tr>\n",
       "  </tbody>\n",
       "</table>\n",
       "</div>"
      ],
      "text/plain": [
       "                         age                                              \\\n",
       "                       count       mean       std  min   25%   50%   75%   \n",
       "state_of_residence                                                         \n",
       "Maranhão            194994.0  21.904074  6.823627  0.0  18.0  19.0  24.0   \n",
       "Piauí               105182.0  22.168803  7.274307  0.0  18.0  19.0  24.0   \n",
       "\n",
       "                          ns_score                                       \\\n",
       "                     max     count        mean        std    min    25%   \n",
       "state_of_residence                                                        \n",
       "Maranhão            75.0  194994.0  490.159217  63.946089  298.3  440.3   \n",
       "Piauí               79.0  105182.0  495.620006  68.636378  298.2  442.1   \n",
       "\n",
       "                                          hs_score                        \\\n",
       "                       50%    75%    max     count       mean        std   \n",
       "state_of_residence                                                         \n",
       "Maranhão            484.10  533.7  816.1  194994.0  494.02265  76.224127   \n",
       "Piauí               488.85  541.3  839.2  105182.0  500.39297  80.190305   \n",
       "\n",
       "                                                       lc_score              \\\n",
       "                      min    25%    50%    75%    max     count        mean   \n",
       "state_of_residence                                                            \n",
       "Maranhão            325.5  434.5  488.6  550.8  836.6  194994.0  487.026659   \n",
       "Piauí               321.4  437.5  494.6  559.9  815.3  105182.0  490.528059   \n",
       "\n",
       "                                                                 math_score  \\\n",
       "                          std    min    25%    50%    75%    max      count   \n",
       "state_of_residence                                                            \n",
       "Maranhão            63.664914  299.6  445.3  490.1  531.4  744.8   194994.0   \n",
       "Piauí               65.669347  299.6  446.6  491.9  536.1  737.1   105182.0   \n",
       "\n",
       "                                                                              \\\n",
       "                          mean        std    min    25%    50%    75%    max   \n",
       "state_of_residence                                                             \n",
       "Maranhão            484.000095  86.583543  310.8  416.2  468.4  535.8  975.8   \n",
       "Piauí               496.284552  98.367476  326.9  420.5  476.8  551.9  989.0   \n",
       "\n",
       "                   essay_score                                             \\\n",
       "                         count        mean         std  min    25%    50%   \n",
       "state_of_residence                                                          \n",
       "Maranhão              194994.0  491.654615  193.664930  0.0  420.0  520.0   \n",
       "Piauí                 105182.0  513.164990  190.497899  0.0  440.0  540.0   \n",
       "\n",
       "                                  combined_score                           \\\n",
       "                      75%     max          count         mean         std   \n",
       "state_of_residence                                                          \n",
       "Maranhão            600.0   980.0       194994.0  1955.208621  230.625552   \n",
       "Piauí               620.0  1000.0       105182.0  1982.825587  257.439350   \n",
       "\n",
       "                                                            \n",
       "                       min     25%     50%     75%     max  \n",
       "state_of_residence                                          \n",
       "Maranhão            1362.3  1783.7  1918.7  2092.6  3188.8  \n",
       "Piauí               1314.6  1791.6  1935.7  2129.4  3203.5  "
      ]
     },
     "execution_count": 76,
     "metadata": {},
     "output_type": "execute_result"
    }
   ],
   "source": [
    "valid_pima.groupby(\"state_of_residence\")[\"age\", \"ns_score\", \"hs_score\", \"lc_score\", \n",
    "                                         \"math_score\", \"essay_score\", \"combined_score\"].describe()"
   ]
  },
  {
   "cell_type": "markdown",
   "metadata": {},
   "source": [
    "_This shows us that in every category, Piauí has a slightly higher average score in every aspect of the exam._"
   ]
  },
  {
   "cell_type": "code",
   "execution_count": 77,
   "metadata": {},
   "outputs": [
    {
     "data": {
      "text/html": [
       "<div>\n",
       "<style scoped>\n",
       "    .dataframe tbody tr th:only-of-type {\n",
       "        vertical-align: middle;\n",
       "    }\n",
       "\n",
       "    .dataframe tbody tr th {\n",
       "        vertical-align: top;\n",
       "    }\n",
       "\n",
       "    .dataframe thead th {\n",
       "        text-align: right;\n",
       "    }\n",
       "</style>\n",
       "<table border=\"1\" class=\"dataframe\">\n",
       "  <thead>\n",
       "    <tr style=\"text-align: right;\">\n",
       "      <th></th>\n",
       "      <th>count</th>\n",
       "      <th>mean</th>\n",
       "      <th>std</th>\n",
       "      <th>min</th>\n",
       "      <th>25%</th>\n",
       "      <th>50%</th>\n",
       "      <th>75%</th>\n",
       "      <th>max</th>\n",
       "    </tr>\n",
       "    <tr>\n",
       "      <th>dad_male_guardian_education</th>\n",
       "      <th></th>\n",
       "      <th></th>\n",
       "      <th></th>\n",
       "      <th></th>\n",
       "      <th></th>\n",
       "      <th></th>\n",
       "      <th></th>\n",
       "      <th></th>\n",
       "    </tr>\n",
       "  </thead>\n",
       "  <tbody>\n",
       "    <tr>\n",
       "      <th>graduate_degree</th>\n",
       "      <td>7558.0</td>\n",
       "      <td>2227.053175</td>\n",
       "      <td>316.890993</td>\n",
       "      <td>1425.5</td>\n",
       "      <td>1982.025</td>\n",
       "      <td>2217.45</td>\n",
       "      <td>2457.175</td>\n",
       "      <td>3203.5</td>\n",
       "    </tr>\n",
       "    <tr>\n",
       "      <th>college</th>\n",
       "      <td>12278.0</td>\n",
       "      <td>2177.042393</td>\n",
       "      <td>296.232898</td>\n",
       "      <td>1314.6</td>\n",
       "      <td>1947.450</td>\n",
       "      <td>2159.55</td>\n",
       "      <td>2386.075</td>\n",
       "      <td>3188.8</td>\n",
       "    </tr>\n",
       "    <tr>\n",
       "      <th>high_school</th>\n",
       "      <td>65911.0</td>\n",
       "      <td>2032.057204</td>\n",
       "      <td>252.823006</td>\n",
       "      <td>1363.7</td>\n",
       "      <td>1840.900</td>\n",
       "      <td>2000.50</td>\n",
       "      <td>2192.300</td>\n",
       "      <td>3149.1</td>\n",
       "    </tr>\n",
       "    <tr>\n",
       "      <th>completed_9th</th>\n",
       "      <td>35308.0</td>\n",
       "      <td>1970.481854</td>\n",
       "      <td>229.414775</td>\n",
       "      <td>1423.3</td>\n",
       "      <td>1799.100</td>\n",
       "      <td>1937.95</td>\n",
       "      <td>2109.800</td>\n",
       "      <td>3052.8</td>\n",
       "    </tr>\n",
       "    <tr>\n",
       "      <th>between_5th_9th</th>\n",
       "      <td>42901.0</td>\n",
       "      <td>1938.952950</td>\n",
       "      <td>217.826020</td>\n",
       "      <td>1407.4</td>\n",
       "      <td>1779.100</td>\n",
       "      <td>1905.40</td>\n",
       "      <td>2069.500</td>\n",
       "      <td>3069.7</td>\n",
       "    </tr>\n",
       "    <tr>\n",
       "      <th>don't_know</th>\n",
       "      <td>31245.0</td>\n",
       "      <td>1925.117366</td>\n",
       "      <td>212.612057</td>\n",
       "      <td>1368.8</td>\n",
       "      <td>1768.200</td>\n",
       "      <td>1893.70</td>\n",
       "      <td>2051.300</td>\n",
       "      <td>3133.4</td>\n",
       "    </tr>\n",
       "    <tr>\n",
       "      <th>fifth_grade</th>\n",
       "      <td>76737.0</td>\n",
       "      <td>1909.096465</td>\n",
       "      <td>201.532025</td>\n",
       "      <td>1362.3</td>\n",
       "      <td>1760.600</td>\n",
       "      <td>1880.40</td>\n",
       "      <td>2030.800</td>\n",
       "      <td>3028.3</td>\n",
       "    </tr>\n",
       "    <tr>\n",
       "      <th>no_education</th>\n",
       "      <td>28238.0</td>\n",
       "      <td>1873.694051</td>\n",
       "      <td>188.171562</td>\n",
       "      <td>1380.8</td>\n",
       "      <td>1736.525</td>\n",
       "      <td>1844.00</td>\n",
       "      <td>1984.100</td>\n",
       "      <td>3021.7</td>\n",
       "    </tr>\n",
       "  </tbody>\n",
       "</table>\n",
       "</div>"
      ],
      "text/plain": [
       "                               count         mean         std     min  \\\n",
       "dad_male_guardian_education                                             \n",
       "graduate_degree               7558.0  2227.053175  316.890993  1425.5   \n",
       "college                      12278.0  2177.042393  296.232898  1314.6   \n",
       "high_school                  65911.0  2032.057204  252.823006  1363.7   \n",
       "completed_9th                35308.0  1970.481854  229.414775  1423.3   \n",
       "between_5th_9th              42901.0  1938.952950  217.826020  1407.4   \n",
       "don't_know                   31245.0  1925.117366  212.612057  1368.8   \n",
       "fifth_grade                  76737.0  1909.096465  201.532025  1362.3   \n",
       "no_education                 28238.0  1873.694051  188.171562  1380.8   \n",
       "\n",
       "                                  25%      50%       75%     max  \n",
       "dad_male_guardian_education                                       \n",
       "graduate_degree              1982.025  2217.45  2457.175  3203.5  \n",
       "college                      1947.450  2159.55  2386.075  3188.8  \n",
       "high_school                  1840.900  2000.50  2192.300  3149.1  \n",
       "completed_9th                1799.100  1937.95  2109.800  3052.8  \n",
       "between_5th_9th              1779.100  1905.40  2069.500  3069.7  \n",
       "don't_know                   1768.200  1893.70  2051.300  3133.4  \n",
       "fifth_grade                  1760.600  1880.40  2030.800  3028.3  \n",
       "no_education                 1736.525  1844.00  1984.100  3021.7  "
      ]
     },
     "execution_count": 77,
     "metadata": {},
     "output_type": "execute_result"
    }
   ],
   "source": [
    "valid_pima.groupby(\"dad_male_guardian_education\")[\"combined_score\"].describe().sort_values(by=\"mean\", ascending=False).head(10)"
   ]
  },
  {
   "cell_type": "markdown",
   "metadata": {},
   "source": [
    "_Father/male guardian education level is a good indicator of student average combined score._"
   ]
  },
  {
   "cell_type": "code",
   "execution_count": 78,
   "metadata": {},
   "outputs": [
    {
     "data": {
      "text/html": [
       "<div>\n",
       "<style scoped>\n",
       "    .dataframe tbody tr th:only-of-type {\n",
       "        vertical-align: middle;\n",
       "    }\n",
       "\n",
       "    .dataframe tbody tr th {\n",
       "        vertical-align: top;\n",
       "    }\n",
       "\n",
       "    .dataframe thead th {\n",
       "        text-align: right;\n",
       "    }\n",
       "</style>\n",
       "<table border=\"1\" class=\"dataframe\">\n",
       "  <thead>\n",
       "    <tr style=\"text-align: right;\">\n",
       "      <th></th>\n",
       "      <th>count</th>\n",
       "      <th>mean</th>\n",
       "      <th>std</th>\n",
       "      <th>min</th>\n",
       "      <th>25%</th>\n",
       "      <th>50%</th>\n",
       "      <th>75%</th>\n",
       "      <th>max</th>\n",
       "    </tr>\n",
       "    <tr>\n",
       "      <th>mom_female_guardian_education</th>\n",
       "      <th></th>\n",
       "      <th></th>\n",
       "      <th></th>\n",
       "      <th></th>\n",
       "      <th></th>\n",
       "      <th></th>\n",
       "      <th></th>\n",
       "      <th></th>\n",
       "    </tr>\n",
       "  </thead>\n",
       "  <tbody>\n",
       "    <tr>\n",
       "      <th>graduate_degree</th>\n",
       "      <td>17826.0</td>\n",
       "      <td>2144.316846</td>\n",
       "      <td>303.550166</td>\n",
       "      <td>1416.5</td>\n",
       "      <td>1907.225</td>\n",
       "      <td>2116.6</td>\n",
       "      <td>2354.100</td>\n",
       "      <td>3197.6</td>\n",
       "    </tr>\n",
       "    <tr>\n",
       "      <th>college</th>\n",
       "      <td>21730.0</td>\n",
       "      <td>2103.255030</td>\n",
       "      <td>285.363109</td>\n",
       "      <td>1403.3</td>\n",
       "      <td>1882.300</td>\n",
       "      <td>2072.7</td>\n",
       "      <td>2291.900</td>\n",
       "      <td>3203.5</td>\n",
       "    </tr>\n",
       "    <tr>\n",
       "      <th>high_school</th>\n",
       "      <td>91167.0</td>\n",
       "      <td>2001.346577</td>\n",
       "      <td>241.672968</td>\n",
       "      <td>1314.6</td>\n",
       "      <td>1819.700</td>\n",
       "      <td>1968.2</td>\n",
       "      <td>2153.200</td>\n",
       "      <td>3135.1</td>\n",
       "    </tr>\n",
       "    <tr>\n",
       "      <th>completed_9th</th>\n",
       "      <td>42504.0</td>\n",
       "      <td>1942.367492</td>\n",
       "      <td>215.077337</td>\n",
       "      <td>1366.8</td>\n",
       "      <td>1782.600</td>\n",
       "      <td>1912.4</td>\n",
       "      <td>2072.700</td>\n",
       "      <td>3069.7</td>\n",
       "    </tr>\n",
       "    <tr>\n",
       "      <th>between_5th_9th</th>\n",
       "      <td>40791.0</td>\n",
       "      <td>1917.698762</td>\n",
       "      <td>206.626572</td>\n",
       "      <td>1407.4</td>\n",
       "      <td>1765.700</td>\n",
       "      <td>1887.0</td>\n",
       "      <td>2041.600</td>\n",
       "      <td>3133.4</td>\n",
       "    </tr>\n",
       "    <tr>\n",
       "      <th>fifth_grade</th>\n",
       "      <td>56010.0</td>\n",
       "      <td>1895.017665</td>\n",
       "      <td>193.875410</td>\n",
       "      <td>1363.3</td>\n",
       "      <td>1752.500</td>\n",
       "      <td>1867.5</td>\n",
       "      <td>2012.175</td>\n",
       "      <td>3033.3</td>\n",
       "    </tr>\n",
       "    <tr>\n",
       "      <th>don't_know</th>\n",
       "      <td>11706.0</td>\n",
       "      <td>1889.069144</td>\n",
       "      <td>201.327512</td>\n",
       "      <td>1370.9</td>\n",
       "      <td>1744.500</td>\n",
       "      <td>1855.5</td>\n",
       "      <td>2000.800</td>\n",
       "      <td>3090.8</td>\n",
       "    </tr>\n",
       "    <tr>\n",
       "      <th>no_education</th>\n",
       "      <td>18442.0</td>\n",
       "      <td>1864.754501</td>\n",
       "      <td>183.557670</td>\n",
       "      <td>1380.8</td>\n",
       "      <td>1731.300</td>\n",
       "      <td>1837.4</td>\n",
       "      <td>1972.100</td>\n",
       "      <td>2805.7</td>\n",
       "    </tr>\n",
       "  </tbody>\n",
       "</table>\n",
       "</div>"
      ],
      "text/plain": [
       "                                 count         mean         std     min  \\\n",
       "mom_female_guardian_education                                             \n",
       "graduate_degree                17826.0  2144.316846  303.550166  1416.5   \n",
       "college                        21730.0  2103.255030  285.363109  1403.3   \n",
       "high_school                    91167.0  2001.346577  241.672968  1314.6   \n",
       "completed_9th                  42504.0  1942.367492  215.077337  1366.8   \n",
       "between_5th_9th                40791.0  1917.698762  206.626572  1407.4   \n",
       "fifth_grade                    56010.0  1895.017665  193.875410  1363.3   \n",
       "don't_know                     11706.0  1889.069144  201.327512  1370.9   \n",
       "no_education                   18442.0  1864.754501  183.557670  1380.8   \n",
       "\n",
       "                                    25%     50%       75%     max  \n",
       "mom_female_guardian_education                                      \n",
       "graduate_degree                1907.225  2116.6  2354.100  3197.6  \n",
       "college                        1882.300  2072.7  2291.900  3203.5  \n",
       "high_school                    1819.700  1968.2  2153.200  3135.1  \n",
       "completed_9th                  1782.600  1912.4  2072.700  3069.7  \n",
       "between_5th_9th                1765.700  1887.0  2041.600  3133.4  \n",
       "fifth_grade                    1752.500  1867.5  2012.175  3033.3  \n",
       "don't_know                     1744.500  1855.5  2000.800  3090.8  \n",
       "no_education                   1731.300  1837.4  1972.100  2805.7  "
      ]
     },
     "execution_count": 78,
     "metadata": {},
     "output_type": "execute_result"
    }
   ],
   "source": [
    "valid_pima.groupby(\"mom_female_guardian_education\")[\"combined_score\"].describe().sort_values(by=\"mean\", \n",
    "            ascending=False).head(10)"
   ]
  },
  {
   "cell_type": "code",
   "execution_count": 79,
   "metadata": {},
   "outputs": [
    {
     "data": {
      "text/html": [
       "<div>\n",
       "<style scoped>\n",
       "    .dataframe tbody tr th:only-of-type {\n",
       "        vertical-align: middle;\n",
       "    }\n",
       "\n",
       "    .dataframe tbody tr th {\n",
       "        vertical-align: top;\n",
       "    }\n",
       "\n",
       "    .dataframe thead th {\n",
       "        text-align: right;\n",
       "    }\n",
       "</style>\n",
       "<table border=\"1\" class=\"dataframe\">\n",
       "  <thead>\n",
       "    <tr style=\"text-align: right;\">\n",
       "      <th></th>\n",
       "      <th>count</th>\n",
       "      <th>mean</th>\n",
       "      <th>std</th>\n",
       "      <th>min</th>\n",
       "      <th>25%</th>\n",
       "      <th>50%</th>\n",
       "      <th>75%</th>\n",
       "      <th>max</th>\n",
       "    </tr>\n",
       "    <tr>\n",
       "      <th>family_monthly_income</th>\n",
       "      <th></th>\n",
       "      <th></th>\n",
       "      <th></th>\n",
       "      <th></th>\n",
       "      <th></th>\n",
       "      <th></th>\n",
       "      <th></th>\n",
       "      <th></th>\n",
       "    </tr>\n",
       "  </thead>\n",
       "  <tbody>\n",
       "    <tr>\n",
       "      <th>18740+</th>\n",
       "      <td>1158.0</td>\n",
       "      <td>2431.736269</td>\n",
       "      <td>292.287607</td>\n",
       "      <td>1587.4</td>\n",
       "      <td>2234.425</td>\n",
       "      <td>2451.05</td>\n",
       "      <td>2643.925</td>\n",
       "      <td>3203.5</td>\n",
       "    </tr>\n",
       "    <tr>\n",
       "      <th>14055-18740</th>\n",
       "      <td>808.0</td>\n",
       "      <td>2409.178465</td>\n",
       "      <td>284.584160</td>\n",
       "      <td>1645.8</td>\n",
       "      <td>2215.450</td>\n",
       "      <td>2420.90</td>\n",
       "      <td>2621.675</td>\n",
       "      <td>3188.8</td>\n",
       "    </tr>\n",
       "    <tr>\n",
       "      <th>11244-14055</th>\n",
       "      <td>968.0</td>\n",
       "      <td>2374.070558</td>\n",
       "      <td>297.626158</td>\n",
       "      <td>1561.2</td>\n",
       "      <td>2163.000</td>\n",
       "      <td>2379.80</td>\n",
       "      <td>2600.825</td>\n",
       "      <td>3123.0</td>\n",
       "    </tr>\n",
       "    <tr>\n",
       "      <th>9730-11244</th>\n",
       "      <td>1382.0</td>\n",
       "      <td>2353.176049</td>\n",
       "      <td>285.686248</td>\n",
       "      <td>1607.7</td>\n",
       "      <td>2154.150</td>\n",
       "      <td>2371.15</td>\n",
       "      <td>2559.800</td>\n",
       "      <td>3110.9</td>\n",
       "    </tr>\n",
       "    <tr>\n",
       "      <th>7496-8433</th>\n",
       "      <td>1206.0</td>\n",
       "      <td>2322.267164</td>\n",
       "      <td>293.814519</td>\n",
       "      <td>1551.6</td>\n",
       "      <td>2117.650</td>\n",
       "      <td>2325.70</td>\n",
       "      <td>2530.275</td>\n",
       "      <td>3176.1</td>\n",
       "    </tr>\n",
       "    <tr>\n",
       "      <th>8433-9370</th>\n",
       "      <td>1005.0</td>\n",
       "      <td>2320.780498</td>\n",
       "      <td>293.398980</td>\n",
       "      <td>1542.7</td>\n",
       "      <td>2119.300</td>\n",
       "      <td>2332.50</td>\n",
       "      <td>2525.700</td>\n",
       "      <td>3145.9</td>\n",
       "    </tr>\n",
       "    <tr>\n",
       "      <th>6559-7496</th>\n",
       "      <td>1530.0</td>\n",
       "      <td>2282.552614</td>\n",
       "      <td>287.736452</td>\n",
       "      <td>1485.9</td>\n",
       "      <td>2079.625</td>\n",
       "      <td>2293.30</td>\n",
       "      <td>2483.100</td>\n",
       "      <td>3179.4</td>\n",
       "    </tr>\n",
       "    <tr>\n",
       "      <th>5622-6559</th>\n",
       "      <td>2605.0</td>\n",
       "      <td>2254.478580</td>\n",
       "      <td>286.848721</td>\n",
       "      <td>1513.4</td>\n",
       "      <td>2042.100</td>\n",
       "      <td>2261.30</td>\n",
       "      <td>2455.200</td>\n",
       "      <td>3088.9</td>\n",
       "    </tr>\n",
       "    <tr>\n",
       "      <th>4685-5622</th>\n",
       "      <td>4315.0</td>\n",
       "      <td>2230.131866</td>\n",
       "      <td>279.154461</td>\n",
       "      <td>1314.6</td>\n",
       "      <td>2028.000</td>\n",
       "      <td>2230.70</td>\n",
       "      <td>2428.600</td>\n",
       "      <td>3135.2</td>\n",
       "    </tr>\n",
       "    <tr>\n",
       "      <th>3748-4685</th>\n",
       "      <td>6047.0</td>\n",
       "      <td>2183.618125</td>\n",
       "      <td>276.518682</td>\n",
       "      <td>1406.8</td>\n",
       "      <td>1975.150</td>\n",
       "      <td>2176.10</td>\n",
       "      <td>2376.250</td>\n",
       "      <td>3115.4</td>\n",
       "    </tr>\n",
       "    <tr>\n",
       "      <th>2811-3748</th>\n",
       "      <td>9054.0</td>\n",
       "      <td>2140.869825</td>\n",
       "      <td>262.501002</td>\n",
       "      <td>1416.5</td>\n",
       "      <td>1942.100</td>\n",
       "      <td>2134.45</td>\n",
       "      <td>2322.200</td>\n",
       "      <td>3095.0</td>\n",
       "    </tr>\n",
       "    <tr>\n",
       "      <th>2343-2811</th>\n",
       "      <td>8591.0</td>\n",
       "      <td>2103.536946</td>\n",
       "      <td>258.834188</td>\n",
       "      <td>1496.7</td>\n",
       "      <td>1911.900</td>\n",
       "      <td>2089.70</td>\n",
       "      <td>2273.700</td>\n",
       "      <td>3069.7</td>\n",
       "    </tr>\n",
       "    <tr>\n",
       "      <th>1874-2343</th>\n",
       "      <td>14238.0</td>\n",
       "      <td>2062.294761</td>\n",
       "      <td>246.405285</td>\n",
       "      <td>1424.0</td>\n",
       "      <td>1874.525</td>\n",
       "      <td>2042.65</td>\n",
       "      <td>2225.200</td>\n",
       "      <td>3018.1</td>\n",
       "    </tr>\n",
       "    <tr>\n",
       "      <th>1406-1874</th>\n",
       "      <td>23522.0</td>\n",
       "      <td>2019.626324</td>\n",
       "      <td>232.712274</td>\n",
       "      <td>1383.0</td>\n",
       "      <td>1845.600</td>\n",
       "      <td>1998.50</td>\n",
       "      <td>2171.400</td>\n",
       "      <td>3135.1</td>\n",
       "    </tr>\n",
       "    <tr>\n",
       "      <th>937-1406</th>\n",
       "      <td>65759.0</td>\n",
       "      <td>1969.628805</td>\n",
       "      <td>214.620517</td>\n",
       "      <td>1362.3</td>\n",
       "      <td>1810.400</td>\n",
       "      <td>1946.40</td>\n",
       "      <td>2105.800</td>\n",
       "      <td>3133.4</td>\n",
       "    </tr>\n",
       "    <tr>\n",
       "      <th>0-937</th>\n",
       "      <td>132884.0</td>\n",
       "      <td>1894.462816</td>\n",
       "      <td>191.743134</td>\n",
       "      <td>1363.3</td>\n",
       "      <td>1754.100</td>\n",
       "      <td>1867.30</td>\n",
       "      <td>2009.400</td>\n",
       "      <td>3197.6</td>\n",
       "    </tr>\n",
       "    <tr>\n",
       "      <th>no_response</th>\n",
       "      <td>25104.0</td>\n",
       "      <td>1855.680123</td>\n",
       "      <td>179.584480</td>\n",
       "      <td>1368.8</td>\n",
       "      <td>1726.700</td>\n",
       "      <td>1827.90</td>\n",
       "      <td>1957.400</td>\n",
       "      <td>2820.6</td>\n",
       "    </tr>\n",
       "  </tbody>\n",
       "</table>\n",
       "</div>"
      ],
      "text/plain": [
       "                          count         mean         std     min       25%  \\\n",
       "family_monthly_income                                                        \n",
       "18740+                   1158.0  2431.736269  292.287607  1587.4  2234.425   \n",
       "14055-18740               808.0  2409.178465  284.584160  1645.8  2215.450   \n",
       "11244-14055               968.0  2374.070558  297.626158  1561.2  2163.000   \n",
       "9730-11244               1382.0  2353.176049  285.686248  1607.7  2154.150   \n",
       "7496-8433                1206.0  2322.267164  293.814519  1551.6  2117.650   \n",
       "8433-9370                1005.0  2320.780498  293.398980  1542.7  2119.300   \n",
       "6559-7496                1530.0  2282.552614  287.736452  1485.9  2079.625   \n",
       "5622-6559                2605.0  2254.478580  286.848721  1513.4  2042.100   \n",
       "4685-5622                4315.0  2230.131866  279.154461  1314.6  2028.000   \n",
       "3748-4685                6047.0  2183.618125  276.518682  1406.8  1975.150   \n",
       "2811-3748                9054.0  2140.869825  262.501002  1416.5  1942.100   \n",
       "2343-2811                8591.0  2103.536946  258.834188  1496.7  1911.900   \n",
       "1874-2343               14238.0  2062.294761  246.405285  1424.0  1874.525   \n",
       "1406-1874               23522.0  2019.626324  232.712274  1383.0  1845.600   \n",
       "937-1406                65759.0  1969.628805  214.620517  1362.3  1810.400   \n",
       "0-937                  132884.0  1894.462816  191.743134  1363.3  1754.100   \n",
       "no_response             25104.0  1855.680123  179.584480  1368.8  1726.700   \n",
       "\n",
       "                           50%       75%     max  \n",
       "family_monthly_income                             \n",
       "18740+                 2451.05  2643.925  3203.5  \n",
       "14055-18740            2420.90  2621.675  3188.8  \n",
       "11244-14055            2379.80  2600.825  3123.0  \n",
       "9730-11244             2371.15  2559.800  3110.9  \n",
       "7496-8433              2325.70  2530.275  3176.1  \n",
       "8433-9370              2332.50  2525.700  3145.9  \n",
       "6559-7496              2293.30  2483.100  3179.4  \n",
       "5622-6559              2261.30  2455.200  3088.9  \n",
       "4685-5622              2230.70  2428.600  3135.2  \n",
       "3748-4685              2176.10  2376.250  3115.4  \n",
       "2811-3748              2134.45  2322.200  3095.0  \n",
       "2343-2811              2089.70  2273.700  3069.7  \n",
       "1874-2343              2042.65  2225.200  3018.1  \n",
       "1406-1874              1998.50  2171.400  3135.1  \n",
       "937-1406               1946.40  2105.800  3133.4  \n",
       "0-937                  1867.30  2009.400  3197.6  \n",
       "no_response            1827.90  1957.400  2820.6  "
      ]
     },
     "execution_count": 79,
     "metadata": {},
     "output_type": "execute_result"
    }
   ],
   "source": [
    "valid_pima.groupby(\"family_monthly_income\")[\"combined_score\"].describe().sort_values(by=\"mean\", ascending=False)"
   ]
  },
  {
   "cell_type": "code",
   "execution_count": 80,
   "metadata": {},
   "outputs": [
    {
     "data": {
      "text/html": [
       "<div>\n",
       "<style scoped>\n",
       "    .dataframe tbody tr th:only-of-type {\n",
       "        vertical-align: middle;\n",
       "    }\n",
       "\n",
       "    .dataframe tbody tr th {\n",
       "        vertical-align: top;\n",
       "    }\n",
       "\n",
       "    .dataframe thead th {\n",
       "        text-align: right;\n",
       "    }\n",
       "</style>\n",
       "<table border=\"1\" class=\"dataframe\">\n",
       "  <thead>\n",
       "    <tr style=\"text-align: right;\">\n",
       "      <th></th>\n",
       "      <th>count</th>\n",
       "      <th>mean</th>\n",
       "      <th>std</th>\n",
       "      <th>min</th>\n",
       "      <th>25%</th>\n",
       "      <th>50%</th>\n",
       "      <th>75%</th>\n",
       "      <th>max</th>\n",
       "    </tr>\n",
       "    <tr>\n",
       "      <th>family_monthly_income</th>\n",
       "      <th></th>\n",
       "      <th></th>\n",
       "      <th></th>\n",
       "      <th></th>\n",
       "      <th></th>\n",
       "      <th></th>\n",
       "      <th></th>\n",
       "      <th></th>\n",
       "    </tr>\n",
       "  </thead>\n",
       "  <tbody>\n",
       "    <tr>\n",
       "      <th>18740+</th>\n",
       "      <td>1158.0</td>\n",
       "      <td>2431.736269</td>\n",
       "      <td>292.287607</td>\n",
       "      <td>1587.4</td>\n",
       "      <td>2234.425</td>\n",
       "      <td>2451.05</td>\n",
       "      <td>2643.925</td>\n",
       "      <td>3203.5</td>\n",
       "    </tr>\n",
       "    <tr>\n",
       "      <th>14055-18740</th>\n",
       "      <td>808.0</td>\n",
       "      <td>2409.178465</td>\n",
       "      <td>284.584160</td>\n",
       "      <td>1645.8</td>\n",
       "      <td>2215.450</td>\n",
       "      <td>2420.90</td>\n",
       "      <td>2621.675</td>\n",
       "      <td>3188.8</td>\n",
       "    </tr>\n",
       "    <tr>\n",
       "      <th>11244-14055</th>\n",
       "      <td>968.0</td>\n",
       "      <td>2374.070558</td>\n",
       "      <td>297.626158</td>\n",
       "      <td>1561.2</td>\n",
       "      <td>2163.000</td>\n",
       "      <td>2379.80</td>\n",
       "      <td>2600.825</td>\n",
       "      <td>3123.0</td>\n",
       "    </tr>\n",
       "    <tr>\n",
       "      <th>9730-11244</th>\n",
       "      <td>1382.0</td>\n",
       "      <td>2353.176049</td>\n",
       "      <td>285.686248</td>\n",
       "      <td>1607.7</td>\n",
       "      <td>2154.150</td>\n",
       "      <td>2371.15</td>\n",
       "      <td>2559.800</td>\n",
       "      <td>3110.9</td>\n",
       "    </tr>\n",
       "    <tr>\n",
       "      <th>7496-8433</th>\n",
       "      <td>1206.0</td>\n",
       "      <td>2322.267164</td>\n",
       "      <td>293.814519</td>\n",
       "      <td>1551.6</td>\n",
       "      <td>2117.650</td>\n",
       "      <td>2325.70</td>\n",
       "      <td>2530.275</td>\n",
       "      <td>3176.1</td>\n",
       "    </tr>\n",
       "    <tr>\n",
       "      <th>8433-9370</th>\n",
       "      <td>1005.0</td>\n",
       "      <td>2320.780498</td>\n",
       "      <td>293.398980</td>\n",
       "      <td>1542.7</td>\n",
       "      <td>2119.300</td>\n",
       "      <td>2332.50</td>\n",
       "      <td>2525.700</td>\n",
       "      <td>3145.9</td>\n",
       "    </tr>\n",
       "    <tr>\n",
       "      <th>6559-7496</th>\n",
       "      <td>1530.0</td>\n",
       "      <td>2282.552614</td>\n",
       "      <td>287.736452</td>\n",
       "      <td>1485.9</td>\n",
       "      <td>2079.625</td>\n",
       "      <td>2293.30</td>\n",
       "      <td>2483.100</td>\n",
       "      <td>3179.4</td>\n",
       "    </tr>\n",
       "    <tr>\n",
       "      <th>5622-6559</th>\n",
       "      <td>2605.0</td>\n",
       "      <td>2254.478580</td>\n",
       "      <td>286.848721</td>\n",
       "      <td>1513.4</td>\n",
       "      <td>2042.100</td>\n",
       "      <td>2261.30</td>\n",
       "      <td>2455.200</td>\n",
       "      <td>3088.9</td>\n",
       "    </tr>\n",
       "    <tr>\n",
       "      <th>4685-5622</th>\n",
       "      <td>4315.0</td>\n",
       "      <td>2230.131866</td>\n",
       "      <td>279.154461</td>\n",
       "      <td>1314.6</td>\n",
       "      <td>2028.000</td>\n",
       "      <td>2230.70</td>\n",
       "      <td>2428.600</td>\n",
       "      <td>3135.2</td>\n",
       "    </tr>\n",
       "    <tr>\n",
       "      <th>3748-4685</th>\n",
       "      <td>6047.0</td>\n",
       "      <td>2183.618125</td>\n",
       "      <td>276.518682</td>\n",
       "      <td>1406.8</td>\n",
       "      <td>1975.150</td>\n",
       "      <td>2176.10</td>\n",
       "      <td>2376.250</td>\n",
       "      <td>3115.4</td>\n",
       "    </tr>\n",
       "    <tr>\n",
       "      <th>2811-3748</th>\n",
       "      <td>9054.0</td>\n",
       "      <td>2140.869825</td>\n",
       "      <td>262.501002</td>\n",
       "      <td>1416.5</td>\n",
       "      <td>1942.100</td>\n",
       "      <td>2134.45</td>\n",
       "      <td>2322.200</td>\n",
       "      <td>3095.0</td>\n",
       "    </tr>\n",
       "    <tr>\n",
       "      <th>2343-2811</th>\n",
       "      <td>8591.0</td>\n",
       "      <td>2103.536946</td>\n",
       "      <td>258.834188</td>\n",
       "      <td>1496.7</td>\n",
       "      <td>1911.900</td>\n",
       "      <td>2089.70</td>\n",
       "      <td>2273.700</td>\n",
       "      <td>3069.7</td>\n",
       "    </tr>\n",
       "    <tr>\n",
       "      <th>1874-2343</th>\n",
       "      <td>14238.0</td>\n",
       "      <td>2062.294761</td>\n",
       "      <td>246.405285</td>\n",
       "      <td>1424.0</td>\n",
       "      <td>1874.525</td>\n",
       "      <td>2042.65</td>\n",
       "      <td>2225.200</td>\n",
       "      <td>3018.1</td>\n",
       "    </tr>\n",
       "    <tr>\n",
       "      <th>1406-1874</th>\n",
       "      <td>23522.0</td>\n",
       "      <td>2019.626324</td>\n",
       "      <td>232.712274</td>\n",
       "      <td>1383.0</td>\n",
       "      <td>1845.600</td>\n",
       "      <td>1998.50</td>\n",
       "      <td>2171.400</td>\n",
       "      <td>3135.1</td>\n",
       "    </tr>\n",
       "    <tr>\n",
       "      <th>937-1406</th>\n",
       "      <td>65759.0</td>\n",
       "      <td>1969.628805</td>\n",
       "      <td>214.620517</td>\n",
       "      <td>1362.3</td>\n",
       "      <td>1810.400</td>\n",
       "      <td>1946.40</td>\n",
       "      <td>2105.800</td>\n",
       "      <td>3133.4</td>\n",
       "    </tr>\n",
       "    <tr>\n",
       "      <th>0-937</th>\n",
       "      <td>132884.0</td>\n",
       "      <td>1894.462816</td>\n",
       "      <td>191.743134</td>\n",
       "      <td>1363.3</td>\n",
       "      <td>1754.100</td>\n",
       "      <td>1867.30</td>\n",
       "      <td>2009.400</td>\n",
       "      <td>3197.6</td>\n",
       "    </tr>\n",
       "    <tr>\n",
       "      <th>no_response</th>\n",
       "      <td>25104.0</td>\n",
       "      <td>1855.680123</td>\n",
       "      <td>179.584480</td>\n",
       "      <td>1368.8</td>\n",
       "      <td>1726.700</td>\n",
       "      <td>1827.90</td>\n",
       "      <td>1957.400</td>\n",
       "      <td>2820.6</td>\n",
       "    </tr>\n",
       "  </tbody>\n",
       "</table>\n",
       "</div>"
      ],
      "text/plain": [
       "                          count         mean         std     min       25%  \\\n",
       "family_monthly_income                                                        \n",
       "18740+                   1158.0  2431.736269  292.287607  1587.4  2234.425   \n",
       "14055-18740               808.0  2409.178465  284.584160  1645.8  2215.450   \n",
       "11244-14055               968.0  2374.070558  297.626158  1561.2  2163.000   \n",
       "9730-11244               1382.0  2353.176049  285.686248  1607.7  2154.150   \n",
       "7496-8433                1206.0  2322.267164  293.814519  1551.6  2117.650   \n",
       "8433-9370                1005.0  2320.780498  293.398980  1542.7  2119.300   \n",
       "6559-7496                1530.0  2282.552614  287.736452  1485.9  2079.625   \n",
       "5622-6559                2605.0  2254.478580  286.848721  1513.4  2042.100   \n",
       "4685-5622                4315.0  2230.131866  279.154461  1314.6  2028.000   \n",
       "3748-4685                6047.0  2183.618125  276.518682  1406.8  1975.150   \n",
       "2811-3748                9054.0  2140.869825  262.501002  1416.5  1942.100   \n",
       "2343-2811                8591.0  2103.536946  258.834188  1496.7  1911.900   \n",
       "1874-2343               14238.0  2062.294761  246.405285  1424.0  1874.525   \n",
       "1406-1874               23522.0  2019.626324  232.712274  1383.0  1845.600   \n",
       "937-1406                65759.0  1969.628805  214.620517  1362.3  1810.400   \n",
       "0-937                  132884.0  1894.462816  191.743134  1363.3  1754.100   \n",
       "no_response             25104.0  1855.680123  179.584480  1368.8  1726.700   \n",
       "\n",
       "                           50%       75%     max  \n",
       "family_monthly_income                             \n",
       "18740+                 2451.05  2643.925  3203.5  \n",
       "14055-18740            2420.90  2621.675  3188.8  \n",
       "11244-14055            2379.80  2600.825  3123.0  \n",
       "9730-11244             2371.15  2559.800  3110.9  \n",
       "7496-8433              2325.70  2530.275  3176.1  \n",
       "8433-9370              2332.50  2525.700  3145.9  \n",
       "6559-7496              2293.30  2483.100  3179.4  \n",
       "5622-6559              2261.30  2455.200  3088.9  \n",
       "4685-5622              2230.70  2428.600  3135.2  \n",
       "3748-4685              2176.10  2376.250  3115.4  \n",
       "2811-3748              2134.45  2322.200  3095.0  \n",
       "2343-2811              2089.70  2273.700  3069.7  \n",
       "1874-2343              2042.65  2225.200  3018.1  \n",
       "1406-1874              1998.50  2171.400  3135.1  \n",
       "937-1406               1946.40  2105.800  3133.4  \n",
       "0-937                  1867.30  2009.400  3197.6  \n",
       "no_response            1827.90  1957.400  2820.6  "
      ]
     },
     "execution_count": 80,
     "metadata": {},
     "output_type": "execute_result"
    }
   ],
   "source": [
    "valid_pima.groupby(\"family_monthly_income\")[\"combined_score\"].describe().sort_values(by=\"mean\", ascending=False)"
   ]
  },
  {
   "cell_type": "markdown",
   "metadata": {},
   "source": [
    "_Income is clearly influencing the student in a way that affects average score._"
   ]
  },
  {
   "cell_type": "code",
   "execution_count": 81,
   "metadata": {},
   "outputs": [
    {
     "data": {
      "text/html": [
       "<div>\n",
       "<style scoped>\n",
       "    .dataframe tbody tr th:only-of-type {\n",
       "        vertical-align: middle;\n",
       "    }\n",
       "\n",
       "    .dataframe tbody tr th {\n",
       "        vertical-align: top;\n",
       "    }\n",
       "\n",
       "    .dataframe thead th {\n",
       "        text-align: right;\n",
       "    }\n",
       "</style>\n",
       "<table border=\"1\" class=\"dataframe\">\n",
       "  <thead>\n",
       "    <tr style=\"text-align: right;\">\n",
       "      <th></th>\n",
       "      <th>count</th>\n",
       "      <th>mean</th>\n",
       "      <th>std</th>\n",
       "      <th>min</th>\n",
       "      <th>25%</th>\n",
       "      <th>50%</th>\n",
       "      <th>75%</th>\n",
       "      <th>max</th>\n",
       "    </tr>\n",
       "    <tr>\n",
       "      <th>domestic_worker?</th>\n",
       "      <th></th>\n",
       "      <th></th>\n",
       "      <th></th>\n",
       "      <th></th>\n",
       "      <th></th>\n",
       "      <th></th>\n",
       "      <th></th>\n",
       "      <th></th>\n",
       "    </tr>\n",
       "  </thead>\n",
       "  <tbody>\n",
       "    <tr>\n",
       "      <th>Yes</th>\n",
       "      <td>12222.0</td>\n",
       "      <td>2168.004001</td>\n",
       "      <td>332.831714</td>\n",
       "      <td>1415.5</td>\n",
       "      <td>1892.2</td>\n",
       "      <td>2148.3</td>\n",
       "      <td>2419.2</td>\n",
       "      <td>3203.5</td>\n",
       "    </tr>\n",
       "    <tr>\n",
       "      <th>No</th>\n",
       "      <td>287954.0</td>\n",
       "      <td>1956.264423</td>\n",
       "      <td>232.120224</td>\n",
       "      <td>1314.6</td>\n",
       "      <td>1783.9</td>\n",
       "      <td>1919.3</td>\n",
       "      <td>2094.1</td>\n",
       "      <td>3197.6</td>\n",
       "    </tr>\n",
       "  </tbody>\n",
       "</table>\n",
       "</div>"
      ],
      "text/plain": [
       "                     count         mean         std     min     25%     50%  \\\n",
       "domestic_worker?                                                              \n",
       "Yes                12222.0  2168.004001  332.831714  1415.5  1892.2  2148.3   \n",
       "No                287954.0  1956.264423  232.120224  1314.6  1783.9  1919.3   \n",
       "\n",
       "                     75%     max  \n",
       "domestic_worker?                  \n",
       "Yes               2419.2  3203.5  \n",
       "No                2094.1  3197.6  "
      ]
     },
     "execution_count": 81,
     "metadata": {},
     "output_type": "execute_result"
    }
   ],
   "source": [
    "valid_pima.groupby(\"domestic_worker?\")[\"combined_score\"].describe().sort_values(by=\"mean\", ascending=False)"
   ]
  },
  {
   "cell_type": "markdown",
   "metadata": {},
   "source": [
    "_If you have a domestic worker, that significantly increases average score._ "
   ]
  },
  {
   "cell_type": "code",
   "execution_count": 82,
   "metadata": {},
   "outputs": [
    {
     "data": {
      "text/html": [
       "<div>\n",
       "<style scoped>\n",
       "    .dataframe tbody tr th:only-of-type {\n",
       "        vertical-align: middle;\n",
       "    }\n",
       "\n",
       "    .dataframe tbody tr th {\n",
       "        vertical-align: top;\n",
       "    }\n",
       "\n",
       "    .dataframe thead th {\n",
       "        text-align: right;\n",
       "    }\n",
       "</style>\n",
       "<table border=\"1\" class=\"dataframe\">\n",
       "  <thead>\n",
       "    <tr style=\"text-align: right;\">\n",
       "      <th></th>\n",
       "      <th>count</th>\n",
       "      <th>mean</th>\n",
       "      <th>std</th>\n",
       "      <th>min</th>\n",
       "      <th>25%</th>\n",
       "      <th>50%</th>\n",
       "      <th>75%</th>\n",
       "      <th>max</th>\n",
       "    </tr>\n",
       "    <tr>\n",
       "      <th>pregnant?</th>\n",
       "      <th></th>\n",
       "      <th></th>\n",
       "      <th></th>\n",
       "      <th></th>\n",
       "      <th></th>\n",
       "      <th></th>\n",
       "      <th></th>\n",
       "      <th></th>\n",
       "    </tr>\n",
       "  </thead>\n",
       "  <tbody>\n",
       "    <tr>\n",
       "      <th>0</th>\n",
       "      <td>300112.0</td>\n",
       "      <td>1964.895338</td>\n",
       "      <td>240.728458</td>\n",
       "      <td>1314.6</td>\n",
       "      <td>1786.30</td>\n",
       "      <td>1924.40</td>\n",
       "      <td>2104.8</td>\n",
       "      <td>3203.5</td>\n",
       "    </tr>\n",
       "    <tr>\n",
       "      <th>1</th>\n",
       "      <td>64.0</td>\n",
       "      <td>1919.390625</td>\n",
       "      <td>206.202482</td>\n",
       "      <td>1543.4</td>\n",
       "      <td>1775.15</td>\n",
       "      <td>1884.05</td>\n",
       "      <td>2021.5</td>\n",
       "      <td>2559.3</td>\n",
       "    </tr>\n",
       "  </tbody>\n",
       "</table>\n",
       "</div>"
      ],
      "text/plain": [
       "              count         mean         std     min      25%      50%  \\\n",
       "pregnant?                                                                \n",
       "0          300112.0  1964.895338  240.728458  1314.6  1786.30  1924.40   \n",
       "1              64.0  1919.390625  206.202482  1543.4  1775.15  1884.05   \n",
       "\n",
       "              75%     max  \n",
       "pregnant?                  \n",
       "0          2104.8  3203.5  \n",
       "1          2021.5  2559.3  "
      ]
     },
     "execution_count": 82,
     "metadata": {},
     "output_type": "execute_result"
    }
   ],
   "source": [
    "valid_pima.groupby(\"pregnant?\")[\"combined_score\"].describe().sort_values(by=\"mean\", ascending=False)"
   ]
  },
  {
   "cell_type": "markdown",
   "metadata": {},
   "source": [
    "_Pregnant women tended to have almost the same average score as non-pregnant students, which is good._ "
   ]
  },
  {
   "cell_type": "code",
   "execution_count": 83,
   "metadata": {},
   "outputs": [
    {
     "data": {
      "text/html": [
       "<div>\n",
       "<style scoped>\n",
       "    .dataframe tbody tr th:only-of-type {\n",
       "        vertical-align: middle;\n",
       "    }\n",
       "\n",
       "    .dataframe tbody tr th {\n",
       "        vertical-align: top;\n",
       "    }\n",
       "\n",
       "    .dataframe thead th {\n",
       "        text-align: right;\n",
       "    }\n",
       "</style>\n",
       "<table border=\"1\" class=\"dataframe\">\n",
       "  <thead>\n",
       "    <tr style=\"text-align: right;\">\n",
       "      <th></th>\n",
       "      <th>count</th>\n",
       "      <th>mean</th>\n",
       "      <th>std</th>\n",
       "      <th>min</th>\n",
       "      <th>25%</th>\n",
       "      <th>50%</th>\n",
       "      <th>75%</th>\n",
       "      <th>max</th>\n",
       "    </tr>\n",
       "    <tr>\n",
       "      <th>state_of_residence</th>\n",
       "      <th></th>\n",
       "      <th></th>\n",
       "      <th></th>\n",
       "      <th></th>\n",
       "      <th></th>\n",
       "      <th></th>\n",
       "      <th></th>\n",
       "      <th></th>\n",
       "    </tr>\n",
       "  </thead>\n",
       "  <tbody>\n",
       "    <tr>\n",
       "      <th>Piauí</th>\n",
       "      <td>105182.0</td>\n",
       "      <td>1982.825587</td>\n",
       "      <td>257.439350</td>\n",
       "      <td>1314.6</td>\n",
       "      <td>1791.6</td>\n",
       "      <td>1935.7</td>\n",
       "      <td>2129.4</td>\n",
       "      <td>3203.5</td>\n",
       "    </tr>\n",
       "    <tr>\n",
       "      <th>Maranhão</th>\n",
       "      <td>194994.0</td>\n",
       "      <td>1955.208621</td>\n",
       "      <td>230.625552</td>\n",
       "      <td>1362.3</td>\n",
       "      <td>1783.7</td>\n",
       "      <td>1918.7</td>\n",
       "      <td>2092.6</td>\n",
       "      <td>3188.8</td>\n",
       "    </tr>\n",
       "  </tbody>\n",
       "</table>\n",
       "</div>"
      ],
      "text/plain": [
       "                       count         mean         std     min     25%     50%  \\\n",
       "state_of_residence                                                              \n",
       "Piauí               105182.0  1982.825587  257.439350  1314.6  1791.6  1935.7   \n",
       "Maranhão            194994.0  1955.208621  230.625552  1362.3  1783.7  1918.7   \n",
       "\n",
       "                       75%     max  \n",
       "state_of_residence                  \n",
       "Piauí               2129.4  3203.5  \n",
       "Maranhão            2092.6  3188.8  "
      ]
     },
     "execution_count": 83,
     "metadata": {},
     "output_type": "execute_result"
    }
   ],
   "source": [
    "valid_pima.groupby(\"state_of_residence\")[\"combined_score\"].describe().sort_values(by=\"mean\", ascending=False)"
   ]
  },
  {
   "cell_type": "code",
   "execution_count": 84,
   "metadata": {},
   "outputs": [
    {
     "data": {
      "text/html": [
       "<div>\n",
       "<style scoped>\n",
       "    .dataframe tbody tr th:only-of-type {\n",
       "        vertical-align: middle;\n",
       "    }\n",
       "\n",
       "    .dataframe tbody tr th {\n",
       "        vertical-align: top;\n",
       "    }\n",
       "\n",
       "    .dataframe thead th {\n",
       "        text-align: right;\n",
       "    }\n",
       "</style>\n",
       "<table border=\"1\" class=\"dataframe\">\n",
       "  <thead>\n",
       "    <tr style=\"text-align: right;\">\n",
       "      <th></th>\n",
       "      <th>count</th>\n",
       "      <th>mean</th>\n",
       "      <th>std</th>\n",
       "      <th>min</th>\n",
       "      <th>25%</th>\n",
       "      <th>50%</th>\n",
       "      <th>75%</th>\n",
       "      <th>max</th>\n",
       "    </tr>\n",
       "    <tr>\n",
       "      <th>for_fun?</th>\n",
       "      <th></th>\n",
       "      <th></th>\n",
       "      <th></th>\n",
       "      <th></th>\n",
       "      <th></th>\n",
       "      <th></th>\n",
       "      <th></th>\n",
       "      <th></th>\n",
       "    </tr>\n",
       "  </thead>\n",
       "  <tbody>\n",
       "    <tr>\n",
       "      <th>no,_student</th>\n",
       "      <td>270273.0</td>\n",
       "      <td>1963.101726</td>\n",
       "      <td>239.124163</td>\n",
       "      <td>1314.6</td>\n",
       "      <td>1786.3</td>\n",
       "      <td>1923.4</td>\n",
       "      <td>2101.2</td>\n",
       "      <td>3203.5</td>\n",
       "    </tr>\n",
       "    <tr>\n",
       "      <th>yes_not_student</th>\n",
       "      <td>29903.0</td>\n",
       "      <td>1981.009190</td>\n",
       "      <td>254.148590</td>\n",
       "      <td>1436.2</td>\n",
       "      <td>1786.5</td>\n",
       "      <td>1935.0</td>\n",
       "      <td>2141.9</td>\n",
       "      <td>3145.9</td>\n",
       "    </tr>\n",
       "  </tbody>\n",
       "</table>\n",
       "</div>"
      ],
      "text/plain": [
       "                    count         mean         std     min     25%     50%  \\\n",
       "for_fun?                                                                     \n",
       "no,_student      270273.0  1963.101726  239.124163  1314.6  1786.3  1923.4   \n",
       "yes_not_student   29903.0  1981.009190  254.148590  1436.2  1786.5  1935.0   \n",
       "\n",
       "                    75%     max  \n",
       "for_fun?                         \n",
       "no,_student      2101.2  3203.5  \n",
       "yes_not_student  2141.9  3145.9  "
      ]
     },
     "execution_count": 84,
     "metadata": {},
     "output_type": "execute_result"
    }
   ],
   "source": [
    "valid_pima.groupby(\"for_fun?\")[\"combined_score\"].describe()"
   ]
  },
  {
   "cell_type": "markdown",
   "metadata": {},
   "source": [
    "_There is minimal difference between the average scores of students and individuals taking the exam to test their skills._"
   ]
  },
  {
   "cell_type": "code",
   "execution_count": 85,
   "metadata": {},
   "outputs": [
    {
     "data": {
      "text/html": [
       "<div>\n",
       "<style scoped>\n",
       "    .dataframe tbody tr th:only-of-type {\n",
       "        vertical-align: middle;\n",
       "    }\n",
       "\n",
       "    .dataframe tbody tr th {\n",
       "        vertical-align: top;\n",
       "    }\n",
       "\n",
       "    .dataframe thead th {\n",
       "        text-align: right;\n",
       "    }\n",
       "</style>\n",
       "<table border=\"1\" class=\"dataframe\">\n",
       "  <thead>\n",
       "    <tr style=\"text-align: right;\">\n",
       "      <th></th>\n",
       "      <th>count</th>\n",
       "      <th>mean</th>\n",
       "      <th>std</th>\n",
       "      <th>min</th>\n",
       "      <th>25%</th>\n",
       "      <th>50%</th>\n",
       "      <th>75%</th>\n",
       "      <th>max</th>\n",
       "    </tr>\n",
       "    <tr>\n",
       "      <th>race</th>\n",
       "      <th></th>\n",
       "      <th></th>\n",
       "      <th></th>\n",
       "      <th></th>\n",
       "      <th></th>\n",
       "      <th></th>\n",
       "      <th></th>\n",
       "      <th></th>\n",
       "    </tr>\n",
       "  </thead>\n",
       "  <tbody>\n",
       "    <tr>\n",
       "      <th>White</th>\n",
       "      <td>54548.0</td>\n",
       "      <td>2024.692663</td>\n",
       "      <td>269.589280</td>\n",
       "      <td>1314.6</td>\n",
       "      <td>1820.500</td>\n",
       "      <td>1981.8</td>\n",
       "      <td>2190.10</td>\n",
       "      <td>3188.8</td>\n",
       "    </tr>\n",
       "    <tr>\n",
       "      <th>no_response</th>\n",
       "      <td>3957.0</td>\n",
       "      <td>2013.262421</td>\n",
       "      <td>276.984647</td>\n",
       "      <td>1481.2</td>\n",
       "      <td>1797.800</td>\n",
       "      <td>1966.2</td>\n",
       "      <td>2183.40</td>\n",
       "      <td>3008.7</td>\n",
       "    </tr>\n",
       "    <tr>\n",
       "      <th>Asian</th>\n",
       "      <td>6295.0</td>\n",
       "      <td>1970.097935</td>\n",
       "      <td>234.157863</td>\n",
       "      <td>1403.3</td>\n",
       "      <td>1798.100</td>\n",
       "      <td>1933.2</td>\n",
       "      <td>2105.65</td>\n",
       "      <td>3020.6</td>\n",
       "    </tr>\n",
       "    <tr>\n",
       "      <th>Black</th>\n",
       "      <td>44672.0</td>\n",
       "      <td>1950.359496</td>\n",
       "      <td>227.362732</td>\n",
       "      <td>1370.4</td>\n",
       "      <td>1780.875</td>\n",
       "      <td>1915.0</td>\n",
       "      <td>2088.60</td>\n",
       "      <td>3135.2</td>\n",
       "    </tr>\n",
       "    <tr>\n",
       "      <th>Mestizo</th>\n",
       "      <td>189555.0</td>\n",
       "      <td>1950.291236</td>\n",
       "      <td>231.529812</td>\n",
       "      <td>1362.3</td>\n",
       "      <td>1779.400</td>\n",
       "      <td>1912.3</td>\n",
       "      <td>2084.40</td>\n",
       "      <td>3203.5</td>\n",
       "    </tr>\n",
       "    <tr>\n",
       "      <th>Native</th>\n",
       "      <td>1149.0</td>\n",
       "      <td>1902.884943</td>\n",
       "      <td>213.014004</td>\n",
       "      <td>1452.1</td>\n",
       "      <td>1755.800</td>\n",
       "      <td>1864.6</td>\n",
       "      <td>2028.40</td>\n",
       "      <td>2838.7</td>\n",
       "    </tr>\n",
       "  </tbody>\n",
       "</table>\n",
       "</div>"
      ],
      "text/plain": [
       "                count         mean         std     min       25%     50%  \\\n",
       "race                                                                       \n",
       "White         54548.0  2024.692663  269.589280  1314.6  1820.500  1981.8   \n",
       "no_response    3957.0  2013.262421  276.984647  1481.2  1797.800  1966.2   \n",
       "Asian          6295.0  1970.097935  234.157863  1403.3  1798.100  1933.2   \n",
       "Black         44672.0  1950.359496  227.362732  1370.4  1780.875  1915.0   \n",
       "Mestizo      189555.0  1950.291236  231.529812  1362.3  1779.400  1912.3   \n",
       "Native         1149.0  1902.884943  213.014004  1452.1  1755.800  1864.6   \n",
       "\n",
       "                 75%     max  \n",
       "race                          \n",
       "White        2190.10  3188.8  \n",
       "no_response  2183.40  3008.7  \n",
       "Asian        2105.65  3020.6  \n",
       "Black        2088.60  3135.2  \n",
       "Mestizo      2084.40  3203.5  \n",
       "Native       2028.40  2838.7  "
      ]
     },
     "execution_count": 85,
     "metadata": {},
     "output_type": "execute_result"
    }
   ],
   "source": [
    "valid_pima.groupby(\"race\")[\"combined_score\"].describe().sort_values(by=\"mean\", ascending=False)"
   ]
  },
  {
   "cell_type": "markdown",
   "metadata": {},
   "source": [
    "_Unfortunately, race still seems to be an influential factor in overall exam score._\n"
   ]
  },
  {
   "cell_type": "code",
   "execution_count": 86,
   "metadata": {},
   "outputs": [
    {
     "data": {
      "text/html": [
       "<div>\n",
       "<style scoped>\n",
       "    .dataframe tbody tr th:only-of-type {\n",
       "        vertical-align: middle;\n",
       "    }\n",
       "\n",
       "    .dataframe tbody tr th {\n",
       "        vertical-align: top;\n",
       "    }\n",
       "\n",
       "    .dataframe thead th {\n",
       "        text-align: right;\n",
       "    }\n",
       "</style>\n",
       "<table border=\"1\" class=\"dataframe\">\n",
       "  <thead>\n",
       "    <tr style=\"text-align: right;\">\n",
       "      <th></th>\n",
       "      <th>student_id_num</th>\n",
       "      <th>age</th>\n",
       "      <th>pregnant?</th>\n",
       "      <th>requested_resource?</th>\n",
       "      <th>transgender?</th>\n",
       "      <th>ns_score</th>\n",
       "      <th>hs_score</th>\n",
       "      <th>lc_score</th>\n",
       "      <th>math_score</th>\n",
       "      <th>essay_score</th>\n",
       "      <th>number_of_housemates_include_student</th>\n",
       "      <th>home_computer</th>\n",
       "      <th>income_avr</th>\n",
       "      <th>per_house_member_income</th>\n",
       "      <th>total_score</th>\n",
       "      <th>combined_score</th>\n",
       "    </tr>\n",
       "    <tr>\n",
       "      <th>state_of_residence</th>\n",
       "      <th></th>\n",
       "      <th></th>\n",
       "      <th></th>\n",
       "      <th></th>\n",
       "      <th></th>\n",
       "      <th></th>\n",
       "      <th></th>\n",
       "      <th></th>\n",
       "      <th></th>\n",
       "      <th></th>\n",
       "      <th></th>\n",
       "      <th></th>\n",
       "      <th></th>\n",
       "      <th></th>\n",
       "      <th></th>\n",
       "      <th></th>\n",
       "    </tr>\n",
       "  </thead>\n",
       "  <tbody>\n",
       "    <tr>\n",
       "      <th>Maranhão</th>\n",
       "      <td>1.700034e+11</td>\n",
       "      <td>21.904074</td>\n",
       "      <td>0.000205</td>\n",
       "      <td>0.002651</td>\n",
       "      <td>0.000036</td>\n",
       "      <td>490.159217</td>\n",
       "      <td>494.02265</td>\n",
       "      <td>487.026659</td>\n",
       "      <td>484.000095</td>\n",
       "      <td>491.654615</td>\n",
       "      <td>4.407289</td>\n",
       "      <td>0.400135</td>\n",
       "      <td>1331.250269</td>\n",
       "      <td>348.459294</td>\n",
       "      <td>2446.863236</td>\n",
       "      <td>1955.208621</td>\n",
       "    </tr>\n",
       "    <tr>\n",
       "      <th>Piauí</th>\n",
       "      <td>1.700034e+11</td>\n",
       "      <td>22.168803</td>\n",
       "      <td>0.000228</td>\n",
       "      <td>0.003014</td>\n",
       "      <td>0.000000</td>\n",
       "      <td>495.620006</td>\n",
       "      <td>500.39297</td>\n",
       "      <td>490.528059</td>\n",
       "      <td>496.284552</td>\n",
       "      <td>513.164990</td>\n",
       "      <td>4.213335</td>\n",
       "      <td>0.508861</td>\n",
       "      <td>1471.047095</td>\n",
       "      <td>392.706330</td>\n",
       "      <td>2495.990577</td>\n",
       "      <td>1982.825587</td>\n",
       "    </tr>\n",
       "  </tbody>\n",
       "</table>\n",
       "</div>"
      ],
      "text/plain": [
       "                    student_id_num        age  pregnant?  requested_resource?  \\\n",
       "state_of_residence                                                              \n",
       "Maranhão              1.700034e+11  21.904074   0.000205             0.002651   \n",
       "Piauí                 1.700034e+11  22.168803   0.000228             0.003014   \n",
       "\n",
       "                    transgender?    ns_score   hs_score    lc_score  \\\n",
       "state_of_residence                                                    \n",
       "Maranhão                0.000036  490.159217  494.02265  487.026659   \n",
       "Piauí                   0.000000  495.620006  500.39297  490.528059   \n",
       "\n",
       "                    math_score  essay_score  \\\n",
       "state_of_residence                            \n",
       "Maranhão            484.000095   491.654615   \n",
       "Piauí               496.284552   513.164990   \n",
       "\n",
       "                    number_of_housemates_include_student  home_computer  \\\n",
       "state_of_residence                                                        \n",
       "Maranhão                                        4.407289       0.400135   \n",
       "Piauí                                           4.213335       0.508861   \n",
       "\n",
       "                     income_avr  per_house_member_income  total_score  \\\n",
       "state_of_residence                                                      \n",
       "Maranhão            1331.250269               348.459294  2446.863236   \n",
       "Piauí               1471.047095               392.706330  2495.990577   \n",
       "\n",
       "                    combined_score  \n",
       "state_of_residence                  \n",
       "Maranhão               1955.208621  \n",
       "Piauí                  1982.825587  "
      ]
     },
     "execution_count": 86,
     "metadata": {},
     "output_type": "execute_result"
    }
   ],
   "source": [
    "valid_pima.groupby(\"state_of_residence\").mean()"
   ]
  },
  {
   "cell_type": "markdown",
   "metadata": {},
   "source": [
    "_Students from Piauí and Maranhão have comparable demographics and results on the exam._ "
   ]
  },
  {
   "cell_type": "code",
   "execution_count": 87,
   "metadata": {},
   "outputs": [
    {
     "data": {
      "text/html": [
       "<div>\n",
       "<style scoped>\n",
       "    .dataframe tbody tr th:only-of-type {\n",
       "        vertical-align: middle;\n",
       "    }\n",
       "\n",
       "    .dataframe tbody tr th {\n",
       "        vertical-align: top;\n",
       "    }\n",
       "\n",
       "    .dataframe thead th {\n",
       "        text-align: right;\n",
       "    }\n",
       "</style>\n",
       "<table border=\"1\" class=\"dataframe\">\n",
       "  <thead>\n",
       "    <tr style=\"text-align: right;\">\n",
       "      <th></th>\n",
       "      <th>count</th>\n",
       "      <th>mean</th>\n",
       "      <th>std</th>\n",
       "      <th>min</th>\n",
       "      <th>25%</th>\n",
       "      <th>50%</th>\n",
       "      <th>75%</th>\n",
       "      <th>max</th>\n",
       "    </tr>\n",
       "    <tr>\n",
       "      <th>home_has_internet?</th>\n",
       "      <th></th>\n",
       "      <th></th>\n",
       "      <th></th>\n",
       "      <th></th>\n",
       "      <th></th>\n",
       "      <th></th>\n",
       "      <th></th>\n",
       "      <th></th>\n",
       "    </tr>\n",
       "  </thead>\n",
       "  <tbody>\n",
       "    <tr>\n",
       "      <th>Yes</th>\n",
       "      <td>129992.0</td>\n",
       "      <td>2047.886557</td>\n",
       "      <td>265.229021</td>\n",
       "      <td>1314.6</td>\n",
       "      <td>1846.2</td>\n",
       "      <td>2013.3</td>\n",
       "      <td>2214.6</td>\n",
       "      <td>3203.5</td>\n",
       "    </tr>\n",
       "    <tr>\n",
       "      <th>No</th>\n",
       "      <td>170184.0</td>\n",
       "      <td>1901.486870</td>\n",
       "      <td>197.977301</td>\n",
       "      <td>1362.3</td>\n",
       "      <td>1755.9</td>\n",
       "      <td>1872.5</td>\n",
       "      <td>2019.5</td>\n",
       "      <td>3197.6</td>\n",
       "    </tr>\n",
       "  </tbody>\n",
       "</table>\n",
       "</div>"
      ],
      "text/plain": [
       "                       count         mean         std     min     25%     50%  \\\n",
       "home_has_internet?                                                              \n",
       "Yes                 129992.0  2047.886557  265.229021  1314.6  1846.2  2013.3   \n",
       "No                  170184.0  1901.486870  197.977301  1362.3  1755.9  1872.5   \n",
       "\n",
       "                       75%     max  \n",
       "home_has_internet?                  \n",
       "Yes                 2214.6  3203.5  \n",
       "No                  2019.5  3197.6  "
      ]
     },
     "execution_count": 87,
     "metadata": {},
     "output_type": "execute_result"
    }
   ],
   "source": [
    "valid_pima.groupby(\"home_has_internet?\")[\"combined_score\"].describe().sort_values(by=\"mean\", ascending=False)"
   ]
  },
  {
   "cell_type": "markdown",
   "metadata": {},
   "source": [
    "_Students who have internet at home tend to do much better overall on the exam._ "
   ]
  },
  {
   "cell_type": "code",
   "execution_count": 88,
   "metadata": {},
   "outputs": [
    {
     "data": {
      "text/html": [
       "<div>\n",
       "<style scoped>\n",
       "    .dataframe tbody tr th:only-of-type {\n",
       "        vertical-align: middle;\n",
       "    }\n",
       "\n",
       "    .dataframe tbody tr th {\n",
       "        vertical-align: top;\n",
       "    }\n",
       "\n",
       "    .dataframe thead th {\n",
       "        text-align: right;\n",
       "    }\n",
       "</style>\n",
       "<table border=\"1\" class=\"dataframe\">\n",
       "  <thead>\n",
       "    <tr style=\"text-align: right;\">\n",
       "      <th></th>\n",
       "      <th>count</th>\n",
       "      <th>mean</th>\n",
       "      <th>std</th>\n",
       "      <th>min</th>\n",
       "      <th>25%</th>\n",
       "      <th>50%</th>\n",
       "      <th>75%</th>\n",
       "      <th>max</th>\n",
       "    </tr>\n",
       "    <tr>\n",
       "      <th>for_language_choice</th>\n",
       "      <th></th>\n",
       "      <th></th>\n",
       "      <th></th>\n",
       "      <th></th>\n",
       "      <th></th>\n",
       "      <th></th>\n",
       "      <th></th>\n",
       "      <th></th>\n",
       "    </tr>\n",
       "  </thead>\n",
       "  <tbody>\n",
       "    <tr>\n",
       "      <th>English</th>\n",
       "      <td>93108.0</td>\n",
       "      <td>2030.750562</td>\n",
       "      <td>273.017201</td>\n",
       "      <td>1314.6</td>\n",
       "      <td>1822.4</td>\n",
       "      <td>1990.1</td>\n",
       "      <td>2202.0</td>\n",
       "      <td>3203.5</td>\n",
       "    </tr>\n",
       "    <tr>\n",
       "      <th>Spanish</th>\n",
       "      <td>207068.0</td>\n",
       "      <td>1935.269512</td>\n",
       "      <td>218.310588</td>\n",
       "      <td>1362.3</td>\n",
       "      <td>1774.1</td>\n",
       "      <td>1901.6</td>\n",
       "      <td>2064.2</td>\n",
       "      <td>3135.2</td>\n",
       "    </tr>\n",
       "  </tbody>\n",
       "</table>\n",
       "</div>"
      ],
      "text/plain": [
       "                        count         mean         std     min     25%  \\\n",
       "for_language_choice                                                      \n",
       "English               93108.0  2030.750562  273.017201  1314.6  1822.4   \n",
       "Spanish              207068.0  1935.269512  218.310588  1362.3  1774.1   \n",
       "\n",
       "                        50%     75%     max  \n",
       "for_language_choice                          \n",
       "English              1990.1  2202.0  3203.5  \n",
       "Spanish              1901.6  2064.2  3135.2  "
      ]
     },
     "execution_count": 88,
     "metadata": {},
     "output_type": "execute_result"
    }
   ],
   "source": [
    "valid_pima.groupby(\"for_language_choice\")[\"combined_score\"].describe().sort_values(by=\"mean\", ascending=False)"
   ]
  },
  {
   "cell_type": "code",
   "execution_count": 89,
   "metadata": {},
   "outputs": [
    {
     "data": {
      "text/plain": [
       "count    300176.000000\n",
       "mean       1964.885636\n",
       "std         240.722247\n",
       "min        1314.600000\n",
       "25%        1786.300000\n",
       "50%        1924.400000\n",
       "75%        2104.800000\n",
       "max        3203.500000\n",
       "Name: combined_score, dtype: float64"
      ]
     },
     "execution_count": 89,
     "metadata": {},
     "output_type": "execute_result"
    }
   ],
   "source": [
    "valid_pima[\"combined_score\"].describe()"
   ]
  },
  {
   "cell_type": "markdown",
   "metadata": {},
   "source": [
    "_Students who chose English as their foreign language tended to earn a higher total score than students who chose Spanish._"
   ]
  },
  {
   "cell_type": "code",
   "execution_count": 90,
   "metadata": {},
   "outputs": [
    {
     "data": {
      "text/plain": [
       "count    300176.000000\n",
       "mean       1964.885636\n",
       "std         240.722247\n",
       "min        1314.600000\n",
       "25%        1786.300000\n",
       "50%        1924.400000\n",
       "75%        2104.800000\n",
       "max        3203.500000\n",
       "Name: combined_score, dtype: float64"
      ]
     },
     "execution_count": 90,
     "metadata": {},
     "output_type": "execute_result"
    }
   ],
   "source": [
    "valid_pima[\"combined_score\"].describe()"
   ]
  },
  {
   "cell_type": "markdown",
   "metadata": {},
   "source": [
    "### D. Now we have some understanding of our data. Time to start building models!"
   ]
  },
  {
   "cell_type": "code",
   "execution_count": 91,
   "metadata": {},
   "outputs": [],
   "source": [
    "#valid_pima.to_csv(\"final_pima.csv\", encoding=\"latin1\", index=False)"
   ]
  }
 ],
 "metadata": {
  "kernelspec": {
   "display_name": "Python 3",
   "language": "python",
   "name": "python3"
  },
  "language_info": {
   "codemirror_mode": {
    "name": "ipython",
    "version": 3
   },
   "file_extension": ".py",
   "mimetype": "text/x-python",
   "name": "python",
   "nbconvert_exporter": "python",
   "pygments_lexer": "ipython3",
   "version": "3.7.3"
  }
 },
 "nbformat": 4,
 "nbformat_minor": 2
}
