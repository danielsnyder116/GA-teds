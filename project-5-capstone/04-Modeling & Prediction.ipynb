{
 "cells": [
  {
   "cell_type": "markdown",
   "metadata": {},
   "source": [
    "# Capstone, Part III: Predictive Modeling"
   ]
  },
  {
   "cell_type": "markdown",
   "metadata": {},
   "source": [
    "## 1. Importing Data & Needed Libraries"
   ]
  },
  {
   "cell_type": "code",
   "execution_count": 1,
   "metadata": {},
   "outputs": [],
   "source": [
    "import pandas as pd\n",
    "import matplotlib.pyplot as plt\n",
    "import numpy as np \n",
    "import seaborn as sns\n",
    "\n",
    "\n",
    "from sklearn import metrics\n",
    "from sklearn.model_selection import KFold, cross_val_score, train_test_split\n",
    "\n",
    "from sklearn.ensemble import RandomForestClassifier, BaggingClassifier\n",
    "from sklearn.tree import DecisionTreeClassifier\n",
    "from sklearn.neighbors import KNeighborsClassifier\n",
    "from sklearn.linear_model import LogisticRegression\n",
    "from sklearn.linear_model import LinearRegression\n",
    "\n",
    "from sklearn.preprocessing import StandardScaler\n",
    "from sklearn.feature_selection import RFECV\n",
    "\n",
    "%matplotlib inline\n",
    "plt.style.use(\"ggplot\")"
   ]
  },
  {
   "cell_type": "code",
   "execution_count": 2,
   "metadata": {},
   "outputs": [],
   "source": [
    "path = \"../enem2017/DADOS/final_pima.csv\"\n",
    "valid_pima = pd.read_csv(path, encoding=\"latin1\")\n",
    "pd.set_option(\"max_rows\", 150)     \n",
    "pd.set_option(\"max_columns\", 150)"
   ]
  },
  {
   "cell_type": "code",
   "execution_count": 3,
   "metadata": {},
   "outputs": [
    {
     "data": {
      "text/html": [
       "<div>\n",
       "<style scoped>\n",
       "    .dataframe tbody tr th:only-of-type {\n",
       "        vertical-align: middle;\n",
       "    }\n",
       "\n",
       "    .dataframe tbody tr th {\n",
       "        vertical-align: top;\n",
       "    }\n",
       "\n",
       "    .dataframe thead th {\n",
       "        text-align: right;\n",
       "    }\n",
       "</style>\n",
       "<table border=\"1\" class=\"dataframe\">\n",
       "  <thead>\n",
       "    <tr style=\"text-align: right;\">\n",
       "      <th></th>\n",
       "      <th>student_id_num</th>\n",
       "      <th>city_of_residence</th>\n",
       "      <th>state_of_residence</th>\n",
       "      <th>age</th>\n",
       "      <th>sex</th>\n",
       "      <th>marital_status</th>\n",
       "      <th>race</th>\n",
       "      <th>nationality</th>\n",
       "      <th>birth_city_name</th>\n",
       "      <th>birth_state_initials</th>\n",
       "      <th>student_hs_grad_status</th>\n",
       "      <th>high_school_graduation_year</th>\n",
       "      <th>hs_type</th>\n",
       "      <th>for_fun?</th>\n",
       "      <th>pregnant?</th>\n",
       "      <th>requested_resource?</th>\n",
       "      <th>transgender?</th>\n",
       "      <th>did_ns_math?</th>\n",
       "      <th>did_hs_lang?</th>\n",
       "      <th>ns_score</th>\n",
       "      <th>hs_score</th>\n",
       "      <th>lc_score</th>\n",
       "      <th>math_score</th>\n",
       "      <th>for_language_choice</th>\n",
       "      <th>essay_gradable?</th>\n",
       "      <th>essay_score</th>\n",
       "      <th>dad_male_guardian_education</th>\n",
       "      <th>mom_female_guardian_education</th>\n",
       "      <th>male_occupation_class</th>\n",
       "      <th>female_occupation_class</th>\n",
       "      <th>number_of_housemates_include_student</th>\n",
       "      <th>family_monthly_income</th>\n",
       "      <th>domestic_worker?</th>\n",
       "      <th>home_has_bathroom?</th>\n",
       "      <th>home_wash_machine?</th>\n",
       "      <th>home_computer</th>\n",
       "      <th>home_has_internet?</th>\n",
       "      <th>income_avr</th>\n",
       "      <th>per_house_member_income</th>\n",
       "      <th>total_score</th>\n",
       "      <th>combined_score</th>\n",
       "    </tr>\n",
       "  </thead>\n",
       "  <tbody>\n",
       "    <tr>\n",
       "      <th>0</th>\n",
       "      <td>170003336360</td>\n",
       "      <td>Teresina</td>\n",
       "      <td>Piauí</td>\n",
       "      <td>30.0</td>\n",
       "      <td>M</td>\n",
       "      <td>Married</td>\n",
       "      <td>Mestizo</td>\n",
       "      <td>brazilian</td>\n",
       "      <td>Teresina</td>\n",
       "      <td>PI</td>\n",
       "      <td>finished</td>\n",
       "      <td>before_2007</td>\n",
       "      <td>no_response</td>\n",
       "      <td>no,_student</td>\n",
       "      <td>0</td>\n",
       "      <td>0</td>\n",
       "      <td>0</td>\n",
       "      <td>Present</td>\n",
       "      <td>Present</td>\n",
       "      <td>674.8</td>\n",
       "      <td>682.7</td>\n",
       "      <td>626.4</td>\n",
       "      <td>795.0</td>\n",
       "      <td>English</td>\n",
       "      <td>all_good</td>\n",
       "      <td>780.0</td>\n",
       "      <td>college</td>\n",
       "      <td>high_school</td>\n",
       "      <td>skilled_white5</td>\n",
       "      <td>low_white4</td>\n",
       "      <td>3.0</td>\n",
       "      <td>18740+</td>\n",
       "      <td>Yes</td>\n",
       "      <td>Yes</td>\n",
       "      <td>Yes</td>\n",
       "      <td>3</td>\n",
       "      <td>Yes</td>\n",
       "      <td>18740.0</td>\n",
       "      <td>6246.666667</td>\n",
       "      <td>3558.9</td>\n",
       "      <td>2778.9</td>\n",
       "    </tr>\n",
       "    <tr>\n",
       "      <th>1</th>\n",
       "      <td>170001671264</td>\n",
       "      <td>Balsas</td>\n",
       "      <td>Maranhão</td>\n",
       "      <td>25.0</td>\n",
       "      <td>M</td>\n",
       "      <td>Single</td>\n",
       "      <td>Mestizo</td>\n",
       "      <td>brazilian</td>\n",
       "      <td>Balsas</td>\n",
       "      <td>MA</td>\n",
       "      <td>finished</td>\n",
       "      <td>2010</td>\n",
       "      <td>no_response</td>\n",
       "      <td>no,_student</td>\n",
       "      <td>0</td>\n",
       "      <td>0</td>\n",
       "      <td>0</td>\n",
       "      <td>Present</td>\n",
       "      <td>Present</td>\n",
       "      <td>473.5</td>\n",
       "      <td>594.0</td>\n",
       "      <td>371.1</td>\n",
       "      <td>439.9</td>\n",
       "      <td>English</td>\n",
       "      <td>all_good</td>\n",
       "      <td>560.0</td>\n",
       "      <td>completed_9th</td>\n",
       "      <td>high_school</td>\n",
       "      <td>skilled_blue3</td>\n",
       "      <td>skilled_blue3</td>\n",
       "      <td>3.0</td>\n",
       "      <td>937-1406</td>\n",
       "      <td>No</td>\n",
       "      <td>Yes</td>\n",
       "      <td>Yes</td>\n",
       "      <td>1</td>\n",
       "      <td>Yes</td>\n",
       "      <td>1171.5</td>\n",
       "      <td>390.500000</td>\n",
       "      <td>2438.5</td>\n",
       "      <td>1878.5</td>\n",
       "    </tr>\n",
       "    <tr>\n",
       "      <th>2</th>\n",
       "      <td>170001663653</td>\n",
       "      <td>São Luís</td>\n",
       "      <td>Maranhão</td>\n",
       "      <td>23.0</td>\n",
       "      <td>F</td>\n",
       "      <td>Single</td>\n",
       "      <td>White</td>\n",
       "      <td>brazilian</td>\n",
       "      <td>São Luís</td>\n",
       "      <td>MA</td>\n",
       "      <td>finished</td>\n",
       "      <td>2012</td>\n",
       "      <td>no_response</td>\n",
       "      <td>no,_student</td>\n",
       "      <td>0</td>\n",
       "      <td>0</td>\n",
       "      <td>0</td>\n",
       "      <td>Present</td>\n",
       "      <td>Present</td>\n",
       "      <td>430.6</td>\n",
       "      <td>630.0</td>\n",
       "      <td>549.5</td>\n",
       "      <td>493.9</td>\n",
       "      <td>Spanish</td>\n",
       "      <td>all_good</td>\n",
       "      <td>780.0</td>\n",
       "      <td>fifth_grade</td>\n",
       "      <td>fifth_grade</td>\n",
       "      <td>skilled_blue3</td>\n",
       "      <td>low_white4</td>\n",
       "      <td>4.0</td>\n",
       "      <td>937-1406</td>\n",
       "      <td>No</td>\n",
       "      <td>Yes</td>\n",
       "      <td>No</td>\n",
       "      <td>1</td>\n",
       "      <td>Yes</td>\n",
       "      <td>1171.5</td>\n",
       "      <td>292.875000</td>\n",
       "      <td>2884.0</td>\n",
       "      <td>2104.0</td>\n",
       "    </tr>\n",
       "    <tr>\n",
       "      <th>3</th>\n",
       "      <td>170001670032</td>\n",
       "      <td>Teresina</td>\n",
       "      <td>Piauí</td>\n",
       "      <td>34.0</td>\n",
       "      <td>F</td>\n",
       "      <td>Single</td>\n",
       "      <td>Mestizo</td>\n",
       "      <td>brazilian</td>\n",
       "      <td>Teresina</td>\n",
       "      <td>PI</td>\n",
       "      <td>finished</td>\n",
       "      <td>2016</td>\n",
       "      <td>no_response</td>\n",
       "      <td>no,_student</td>\n",
       "      <td>0</td>\n",
       "      <td>0</td>\n",
       "      <td>0</td>\n",
       "      <td>Present</td>\n",
       "      <td>Present</td>\n",
       "      <td>532.8</td>\n",
       "      <td>487.1</td>\n",
       "      <td>513.8</td>\n",
       "      <td>492.1</td>\n",
       "      <td>Spanish</td>\n",
       "      <td>all_good</td>\n",
       "      <td>520.0</td>\n",
       "      <td>fifth_grade</td>\n",
       "      <td>no_education</td>\n",
       "      <td>farmer1</td>\n",
       "      <td>farmer1</td>\n",
       "      <td>3.0</td>\n",
       "      <td>0-937</td>\n",
       "      <td>No</td>\n",
       "      <td>Yes</td>\n",
       "      <td>No</td>\n",
       "      <td>0</td>\n",
       "      <td>No</td>\n",
       "      <td>468.5</td>\n",
       "      <td>156.166667</td>\n",
       "      <td>2545.8</td>\n",
       "      <td>2025.8</td>\n",
       "    </tr>\n",
       "    <tr>\n",
       "      <th>4</th>\n",
       "      <td>170003333636</td>\n",
       "      <td>São Luís</td>\n",
       "      <td>Maranhão</td>\n",
       "      <td>19.0</td>\n",
       "      <td>F</td>\n",
       "      <td>Single</td>\n",
       "      <td>Mestizo</td>\n",
       "      <td>brazilian</td>\n",
       "      <td>São Luís</td>\n",
       "      <td>MA</td>\n",
       "      <td>finished</td>\n",
       "      <td>2015</td>\n",
       "      <td>no_response</td>\n",
       "      <td>no,_student</td>\n",
       "      <td>0</td>\n",
       "      <td>0</td>\n",
       "      <td>0</td>\n",
       "      <td>Present</td>\n",
       "      <td>Present</td>\n",
       "      <td>412.4</td>\n",
       "      <td>544.0</td>\n",
       "      <td>496.6</td>\n",
       "      <td>372.3</td>\n",
       "      <td>Spanish</td>\n",
       "      <td>all_good</td>\n",
       "      <td>480.0</td>\n",
       "      <td>high_school</td>\n",
       "      <td>high_school</td>\n",
       "      <td>low_white4</td>\n",
       "      <td>unskilled_blue2</td>\n",
       "      <td>4.0</td>\n",
       "      <td>0-937</td>\n",
       "      <td>No</td>\n",
       "      <td>Yes</td>\n",
       "      <td>Yes</td>\n",
       "      <td>0</td>\n",
       "      <td>Yes</td>\n",
       "      <td>468.5</td>\n",
       "      <td>117.125000</td>\n",
       "      <td>2305.3</td>\n",
       "      <td>1825.3</td>\n",
       "    </tr>\n",
       "  </tbody>\n",
       "</table>\n",
       "</div>"
      ],
      "text/plain": [
       "   student_id_num city_of_residence state_of_residence   age sex  \\\n",
       "0    170003336360          Teresina              Piauí  30.0   M   \n",
       "1    170001671264            Balsas           Maranhão  25.0   M   \n",
       "2    170001663653          São Luís           Maranhão  23.0   F   \n",
       "3    170001670032          Teresina              Piauí  34.0   F   \n",
       "4    170003333636          São Luís           Maranhão  19.0   F   \n",
       "\n",
       "  marital_status     race nationality birth_city_name birth_state_initials  \\\n",
       "0        Married  Mestizo   brazilian        Teresina                   PI   \n",
       "1         Single  Mestizo   brazilian          Balsas                   MA   \n",
       "2         Single    White   brazilian        São Luís                   MA   \n",
       "3         Single  Mestizo   brazilian        Teresina                   PI   \n",
       "4         Single  Mestizo   brazilian        São Luís                   MA   \n",
       "\n",
       "  student_hs_grad_status high_school_graduation_year      hs_type  \\\n",
       "0               finished                 before_2007  no_response   \n",
       "1               finished                        2010  no_response   \n",
       "2               finished                        2012  no_response   \n",
       "3               finished                        2016  no_response   \n",
       "4               finished                        2015  no_response   \n",
       "\n",
       "      for_fun?  pregnant?  requested_resource?  transgender? did_ns_math?  \\\n",
       "0  no,_student          0                    0             0      Present   \n",
       "1  no,_student          0                    0             0      Present   \n",
       "2  no,_student          0                    0             0      Present   \n",
       "3  no,_student          0                    0             0      Present   \n",
       "4  no,_student          0                    0             0      Present   \n",
       "\n",
       "  did_hs_lang?  ns_score  hs_score  lc_score  math_score for_language_choice  \\\n",
       "0      Present     674.8     682.7     626.4       795.0             English   \n",
       "1      Present     473.5     594.0     371.1       439.9             English   \n",
       "2      Present     430.6     630.0     549.5       493.9             Spanish   \n",
       "3      Present     532.8     487.1     513.8       492.1             Spanish   \n",
       "4      Present     412.4     544.0     496.6       372.3             Spanish   \n",
       "\n",
       "  essay_gradable?  essay_score dad_male_guardian_education  \\\n",
       "0        all_good        780.0                     college   \n",
       "1        all_good        560.0               completed_9th   \n",
       "2        all_good        780.0                 fifth_grade   \n",
       "3        all_good        520.0                 fifth_grade   \n",
       "4        all_good        480.0                 high_school   \n",
       "\n",
       "  mom_female_guardian_education male_occupation_class female_occupation_class  \\\n",
       "0                   high_school        skilled_white5              low_white4   \n",
       "1                   high_school         skilled_blue3           skilled_blue3   \n",
       "2                   fifth_grade         skilled_blue3              low_white4   \n",
       "3                  no_education               farmer1                 farmer1   \n",
       "4                   high_school            low_white4         unskilled_blue2   \n",
       "\n",
       "   number_of_housemates_include_student family_monthly_income  \\\n",
       "0                                   3.0                18740+   \n",
       "1                                   3.0              937-1406   \n",
       "2                                   4.0              937-1406   \n",
       "3                                   3.0                 0-937   \n",
       "4                                   4.0                 0-937   \n",
       "\n",
       "  domestic_worker? home_has_bathroom? home_wash_machine?  home_computer  \\\n",
       "0              Yes                Yes                Yes              3   \n",
       "1               No                Yes                Yes              1   \n",
       "2               No                Yes                 No              1   \n",
       "3               No                Yes                 No              0   \n",
       "4               No                Yes                Yes              0   \n",
       "\n",
       "  home_has_internet?  income_avr  per_house_member_income  total_score  \\\n",
       "0                Yes     18740.0              6246.666667       3558.9   \n",
       "1                Yes      1171.5               390.500000       2438.5   \n",
       "2                Yes      1171.5               292.875000       2884.0   \n",
       "3                 No       468.5               156.166667       2545.8   \n",
       "4                Yes       468.5               117.125000       2305.3   \n",
       "\n",
       "   combined_score  \n",
       "0          2778.9  \n",
       "1          1878.5  \n",
       "2          2104.0  \n",
       "3          2025.8  \n",
       "4          1825.3  "
      ]
     },
     "execution_count": 3,
     "metadata": {},
     "output_type": "execute_result"
    }
   ],
   "source": [
    "valid_pima.head()"
   ]
  },
  {
   "cell_type": "markdown",
   "metadata": {},
   "source": [
    "## 2. Formatting Data for Modeling..."
   ]
  },
  {
   "cell_type": "code",
   "execution_count": 4,
   "metadata": {},
   "outputs": [],
   "source": [
    "valid_pima[\"combined_score_level\"] = \"Unfilled\""
   ]
  },
  {
   "cell_type": "code",
   "execution_count": 5,
   "metadata": {},
   "outputs": [
    {
     "data": {
      "image/png": "[encoded data removed]",
      "text/plain": [
       "<Figure size 720x576 with 1 Axes>"
      ]
     },
     "metadata": {
      "needs_background": "light"
     },
     "output_type": "display_data"
    }
   ],
   "source": [
    "valid_pima[\"combined_score\"].plot(kind=\"hist\", bins=7, edgecolor=\"blue\", color=\"forestgreen\", figsize=(10,8))\n",
    "plt.ylabel(\"Number of Students\", size=16)\n",
    "plt.xlabel(\"Score\", size=16)\n",
    "plt.xticks(rotation=0)\n",
    "plt.title(\"Valid Student Combined Score Strata\", size=18);"
   ]
  },
  {
   "cell_type": "code",
   "execution_count": 6,
   "metadata": {},
   "outputs": [],
   "source": [
    "valid_pima.loc[(valid_pima[\"combined_score\"]>= 0) & (valid_pima[\"combined_score\"] <1600), \"combined_score_level\"] = \"Poor\"\n",
    "valid_pima.loc[(valid_pima[\"combined_score\"]>= 1600) & (valid_pima[\"combined_score\"] <1975), \"combined_score_level\"] = \"Fair\"\n",
    "valid_pima.loc[(valid_pima[\"combined_score\"]>= 1975) & (valid_pima[\"combined_score\"] <2250), \"combined_score_level\"] = \"Good\"\n",
    "valid_pima.loc[(valid_pima[\"combined_score\"]>= 2250) & (valid_pima[\"combined_score\"] <2550), \"combined_score_level\"] = \"Excellent\"\n",
    "valid_pima.loc[(valid_pima[\"combined_score\"]>= 2550) & (valid_pima[\"combined_score\"] <3300), \"combined_score_level\"] = \"Superior\""
   ]
  },
  {
   "cell_type": "code",
   "execution_count": 7,
   "metadata": {},
   "outputs": [],
   "source": [
    "valid_pima[\"combined_score_level\"] = valid_pima[\"combined_score_level\"].map({\"Poor\":0, \"Fair\":1, \"Good\":2,\n",
    "                \"Excellent\":3, \"Superior\":4})"
   ]
  },
  {
   "cell_type": "markdown",
   "metadata": {},
   "source": [
    "## Dummifying Time!"
   ]
  },
  {
   "cell_type": "code",
   "execution_count": 8,
   "metadata": {},
   "outputs": [],
   "source": [
    "sex_dummies = pd.get_dummies(valid_pima[\"sex\"], prefix=\"sex\", drop_first=True)\n",
    "marriage_dummies = pd.get_dummies(valid_pima[\"marital_status\"], prefix=\"status\", drop_first=True)\n",
    "race_dummies = pd.get_dummies(valid_pima[\"race\"], prefix=\"race\", drop_first=True)\n",
    "nationality_dummies = pd.get_dummies(valid_pima[\"nationality\"], prefix=\"nationality\", drop_first=True)\n",
    "hs_type_dummies = pd.get_dummies(valid_pima[\"hs_type\"], prefix=\"hs_type\", drop_first=True)\n",
    "grad_status_dummies = pd.get_dummies(valid_pima[\"student_hs_grad_status\"], prefix=\"grad_status\", drop_first=True)\n",
    "city_dummies = pd.get_dummies(valid_pima[\"city_of_residence\"], prefix=\"city\", drop_first=True)\n",
    "state_dummies = pd.get_dummies(valid_pima[\"state_of_residence\"], prefix=\"grad_status\", drop_first=True)\n",
    "grad_year_dummies = pd.get_dummies(valid_pima[\"high_school_graduation_year\"], prefix=\"year\", drop_first=True)\n",
    "\n",
    "\n",
    "fun_dummies = pd.get_dummies(valid_pima[\"for_fun?\"], prefix=\"fun\", drop_first=True)\n",
    "resource_dummies = pd.get_dummies(valid_pima[\"requested_resource?\"], prefix=\"resource\", drop_first=True)\n",
    "essay_dummies = pd.get_dummies(valid_pima[\"essay_gradable?\"], prefix=\"essay_deal\", drop_first=True)\n",
    "\n",
    "dad_educ_dummies = pd.get_dummies(valid_pima[\"dad_male_guardian_education\"], prefix=\"dad_educ\", drop_first=True)\n",
    "mom_educ_dummies = pd.get_dummies(valid_pima[\"mom_female_guardian_education\"], prefix=\"mom_educ\", drop_first=True)\n",
    "fam_income_dummies = pd.get_dummies(valid_pima[\"family_monthly_income\"], prefix=\"income\", drop_first=True)\n",
    "nanny_dummies = pd.get_dummies(valid_pima[\"domestic_worker?\"], prefix=\"nanny\", drop_first=True)\n",
    "internet_dummies = pd.get_dummies(valid_pima[\"home_has_internet?\"], prefix=\"internet\", drop_first=True)\n",
    "computer_dummies = pd.get_dummies(valid_pima[\"home_computer\"], prefix=\"computer\", drop_first=True)\n",
    "wash_dummies = pd.get_dummies(valid_pima[\"home_wash_machine?\"], prefix=\"wash_machine\", drop_first=True)\n",
    "language_dummies = pd.get_dummies(valid_pima[\"for_language_choice\"], prefix=\"language\", drop_first=True)"
   ]
  },
  {
   "cell_type": "code",
   "execution_count": 9,
   "metadata": {},
   "outputs": [],
   "source": [
    "valid_pima.drop([\"sex\",\"marital_status\", \"race\", \"nationality\", \"hs_type\", \"student_hs_grad_status\",\n",
    "                 \"city_of_residence\", \"state_of_residence\", \"high_school_graduation_year\", \"hs_type\",\n",
    "                 \"for_fun?\", \"requested_resource?\", \"essay_gradable?\", \"dad_male_guardian_education\",\n",
    "                 \"mom_female_guardian_education\",\"family_monthly_income\", \"domestic_worker?\", \"home_has_internet?\", \n",
    "                 \"home_computer\", \"home_wash_machine?\", \"for_language_choice\" ], axis=1, inplace=True)"
   ]
  },
  {
   "cell_type": "code",
   "execution_count": 10,
   "metadata": {},
   "outputs": [],
   "source": [
    "valid_pima = pd.concat([valid_pima, sex_dummies, marriage_dummies,race_dummies, nationality_dummies, hs_type_dummies,\n",
    "                        grad_status_dummies,city_dummies, state_dummies, grad_year_dummies, fun_dummies,\n",
    "                        resource_dummies, essay_dummies, dad_educ_dummies, mom_educ_dummies, fam_income_dummies,\n",
    "                        nanny_dummies, internet_dummies, computer_dummies,wash_dummies, language_dummies], axis=1)"
   ]
  },
  {
   "cell_type": "code",
   "execution_count": 11,
   "metadata": {},
   "outputs": [],
   "source": [
    "feature_cols = [\"age\",\"per_house_member_income\",\"sex_M\",\"race_Black\",\"race_Mestizo\",\"race_Native\",\"race_White\",\"dad_educ_college\",\"dad_educ_completed_9th\",\n",
    "        \"dad_educ_don't_know\",\"dad_educ_fifth_grade\",\"dad_educ_graduate_degree\",\"dad_educ_high_school\",\"dad_educ_no_education\",\n",
    "        \"nanny_Yes\",\"internet_Yes\",\"computer_1\",\"wash_machine_Yes\",\"language_Spanish\"]\n",
    "\n",
    "feature_cols2 = [\"race_Mestizo\", \"dad_educ_fifth_grade\", \"computer_1\",\"language_Spanish\"]\n",
    "\n",
    "feature_cols1 = [\n",
    "    \n",
    "\"age\",\"per_house_member_income\",\"number_of_housemates_include_student\",\n",
    "\"income_avr\",\"per_house_member_income\",\n",
    "\"sex_M\",\"status_Married\",\"status_Missing\",\"status_Single\",\"status_Widow(er)\",\"race_Black\",\"race_Mestizo\",\"race_Native\",\n",
    "\"race_White\",\"race_no_response\",\"nationality_foreigner\",\"nationality_native_born_abroad\",\"nationality_naturalized\",\n",
    "\"nationality_no_response\",\"hs_type_no_response\",\"hs_type_private\",\"hs_type_public\",\"grad_status_finished\",\n",
    "\"grad_status_finishing_after_2017\",\"grad_status_finishing_in_2017\",\"grad_status_Piauí\",\"year_2008\",\"year_2009\",\"year_2010\",\n",
    "\"year_2011\",\"year_2012\",\"year_2013\",\"year_2014\",\"year_2015\",\"year_2016\",\"year_before_2007\",\"year_no_response\",\"fun_yes_not_student\",\n",
    "\"resource_1\",\"essay_deal_2.0\",\"essay_deal_3.0\",\"essay_deal_4.0\",\"essay_deal_6.0\",\"essay_deal_7.0\",\"essay_deal_8.0\",\"essay_deal_9.0\",\n",
    "\"dad_educ_college\",\"dad_educ_completed_9th\",\"dad_educ_don't_know\",\"dad_educ_fifth_grade\",\"dad_educ_graduate_degree\",\"dad_educ_high_school\",\n",
    "\"dad_educ_no_education\",\"mom_educ_college\",\"mom_educ_completed_9th\",\"mom_educ_don't_know\",\"mom_educ_fifth_grade\",\"mom_educ_graduate_degree\",\n",
    "\"mom_educ_high_school\",\"mom_educ_no_education\",\"income_11244-14055\",\"income_14055-18740\",\"income_1406-1874\",\"income_1874-2343\",\n",
    "\"income_18740+\",\"income_2343-2811\",\"income_2811-3748\",\"income_3748-4685\",\"income_4685-5622\",\"income_5622-6559\",\"income_6559-7496\",\n",
    "\"income_7496-8433\",\"income_8433-9370\",\"income_937-1406\",\"income_9730-11244\",\"income_no_response\",\"nanny_Yes\",\"internet_Yes\",\n",
    "\"computer_1\",\"computer_2\",\"computer_3\",\"computer_4\",\"wash_machine_Yes\",\"language_Spanish\"]\n",
    "\n",
    "\n",
    "#\"male_occupation_class\", \"home_has_bathroom?\"\n",
    "#\"female_occupation_class\""
   ]
  },
  {
   "cell_type": "code",
   "execution_count": 12,
   "metadata": {},
   "outputs": [],
   "source": [
    "X = valid_pima[feature_cols]\n",
    "y = valid_pima[\"combined_score_level\"]"
   ]
  },
  {
   "cell_type": "markdown",
   "metadata": {},
   "source": [
    "## Baseline"
   ]
  },
  {
   "cell_type": "code",
   "execution_count": 13,
   "metadata": {},
   "outputs": [
    {
     "data": {
      "text/plain": [
       "1    0.560148\n",
       "2    0.292282\n",
       "3    0.103846\n",
       "4    0.022727\n",
       "0    0.020998\n",
       "Name: combined_score_level, dtype: float64"
      ]
     },
     "execution_count": 13,
     "metadata": {},
     "output_type": "execute_result"
    }
   ],
   "source": [
    "valid_pima[\"combined_score_level\"].value_counts(normalize=True)"
   ]
  },
  {
   "cell_type": "code",
   "execution_count": 14,
   "metadata": {},
   "outputs": [],
   "source": [
    "# valid_pima.describe()"
   ]
  },
  {
   "cell_type": "markdown",
   "metadata": {},
   "source": [
    "_Ideally, we want to have a model that has greater accuracy than 56%, the accuracy we would have just by guessing._"
   ]
  },
  {
   "cell_type": "markdown",
   "metadata": {},
   "source": [
    "## Model 1: Random Forest Classifier"
   ]
  },
  {
   "cell_type": "code",
   "execution_count": 15,
   "metadata": {},
   "outputs": [
    {
     "data": {
      "text/plain": [
       "4.358898943540674"
      ]
     },
     "execution_count": 15,
     "metadata": {},
     "output_type": "execute_result"
    }
   ],
   "source": [
    "len(feature_cols)\n",
    "np.sqrt(len(feature_cols))"
   ]
  },
  {
   "cell_type": "code",
   "execution_count": 16,
   "metadata": {},
   "outputs": [],
   "source": [
    "X_train, X_test, y_train, y_test = train_test_split(X, y, random_state=12345)"
   ]
  },
  {
   "cell_type": "code",
   "execution_count": 17,
   "metadata": {},
   "outputs": [],
   "source": [
    "rfclass = RandomForestClassifier(n_estimators=500, max_features=5, oob_score=True, random_state=12345, n_jobs=10)"
   ]
  },
  {
   "cell_type": "code",
   "execution_count": 18,
   "metadata": {},
   "outputs": [
    {
     "data": {
      "text/plain": [
       "RandomForestClassifier(bootstrap=True, class_weight=None, criterion='gini',\n",
       "            max_depth=None, max_features=5, max_leaf_nodes=None,\n",
       "            min_impurity_decrease=0.0, min_impurity_split=None,\n",
       "            min_samples_leaf=1, min_samples_split=2,\n",
       "            min_weight_fraction_leaf=0.0, n_estimators=500, n_jobs=10,\n",
       "            oob_score=True, random_state=12345, verbose=0,\n",
       "            warm_start=False)"
      ]
     },
     "execution_count": 18,
     "metadata": {},
     "output_type": "execute_result"
    }
   ],
   "source": [
    "rfclass.fit(X_train, y_train)"
   ]
  },
  {
   "cell_type": "markdown",
   "metadata": {},
   "source": [
    "#### Looking at Feature Importance"
   ]
  },
  {
   "cell_type": "code",
   "execution_count": 19,
   "metadata": {},
   "outputs": [
    {
     "data": {
      "text/html": [
       "<div>\n",
       "<style scoped>\n",
       "    .dataframe tbody tr th:only-of-type {\n",
       "        vertical-align: middle;\n",
       "    }\n",
       "\n",
       "    .dataframe tbody tr th {\n",
       "        vertical-align: top;\n",
       "    }\n",
       "\n",
       "    .dataframe thead th {\n",
       "        text-align: right;\n",
       "    }\n",
       "</style>\n",
       "<table border=\"1\" class=\"dataframe\">\n",
       "  <thead>\n",
       "    <tr style=\"text-align: right;\">\n",
       "      <th></th>\n",
       "      <th>feature</th>\n",
       "      <th>importance</th>\n",
       "    </tr>\n",
       "  </thead>\n",
       "  <tbody>\n",
       "    <tr>\n",
       "      <th>0</th>\n",
       "      <td>age</td>\n",
       "      <td>0.382404</td>\n",
       "    </tr>\n",
       "    <tr>\n",
       "      <th>1</th>\n",
       "      <td>per_house_member_income</td>\n",
       "      <td>0.357579</td>\n",
       "    </tr>\n",
       "    <tr>\n",
       "      <th>15</th>\n",
       "      <td>internet_Yes</td>\n",
       "      <td>0.029295</td>\n",
       "    </tr>\n",
       "    <tr>\n",
       "      <th>17</th>\n",
       "      <td>wash_machine_Yes</td>\n",
       "      <td>0.028294</td>\n",
       "    </tr>\n",
       "    <tr>\n",
       "      <th>16</th>\n",
       "      <td>computer_1</td>\n",
       "      <td>0.026386</td>\n",
       "    </tr>\n",
       "    <tr>\n",
       "      <th>2</th>\n",
       "      <td>sex_M</td>\n",
       "      <td>0.019896</td>\n",
       "    </tr>\n",
       "    <tr>\n",
       "      <th>4</th>\n",
       "      <td>race_Mestizo</td>\n",
       "      <td>0.018509</td>\n",
       "    </tr>\n",
       "    <tr>\n",
       "      <th>18</th>\n",
       "      <td>language_Spanish</td>\n",
       "      <td>0.017406</td>\n",
       "    </tr>\n",
       "    <tr>\n",
       "      <th>3</th>\n",
       "      <td>race_Black</td>\n",
       "      <td>0.015280</td>\n",
       "    </tr>\n",
       "    <tr>\n",
       "      <th>6</th>\n",
       "      <td>race_White</td>\n",
       "      <td>0.015020</td>\n",
       "    </tr>\n",
       "  </tbody>\n",
       "</table>\n",
       "</div>"
      ],
      "text/plain": [
       "                    feature  importance\n",
       "0                       age    0.382404\n",
       "1   per_house_member_income    0.357579\n",
       "15             internet_Yes    0.029295\n",
       "17         wash_machine_Yes    0.028294\n",
       "16               computer_1    0.026386\n",
       "2                     sex_M    0.019896\n",
       "4              race_Mestizo    0.018509\n",
       "18         language_Spanish    0.017406\n",
       "3                race_Black    0.015280\n",
       "6                race_White    0.015020"
      ]
     },
     "execution_count": 19,
     "metadata": {},
     "output_type": "execute_result"
    }
   ],
   "source": [
    "pd.DataFrame({\"feature\": feature_cols, \"importance\":rfclass.feature_importances_}).sort_values(by=\"importance\", ascending=False).head(10)\n"
   ]
  },
  {
   "cell_type": "markdown",
   "metadata": {},
   "source": [
    "_These are the top 10 most influential features in the model._ "
   ]
  },
  {
   "cell_type": "code",
   "execution_count": 20,
   "metadata": {},
   "outputs": [
    {
     "data": {
      "text/plain": [
       "0.535690172876357"
      ]
     },
     "execution_count": 20,
     "metadata": {},
     "output_type": "execute_result"
    }
   ],
   "source": [
    "rfclass.oob_score_  "
   ]
  },
  {
   "cell_type": "markdown",
   "metadata": {},
   "source": [
    "_The OOB score is less than guessing, which is bad. This model is probably not the best fit._ "
   ]
  },
  {
   "cell_type": "markdown",
   "metadata": {},
   "source": [
    "_Thought about trying to tune, so that work is here._"
   ]
  },
  {
   "cell_type": "code",
   "execution_count": 21,
   "metadata": {},
   "outputs": [],
   "source": [
    "# kfforest = KFold(n_splits=5, shuffle=True)\n",
    "# scores = cross_val_score(rfclass, X, y, cv=3, scoring=\"neg_mean_squared_error\")\n",
    "# np.mean(np.sqrt(-scores))\n",
    "\n",
    "# #This is the average RMSE \n",
    "\n",
    "# #Tuning n_Estimators\n",
    "\n",
    "# estimator_range = range(10, 200, 5)\n",
    "# RMSE_scores = []\n",
    "\n",
    "# for estimator in estimator_range:\n",
    "#     tune_rfclass = RandomForestClassifier(n_estimators=estimator, random_state=12345)\n",
    "#     MSE_scores = cross_val_score(tune_rfclass, X, y, cv=3, scoring=\"neg_mean_squared_error\")\n",
    "#     RMSE_scores.append(np.mean(np.sqrt(-MSE_scores)))\n",
    "\n",
    "# plt.plot(estimator_range, RMSE_scores);\n",
    "\n",
    "# rfc = RandomForestClassifier()\n",
    "# rfe = RFECV(estimator=rfc, cv=kfforest)\n",
    "\n",
    "# rfe.fit(X,y)\n",
    "\n",
    "# X_rfe = rfe.transform(X)\n",
    "\n",
    "# X_rfe.shape\n",
    "# rfe.support_ #Based on this it is the second feature: per_house_member_income "
   ]
  },
  {
   "cell_type": "markdown",
   "metadata": {},
   "source": [
    "## Model 2: K Nearest Neighbors Classifier"
   ]
  },
  {
   "cell_type": "code",
   "execution_count": 22,
   "metadata": {},
   "outputs": [],
   "source": [
    "X_train, X_test, y_train, y_test = train_test_split(X,y, random_state=12345)"
   ]
  },
  {
   "cell_type": "code",
   "execution_count": 23,
   "metadata": {},
   "outputs": [
    {
     "name": "stderr",
     "output_type": "stream",
     "text": [
      "C:\\Users\\602770\\AppData\\Local\\Continuum\\anaconda3\\lib\\site-packages\\sklearn\\preprocessing\\data.py:625: DataConversionWarning: Data with input dtype uint8, float64 were all converted to float64 by StandardScaler.\n",
      "  return self.partial_fit(X, y)\n",
      "C:\\Users\\602770\\AppData\\Local\\Continuum\\anaconda3\\lib\\site-packages\\ipykernel_launcher.py:3: DataConversionWarning: Data with input dtype uint8, float64 were all converted to float64 by StandardScaler.\n",
      "  This is separate from the ipykernel package so we can avoid doing imports until\n",
      "C:\\Users\\602770\\AppData\\Local\\Continuum\\anaconda3\\lib\\site-packages\\sklearn\\preprocessing\\data.py:625: DataConversionWarning: Data with input dtype uint8, float64 were all converted to float64 by StandardScaler.\n",
      "  return self.partial_fit(X, y)\n",
      "C:\\Users\\602770\\AppData\\Local\\Continuum\\anaconda3\\lib\\site-packages\\ipykernel_launcher.py:6: DataConversionWarning: Data with input dtype uint8, float64 were all converted to float64 by StandardScaler.\n",
      "  \n"
     ]
    }
   ],
   "source": [
    "ss = StandardScaler()\n",
    "ss.fit(X_train)\n",
    "X_ss = ss.transform(X_train)\n",
    "\n",
    "ss.fit(X_test)\n",
    "X_ss_test = ss.transform(X_test)"
   ]
  },
  {
   "cell_type": "code",
   "execution_count": 24,
   "metadata": {},
   "outputs": [
    {
     "data": {
      "text/plain": [
       "KNeighborsClassifier(algorithm='auto', leaf_size=30, metric='minkowski',\n",
       "           metric_params=None, n_jobs=10, n_neighbors=5, p=2,\n",
       "           weights='uniform')"
      ]
     },
     "execution_count": 24,
     "metadata": {},
     "output_type": "execute_result"
    }
   ],
   "source": [
    "knn = KNeighborsClassifier(n_neighbors=5, n_jobs=10)\n",
    "knn.fit(X_ss, y_train)"
   ]
  },
  {
   "cell_type": "code",
   "execution_count": 25,
   "metadata": {},
   "outputs": [
    {
     "data": {
      "text/plain": [
       "0.5421352806353605"
      ]
     },
     "execution_count": 25,
     "metadata": {},
     "output_type": "execute_result"
    }
   ],
   "source": [
    "knn.score(X_ss_test, y_test)"
   ]
  },
  {
   "cell_type": "markdown",
   "metadata": {},
   "source": [
    "_The classification model didn't do well either, still less accuracy than guessing._ "
   ]
  },
  {
   "cell_type": "markdown",
   "metadata": {},
   "source": [
    "_To find the ideal number of k neighbors, the algorithm below would work._"
   ]
  },
  {
   "cell_type": "code",
   "execution_count": 26,
   "metadata": {},
   "outputs": [],
   "source": [
    "# knearest = KFold(n_splits=5, shuffle=True)\n",
    "\n",
    "# k_range = range(1, 101)\n",
    "\n",
    "# train_error = []\n",
    "# test_error = []\n",
    "\n",
    "# for k in k_range:\n",
    "#     t_knn = KNeighborsClassifier(n_neighbors=k, n_jobs=10)\n",
    "#     t_knn.fit(X_train, y_train)\n",
    "    \n",
    "#     train_accuracy_score = t_knn.score(X_train, y_train)\n",
    "\n",
    "#     #np.mean(cross_val_score(test_knn, X_ss, y, cv=knearest))\n",
    "#     train_error.append(1 - train_accuracy_score)\n",
    "    \n",
    "#     test_accuracy_score = t_knn.score(X_test, y_test)\n",
    "#     test_error.append((1 - test_accuracy_score))\n",
    "    \n",
    "# cols_dict = {\"k\": k_range, \"Train Error\": train_error, \"Test Error\": test_error}\n",
    "# lets_see = pd.DataFrame(cols_dict).set_index(\"k\")\n",
    "\n",
    "# let_see.head(10)"
   ]
  },
  {
   "cell_type": "markdown",
   "metadata": {},
   "source": [
    "## Model 3: Bagged Decision Tree "
   ]
  },
  {
   "cell_type": "code",
   "execution_count": 27,
   "metadata": {},
   "outputs": [],
   "source": [
    " X_train, X_test, y_train, y_test = train_test_split(X, y, random_state=12345)"
   ]
  },
  {
   "cell_type": "code",
   "execution_count": 28,
   "metadata": {},
   "outputs": [],
   "source": [
    "treeclf = DecisionTreeClassifier(max_features=5, random_state=12345)\n",
    "\n",
    "bag = BaggingClassifier(DecisionTreeClassifier(), n_estimators=500, bootstrap=True,\n",
    "                       oob_score=True, random_state=12345)"
   ]
  },
  {
   "cell_type": "code",
   "execution_count": 29,
   "metadata": {},
   "outputs": [],
   "source": [
    "bag.fit(X_train, y_train)\n",
    "y_pred = bag.predict(X_test)"
   ]
  },
  {
   "cell_type": "code",
   "execution_count": 30,
   "metadata": {},
   "outputs": [
    {
     "data": {
      "text/plain": [
       "0.8739518915517425"
      ]
     },
     "execution_count": 30,
     "metadata": {},
     "output_type": "execute_result"
    }
   ],
   "source": [
    "np.sqrt(metrics.mean_squared_error(y_test, y_pred))"
   ]
  },
  {
   "cell_type": "code",
   "execution_count": 31,
   "metadata": {},
   "outputs": [
    {
     "data": {
      "text/plain": [
       "0.536671819199403"
      ]
     },
     "execution_count": 31,
     "metadata": {},
     "output_type": "execute_result"
    }
   ],
   "source": [
    "bag.oob_score_"
   ]
  },
  {
   "cell_type": "markdown",
   "metadata": {},
   "source": [
    "_This did not perform better than guessing either. "
   ]
  },
  {
   "cell_type": "markdown",
   "metadata": {},
   "source": [
    "## Model 4: Logistic Regression Classifier "
   ]
  },
  {
   "cell_type": "code",
   "execution_count": 32,
   "metadata": {},
   "outputs": [
    {
     "name": "stderr",
     "output_type": "stream",
     "text": [
      "C:\\Users\\602770\\AppData\\Local\\Continuum\\anaconda3\\lib\\site-packages\\sklearn\\linear_model\\sag.py:334: ConvergenceWarning: The max_iter was reached which means the coef_ did not converge\n",
      "  \"the coef_ did not converge\", ConvergenceWarning)\n"
     ]
    }
   ],
   "source": [
    "X_train, X_test, y_train, y_test = train_test_split(X,y, random_state=12345)\n",
    "\n",
    "lmr = LogisticRegression(C=1e9, multi_class=\"multinomial\", solver=\"saga\")\n",
    "\n",
    "lmr.fit(X_train,y_train)\n",
    "\n",
    "pred = lmr.predict(X_test)"
   ]
  },
  {
   "cell_type": "code",
   "execution_count": 33,
   "metadata": {},
   "outputs": [
    {
     "name": "stdout",
     "output_type": "stream",
     "text": [
      "[[    0  1536    26     1     0]\n",
      " [    0 39981  1638   220     5]\n",
      " [    0 19423  2226   522     9]\n",
      " [    0  5205  1816   675    24]\n",
      " [    0   567   676   482    12]]\n"
     ]
    }
   ],
   "source": [
    "# metrics.mean_absolute_error(y_test, pred)\n",
    "print(metrics.confusion_matrix(y_test, pred))"
   ]
  },
  {
   "cell_type": "code",
   "execution_count": 34,
   "metadata": {},
   "outputs": [
    {
     "data": {
      "text/plain": [
       "0.5715846703267417"
      ]
     },
     "execution_count": 34,
     "metadata": {},
     "output_type": "execute_result"
    }
   ],
   "source": [
    "metrics.accuracy_score(y_test, pred)"
   ]
  },
  {
   "cell_type": "markdown",
   "metadata": {},
   "source": [
    "_So multinomial logistic regression does marginally better than guessing, by about 1%._"
   ]
  },
  {
   "cell_type": "markdown",
   "metadata": {},
   "source": [
    "_Now, we'll use kfolds cross validation to improve the score._"
   ]
  },
  {
   "cell_type": "code",
   "execution_count": 35,
   "metadata": {},
   "outputs": [
    {
     "name": "stderr",
     "output_type": "stream",
     "text": [
      "C:\\Users\\602770\\AppData\\Local\\Continuum\\anaconda3\\lib\\site-packages\\sklearn\\linear_model\\sag.py:334: ConvergenceWarning: The max_iter was reached which means the coef_ did not converge\n",
      "  \"the coef_ did not converge\", ConvergenceWarning)\n",
      "C:\\Users\\602770\\AppData\\Local\\Continuum\\anaconda3\\lib\\site-packages\\sklearn\\linear_model\\sag.py:334: ConvergenceWarning: The max_iter was reached which means the coef_ did not converge\n",
      "  \"the coef_ did not converge\", ConvergenceWarning)\n",
      "C:\\Users\\602770\\AppData\\Local\\Continuum\\anaconda3\\lib\\site-packages\\sklearn\\linear_model\\sag.py:334: ConvergenceWarning: The max_iter was reached which means the coef_ did not converge\n",
      "  \"the coef_ did not converge\", ConvergenceWarning)\n",
      "C:\\Users\\602770\\AppData\\Local\\Continuum\\anaconda3\\lib\\site-packages\\sklearn\\linear_model\\sag.py:334: ConvergenceWarning: The max_iter was reached which means the coef_ did not converge\n",
      "  \"the coef_ did not converge\", ConvergenceWarning)\n",
      "C:\\Users\\602770\\AppData\\Local\\Continuum\\anaconda3\\lib\\site-packages\\sklearn\\linear_model\\sag.py:334: ConvergenceWarning: The max_iter was reached which means the coef_ did not converge\n",
      "  \"the coef_ did not converge\", ConvergenceWarning)\n"
     ]
    },
    {
     "data": {
      "text/plain": [
       "0.5744596510187499"
      ]
     },
     "execution_count": 35,
     "metadata": {},
     "output_type": "execute_result"
    }
   ],
   "source": [
    "kf = KFold(n_splits=5, shuffle=True)\n",
    "lmr = LogisticRegression(C=1e9, multi_class=\"multinomial\", solver=\"saga\")\n",
    "\n",
    "np.mean(cross_val_score(lmr, X, y, cv=kf))"
   ]
  },
  {
   "cell_type": "markdown",
   "metadata": {},
   "source": [
    "_Using kfold valdiation has helped marginally._"
   ]
  },
  {
   "cell_type": "markdown",
   "metadata": {},
   "source": [
    "## RFE \n",
    "\n",
    "_There are many different x variables, so we will run recursive feature elimination to try to pinpoint the most influential x variables in our model._"
   ]
  },
  {
   "cell_type": "code",
   "execution_count": 36,
   "metadata": {},
   "outputs": [],
   "source": [
    "lc = LogisticRegression(C=1e9, multi_class=\"multinomial\", solver=\"saga\")\n",
    "kfff = KFold(n_splits=5, shuffle=True)\n",
    "rfe = RFECV(estimator=lc, cv=kfff)"
   ]
  },
  {
   "cell_type": "code",
   "execution_count": 37,
   "metadata": {},
   "outputs": [
    {
     "name": "stderr",
     "output_type": "stream",
     "text": [
      "C:\\Users\\602770\\AppData\\Local\\Continuum\\anaconda3\\lib\\site-packages\\sklearn\\linear_model\\sag.py:334: ConvergenceWarning: The max_iter was reached which means the coef_ did not converge\n",
      "  \"the coef_ did not converge\", ConvergenceWarning)\n",
      "C:\\Users\\602770\\AppData\\Local\\Continuum\\anaconda3\\lib\\site-packages\\sklearn\\linear_model\\sag.py:334: ConvergenceWarning: The max_iter was reached which means the coef_ did not converge\n",
      "  \"the coef_ did not converge\", ConvergenceWarning)\n",
      "C:\\Users\\602770\\AppData\\Local\\Continuum\\anaconda3\\lib\\site-packages\\sklearn\\linear_model\\sag.py:334: ConvergenceWarning: The max_iter was reached which means the coef_ did not converge\n",
      "  \"the coef_ did not converge\", ConvergenceWarning)\n",
      "C:\\Users\\602770\\AppData\\Local\\Continuum\\anaconda3\\lib\\site-packages\\sklearn\\linear_model\\sag.py:334: ConvergenceWarning: The max_iter was reached which means the coef_ did not converge\n",
      "  \"the coef_ did not converge\", ConvergenceWarning)\n",
      "C:\\Users\\602770\\AppData\\Local\\Continuum\\anaconda3\\lib\\site-packages\\sklearn\\linear_model\\sag.py:334: ConvergenceWarning: The max_iter was reached which means the coef_ did not converge\n",
      "  \"the coef_ did not converge\", ConvergenceWarning)\n",
      "C:\\Users\\602770\\AppData\\Local\\Continuum\\anaconda3\\lib\\site-packages\\sklearn\\linear_model\\sag.py:334: ConvergenceWarning: The max_iter was reached which means the coef_ did not converge\n",
      "  \"the coef_ did not converge\", ConvergenceWarning)\n",
      "C:\\Users\\602770\\AppData\\Local\\Continuum\\anaconda3\\lib\\site-packages\\sklearn\\linear_model\\sag.py:334: ConvergenceWarning: The max_iter was reached which means the coef_ did not converge\n",
      "  \"the coef_ did not converge\", ConvergenceWarning)\n",
      "C:\\Users\\602770\\AppData\\Local\\Continuum\\anaconda3\\lib\\site-packages\\sklearn\\linear_model\\sag.py:334: ConvergenceWarning: The max_iter was reached which means the coef_ did not converge\n",
      "  \"the coef_ did not converge\", ConvergenceWarning)\n",
      "C:\\Users\\602770\\AppData\\Local\\Continuum\\anaconda3\\lib\\site-packages\\sklearn\\linear_model\\sag.py:334: ConvergenceWarning: The max_iter was reached which means the coef_ did not converge\n",
      "  \"the coef_ did not converge\", ConvergenceWarning)\n",
      "C:\\Users\\602770\\AppData\\Local\\Continuum\\anaconda3\\lib\\site-packages\\sklearn\\linear_model\\sag.py:334: ConvergenceWarning: The max_iter was reached which means the coef_ did not converge\n",
      "  \"the coef_ did not converge\", ConvergenceWarning)\n",
      "C:\\Users\\602770\\AppData\\Local\\Continuum\\anaconda3\\lib\\site-packages\\sklearn\\linear_model\\sag.py:334: ConvergenceWarning: The max_iter was reached which means the coef_ did not converge\n",
      "  \"the coef_ did not converge\", ConvergenceWarning)\n",
      "C:\\Users\\602770\\AppData\\Local\\Continuum\\anaconda3\\lib\\site-packages\\sklearn\\linear_model\\sag.py:334: ConvergenceWarning: The max_iter was reached which means the coef_ did not converge\n",
      "  \"the coef_ did not converge\", ConvergenceWarning)\n",
      "C:\\Users\\602770\\AppData\\Local\\Continuum\\anaconda3\\lib\\site-packages\\sklearn\\linear_model\\sag.py:334: ConvergenceWarning: The max_iter was reached which means the coef_ did not converge\n",
      "  \"the coef_ did not converge\", ConvergenceWarning)\n",
      "C:\\Users\\602770\\AppData\\Local\\Continuum\\anaconda3\\lib\\site-packages\\sklearn\\linear_model\\sag.py:334: ConvergenceWarning: The max_iter was reached which means the coef_ did not converge\n",
      "  \"the coef_ did not converge\", ConvergenceWarning)\n",
      "C:\\Users\\602770\\AppData\\Local\\Continuum\\anaconda3\\lib\\site-packages\\sklearn\\linear_model\\sag.py:334: ConvergenceWarning: The max_iter was reached which means the coef_ did not converge\n",
      "  \"the coef_ did not converge\", ConvergenceWarning)\n",
      "C:\\Users\\602770\\AppData\\Local\\Continuum\\anaconda3\\lib\\site-packages\\sklearn\\linear_model\\sag.py:334: ConvergenceWarning: The max_iter was reached which means the coef_ did not converge\n",
      "  \"the coef_ did not converge\", ConvergenceWarning)\n",
      "C:\\Users\\602770\\AppData\\Local\\Continuum\\anaconda3\\lib\\site-packages\\sklearn\\linear_model\\sag.py:334: ConvergenceWarning: The max_iter was reached which means the coef_ did not converge\n",
      "  \"the coef_ did not converge\", ConvergenceWarning)\n",
      "C:\\Users\\602770\\AppData\\Local\\Continuum\\anaconda3\\lib\\site-packages\\sklearn\\linear_model\\sag.py:334: ConvergenceWarning: The max_iter was reached which means the coef_ did not converge\n",
      "  \"the coef_ did not converge\", ConvergenceWarning)\n",
      "C:\\Users\\602770\\AppData\\Local\\Continuum\\anaconda3\\lib\\site-packages\\sklearn\\linear_model\\sag.py:334: ConvergenceWarning: The max_iter was reached which means the coef_ did not converge\n",
      "  \"the coef_ did not converge\", ConvergenceWarning)\n",
      "C:\\Users\\602770\\AppData\\Local\\Continuum\\anaconda3\\lib\\site-packages\\sklearn\\linear_model\\sag.py:334: ConvergenceWarning: The max_iter was reached which means the coef_ did not converge\n",
      "  \"the coef_ did not converge\", ConvergenceWarning)\n",
      "C:\\Users\\602770\\AppData\\Local\\Continuum\\anaconda3\\lib\\site-packages\\sklearn\\linear_model\\sag.py:334: ConvergenceWarning: The max_iter was reached which means the coef_ did not converge\n",
      "  \"the coef_ did not converge\", ConvergenceWarning)\n",
      "C:\\Users\\602770\\AppData\\Local\\Continuum\\anaconda3\\lib\\site-packages\\sklearn\\linear_model\\sag.py:334: ConvergenceWarning: The max_iter was reached which means the coef_ did not converge\n",
      "  \"the coef_ did not converge\", ConvergenceWarning)\n",
      "C:\\Users\\602770\\AppData\\Local\\Continuum\\anaconda3\\lib\\site-packages\\sklearn\\linear_model\\sag.py:334: ConvergenceWarning: The max_iter was reached which means the coef_ did not converge\n",
      "  \"the coef_ did not converge\", ConvergenceWarning)\n",
      "C:\\Users\\602770\\AppData\\Local\\Continuum\\anaconda3\\lib\\site-packages\\sklearn\\linear_model\\sag.py:334: ConvergenceWarning: The max_iter was reached which means the coef_ did not converge\n",
      "  \"the coef_ did not converge\", ConvergenceWarning)\n",
      "C:\\Users\\602770\\AppData\\Local\\Continuum\\anaconda3\\lib\\site-packages\\sklearn\\linear_model\\sag.py:334: ConvergenceWarning: The max_iter was reached which means the coef_ did not converge\n",
      "  \"the coef_ did not converge\", ConvergenceWarning)\n",
      "C:\\Users\\602770\\AppData\\Local\\Continuum\\anaconda3\\lib\\site-packages\\sklearn\\linear_model\\sag.py:334: ConvergenceWarning: The max_iter was reached which means the coef_ did not converge\n",
      "  \"the coef_ did not converge\", ConvergenceWarning)\n",
      "C:\\Users\\602770\\AppData\\Local\\Continuum\\anaconda3\\lib\\site-packages\\sklearn\\linear_model\\sag.py:334: ConvergenceWarning: The max_iter was reached which means the coef_ did not converge\n",
      "  \"the coef_ did not converge\", ConvergenceWarning)\n",
      "C:\\Users\\602770\\AppData\\Local\\Continuum\\anaconda3\\lib\\site-packages\\sklearn\\linear_model\\sag.py:334: ConvergenceWarning: The max_iter was reached which means the coef_ did not converge\n",
      "  \"the coef_ did not converge\", ConvergenceWarning)\n",
      "C:\\Users\\602770\\AppData\\Local\\Continuum\\anaconda3\\lib\\site-packages\\sklearn\\linear_model\\sag.py:334: ConvergenceWarning: The max_iter was reached which means the coef_ did not converge\n",
      "  \"the coef_ did not converge\", ConvergenceWarning)\n",
      "C:\\Users\\602770\\AppData\\Local\\Continuum\\anaconda3\\lib\\site-packages\\sklearn\\linear_model\\sag.py:334: ConvergenceWarning: The max_iter was reached which means the coef_ did not converge\n",
      "  \"the coef_ did not converge\", ConvergenceWarning)\n",
      "C:\\Users\\602770\\AppData\\Local\\Continuum\\anaconda3\\lib\\site-packages\\sklearn\\linear_model\\sag.py:334: ConvergenceWarning: The max_iter was reached which means the coef_ did not converge\n",
      "  \"the coef_ did not converge\", ConvergenceWarning)\n",
      "C:\\Users\\602770\\AppData\\Local\\Continuum\\anaconda3\\lib\\site-packages\\sklearn\\linear_model\\sag.py:334: ConvergenceWarning: The max_iter was reached which means the coef_ did not converge\n",
      "  \"the coef_ did not converge\", ConvergenceWarning)\n",
      "C:\\Users\\602770\\AppData\\Local\\Continuum\\anaconda3\\lib\\site-packages\\sklearn\\linear_model\\sag.py:334: ConvergenceWarning: The max_iter was reached which means the coef_ did not converge\n",
      "  \"the coef_ did not converge\", ConvergenceWarning)\n",
      "C:\\Users\\602770\\AppData\\Local\\Continuum\\anaconda3\\lib\\site-packages\\sklearn\\linear_model\\sag.py:334: ConvergenceWarning: The max_iter was reached which means the coef_ did not converge\n",
      "  \"the coef_ did not converge\", ConvergenceWarning)\n",
      "C:\\Users\\602770\\AppData\\Local\\Continuum\\anaconda3\\lib\\site-packages\\sklearn\\linear_model\\sag.py:334: ConvergenceWarning: The max_iter was reached which means the coef_ did not converge\n",
      "  \"the coef_ did not converge\", ConvergenceWarning)\n"
     ]
    },
    {
     "name": "stderr",
     "output_type": "stream",
     "text": [
      "C:\\Users\\602770\\AppData\\Local\\Continuum\\anaconda3\\lib\\site-packages\\sklearn\\linear_model\\sag.py:334: ConvergenceWarning: The max_iter was reached which means the coef_ did not converge\n",
      "  \"the coef_ did not converge\", ConvergenceWarning)\n",
      "C:\\Users\\602770\\AppData\\Local\\Continuum\\anaconda3\\lib\\site-packages\\sklearn\\linear_model\\sag.py:334: ConvergenceWarning: The max_iter was reached which means the coef_ did not converge\n",
      "  \"the coef_ did not converge\", ConvergenceWarning)\n",
      "C:\\Users\\602770\\AppData\\Local\\Continuum\\anaconda3\\lib\\site-packages\\sklearn\\linear_model\\sag.py:334: ConvergenceWarning: The max_iter was reached which means the coef_ did not converge\n",
      "  \"the coef_ did not converge\", ConvergenceWarning)\n",
      "C:\\Users\\602770\\AppData\\Local\\Continuum\\anaconda3\\lib\\site-packages\\sklearn\\linear_model\\sag.py:334: ConvergenceWarning: The max_iter was reached which means the coef_ did not converge\n",
      "  \"the coef_ did not converge\", ConvergenceWarning)\n",
      "C:\\Users\\602770\\AppData\\Local\\Continuum\\anaconda3\\lib\\site-packages\\sklearn\\linear_model\\sag.py:334: ConvergenceWarning: The max_iter was reached which means the coef_ did not converge\n",
      "  \"the coef_ did not converge\", ConvergenceWarning)\n",
      "C:\\Users\\602770\\AppData\\Local\\Continuum\\anaconda3\\lib\\site-packages\\sklearn\\linear_model\\sag.py:334: ConvergenceWarning: The max_iter was reached which means the coef_ did not converge\n",
      "  \"the coef_ did not converge\", ConvergenceWarning)\n",
      "C:\\Users\\602770\\AppData\\Local\\Continuum\\anaconda3\\lib\\site-packages\\sklearn\\linear_model\\sag.py:334: ConvergenceWarning: The max_iter was reached which means the coef_ did not converge\n",
      "  \"the coef_ did not converge\", ConvergenceWarning)\n",
      "C:\\Users\\602770\\AppData\\Local\\Continuum\\anaconda3\\lib\\site-packages\\sklearn\\linear_model\\sag.py:334: ConvergenceWarning: The max_iter was reached which means the coef_ did not converge\n",
      "  \"the coef_ did not converge\", ConvergenceWarning)\n",
      "C:\\Users\\602770\\AppData\\Local\\Continuum\\anaconda3\\lib\\site-packages\\sklearn\\linear_model\\sag.py:334: ConvergenceWarning: The max_iter was reached which means the coef_ did not converge\n",
      "  \"the coef_ did not converge\", ConvergenceWarning)\n",
      "C:\\Users\\602770\\AppData\\Local\\Continuum\\anaconda3\\lib\\site-packages\\sklearn\\linear_model\\sag.py:334: ConvergenceWarning: The max_iter was reached which means the coef_ did not converge\n",
      "  \"the coef_ did not converge\", ConvergenceWarning)\n",
      "C:\\Users\\602770\\AppData\\Local\\Continuum\\anaconda3\\lib\\site-packages\\sklearn\\linear_model\\sag.py:334: ConvergenceWarning: The max_iter was reached which means the coef_ did not converge\n",
      "  \"the coef_ did not converge\", ConvergenceWarning)\n",
      "C:\\Users\\602770\\AppData\\Local\\Continuum\\anaconda3\\lib\\site-packages\\sklearn\\linear_model\\sag.py:334: ConvergenceWarning: The max_iter was reached which means the coef_ did not converge\n",
      "  \"the coef_ did not converge\", ConvergenceWarning)\n",
      "C:\\Users\\602770\\AppData\\Local\\Continuum\\anaconda3\\lib\\site-packages\\sklearn\\linear_model\\sag.py:334: ConvergenceWarning: The max_iter was reached which means the coef_ did not converge\n",
      "  \"the coef_ did not converge\", ConvergenceWarning)\n",
      "C:\\Users\\602770\\AppData\\Local\\Continuum\\anaconda3\\lib\\site-packages\\sklearn\\linear_model\\sag.py:334: ConvergenceWarning: The max_iter was reached which means the coef_ did not converge\n",
      "  \"the coef_ did not converge\", ConvergenceWarning)\n",
      "C:\\Users\\602770\\AppData\\Local\\Continuum\\anaconda3\\lib\\site-packages\\sklearn\\linear_model\\sag.py:334: ConvergenceWarning: The max_iter was reached which means the coef_ did not converge\n",
      "  \"the coef_ did not converge\", ConvergenceWarning)\n",
      "C:\\Users\\602770\\AppData\\Local\\Continuum\\anaconda3\\lib\\site-packages\\sklearn\\linear_model\\sag.py:334: ConvergenceWarning: The max_iter was reached which means the coef_ did not converge\n",
      "  \"the coef_ did not converge\", ConvergenceWarning)\n",
      "C:\\Users\\602770\\AppData\\Local\\Continuum\\anaconda3\\lib\\site-packages\\sklearn\\linear_model\\sag.py:334: ConvergenceWarning: The max_iter was reached which means the coef_ did not converge\n",
      "  \"the coef_ did not converge\", ConvergenceWarning)\n",
      "C:\\Users\\602770\\AppData\\Local\\Continuum\\anaconda3\\lib\\site-packages\\sklearn\\linear_model\\sag.py:334: ConvergenceWarning: The max_iter was reached which means the coef_ did not converge\n",
      "  \"the coef_ did not converge\", ConvergenceWarning)\n",
      "C:\\Users\\602770\\AppData\\Local\\Continuum\\anaconda3\\lib\\site-packages\\sklearn\\linear_model\\sag.py:334: ConvergenceWarning: The max_iter was reached which means the coef_ did not converge\n",
      "  \"the coef_ did not converge\", ConvergenceWarning)\n",
      "C:\\Users\\602770\\AppData\\Local\\Continuum\\anaconda3\\lib\\site-packages\\sklearn\\linear_model\\sag.py:334: ConvergenceWarning: The max_iter was reached which means the coef_ did not converge\n",
      "  \"the coef_ did not converge\", ConvergenceWarning)\n",
      "C:\\Users\\602770\\AppData\\Local\\Continuum\\anaconda3\\lib\\site-packages\\sklearn\\linear_model\\sag.py:334: ConvergenceWarning: The max_iter was reached which means the coef_ did not converge\n",
      "  \"the coef_ did not converge\", ConvergenceWarning)\n",
      "C:\\Users\\602770\\AppData\\Local\\Continuum\\anaconda3\\lib\\site-packages\\sklearn\\linear_model\\sag.py:334: ConvergenceWarning: The max_iter was reached which means the coef_ did not converge\n",
      "  \"the coef_ did not converge\", ConvergenceWarning)\n",
      "C:\\Users\\602770\\AppData\\Local\\Continuum\\anaconda3\\lib\\site-packages\\sklearn\\linear_model\\sag.py:334: ConvergenceWarning: The max_iter was reached which means the coef_ did not converge\n",
      "  \"the coef_ did not converge\", ConvergenceWarning)\n",
      "C:\\Users\\602770\\AppData\\Local\\Continuum\\anaconda3\\lib\\site-packages\\sklearn\\linear_model\\sag.py:334: ConvergenceWarning: The max_iter was reached which means the coef_ did not converge\n",
      "  \"the coef_ did not converge\", ConvergenceWarning)\n",
      "C:\\Users\\602770\\AppData\\Local\\Continuum\\anaconda3\\lib\\site-packages\\sklearn\\linear_model\\sag.py:334: ConvergenceWarning: The max_iter was reached which means the coef_ did not converge\n",
      "  \"the coef_ did not converge\", ConvergenceWarning)\n",
      "C:\\Users\\602770\\AppData\\Local\\Continuum\\anaconda3\\lib\\site-packages\\sklearn\\linear_model\\sag.py:334: ConvergenceWarning: The max_iter was reached which means the coef_ did not converge\n",
      "  \"the coef_ did not converge\", ConvergenceWarning)\n",
      "C:\\Users\\602770\\AppData\\Local\\Continuum\\anaconda3\\lib\\site-packages\\sklearn\\linear_model\\sag.py:334: ConvergenceWarning: The max_iter was reached which means the coef_ did not converge\n",
      "  \"the coef_ did not converge\", ConvergenceWarning)\n",
      "C:\\Users\\602770\\AppData\\Local\\Continuum\\anaconda3\\lib\\site-packages\\sklearn\\linear_model\\sag.py:334: ConvergenceWarning: The max_iter was reached which means the coef_ did not converge\n",
      "  \"the coef_ did not converge\", ConvergenceWarning)\n",
      "C:\\Users\\602770\\AppData\\Local\\Continuum\\anaconda3\\lib\\site-packages\\sklearn\\linear_model\\sag.py:334: ConvergenceWarning: The max_iter was reached which means the coef_ did not converge\n",
      "  \"the coef_ did not converge\", ConvergenceWarning)\n",
      "C:\\Users\\602770\\AppData\\Local\\Continuum\\anaconda3\\lib\\site-packages\\sklearn\\linear_model\\sag.py:334: ConvergenceWarning: The max_iter was reached which means the coef_ did not converge\n",
      "  \"the coef_ did not converge\", ConvergenceWarning)\n",
      "C:\\Users\\602770\\AppData\\Local\\Continuum\\anaconda3\\lib\\site-packages\\sklearn\\linear_model\\sag.py:334: ConvergenceWarning: The max_iter was reached which means the coef_ did not converge\n",
      "  \"the coef_ did not converge\", ConvergenceWarning)\n",
      "C:\\Users\\602770\\AppData\\Local\\Continuum\\anaconda3\\lib\\site-packages\\sklearn\\linear_model\\sag.py:334: ConvergenceWarning: The max_iter was reached which means the coef_ did not converge\n",
      "  \"the coef_ did not converge\", ConvergenceWarning)\n",
      "C:\\Users\\602770\\AppData\\Local\\Continuum\\anaconda3\\lib\\site-packages\\sklearn\\linear_model\\sag.py:334: ConvergenceWarning: The max_iter was reached which means the coef_ did not converge\n",
      "  \"the coef_ did not converge\", ConvergenceWarning)\n",
      "C:\\Users\\602770\\AppData\\Local\\Continuum\\anaconda3\\lib\\site-packages\\sklearn\\linear_model\\sag.py:334: ConvergenceWarning: The max_iter was reached which means the coef_ did not converge\n",
      "  \"the coef_ did not converge\", ConvergenceWarning)\n",
      "C:\\Users\\602770\\AppData\\Local\\Continuum\\anaconda3\\lib\\site-packages\\sklearn\\linear_model\\sag.py:334: ConvergenceWarning: The max_iter was reached which means the coef_ did not converge\n",
      "  \"the coef_ did not converge\", ConvergenceWarning)\n"
     ]
    },
    {
     "name": "stderr",
     "output_type": "stream",
     "text": [
      "C:\\Users\\602770\\AppData\\Local\\Continuum\\anaconda3\\lib\\site-packages\\sklearn\\linear_model\\sag.py:334: ConvergenceWarning: The max_iter was reached which means the coef_ did not converge\n",
      "  \"the coef_ did not converge\", ConvergenceWarning)\n",
      "C:\\Users\\602770\\AppData\\Local\\Continuum\\anaconda3\\lib\\site-packages\\sklearn\\linear_model\\sag.py:334: ConvergenceWarning: The max_iter was reached which means the coef_ did not converge\n",
      "  \"the coef_ did not converge\", ConvergenceWarning)\n",
      "C:\\Users\\602770\\AppData\\Local\\Continuum\\anaconda3\\lib\\site-packages\\sklearn\\linear_model\\sag.py:334: ConvergenceWarning: The max_iter was reached which means the coef_ did not converge\n",
      "  \"the coef_ did not converge\", ConvergenceWarning)\n",
      "C:\\Users\\602770\\AppData\\Local\\Continuum\\anaconda3\\lib\\site-packages\\sklearn\\linear_model\\sag.py:334: ConvergenceWarning: The max_iter was reached which means the coef_ did not converge\n",
      "  \"the coef_ did not converge\", ConvergenceWarning)\n",
      "C:\\Users\\602770\\AppData\\Local\\Continuum\\anaconda3\\lib\\site-packages\\sklearn\\linear_model\\sag.py:334: ConvergenceWarning: The max_iter was reached which means the coef_ did not converge\n",
      "  \"the coef_ did not converge\", ConvergenceWarning)\n",
      "C:\\Users\\602770\\AppData\\Local\\Continuum\\anaconda3\\lib\\site-packages\\sklearn\\linear_model\\sag.py:334: ConvergenceWarning: The max_iter was reached which means the coef_ did not converge\n",
      "  \"the coef_ did not converge\", ConvergenceWarning)\n",
      "C:\\Users\\602770\\AppData\\Local\\Continuum\\anaconda3\\lib\\site-packages\\sklearn\\linear_model\\sag.py:334: ConvergenceWarning: The max_iter was reached which means the coef_ did not converge\n",
      "  \"the coef_ did not converge\", ConvergenceWarning)\n",
      "C:\\Users\\602770\\AppData\\Local\\Continuum\\anaconda3\\lib\\site-packages\\sklearn\\linear_model\\sag.py:334: ConvergenceWarning: The max_iter was reached which means the coef_ did not converge\n",
      "  \"the coef_ did not converge\", ConvergenceWarning)\n",
      "C:\\Users\\602770\\AppData\\Local\\Continuum\\anaconda3\\lib\\site-packages\\sklearn\\linear_model\\sag.py:334: ConvergenceWarning: The max_iter was reached which means the coef_ did not converge\n",
      "  \"the coef_ did not converge\", ConvergenceWarning)\n",
      "C:\\Users\\602770\\AppData\\Local\\Continuum\\anaconda3\\lib\\site-packages\\sklearn\\linear_model\\sag.py:334: ConvergenceWarning: The max_iter was reached which means the coef_ did not converge\n",
      "  \"the coef_ did not converge\", ConvergenceWarning)\n",
      "C:\\Users\\602770\\AppData\\Local\\Continuum\\anaconda3\\lib\\site-packages\\sklearn\\linear_model\\sag.py:334: ConvergenceWarning: The max_iter was reached which means the coef_ did not converge\n",
      "  \"the coef_ did not converge\", ConvergenceWarning)\n",
      "C:\\Users\\602770\\AppData\\Local\\Continuum\\anaconda3\\lib\\site-packages\\sklearn\\linear_model\\sag.py:334: ConvergenceWarning: The max_iter was reached which means the coef_ did not converge\n",
      "  \"the coef_ did not converge\", ConvergenceWarning)\n",
      "C:\\Users\\602770\\AppData\\Local\\Continuum\\anaconda3\\lib\\site-packages\\sklearn\\linear_model\\sag.py:334: ConvergenceWarning: The max_iter was reached which means the coef_ did not converge\n",
      "  \"the coef_ did not converge\", ConvergenceWarning)\n",
      "C:\\Users\\602770\\AppData\\Local\\Continuum\\anaconda3\\lib\\site-packages\\sklearn\\linear_model\\sag.py:334: ConvergenceWarning: The max_iter was reached which means the coef_ did not converge\n",
      "  \"the coef_ did not converge\", ConvergenceWarning)\n",
      "C:\\Users\\602770\\AppData\\Local\\Continuum\\anaconda3\\lib\\site-packages\\sklearn\\linear_model\\sag.py:334: ConvergenceWarning: The max_iter was reached which means the coef_ did not converge\n",
      "  \"the coef_ did not converge\", ConvergenceWarning)\n",
      "C:\\Users\\602770\\AppData\\Local\\Continuum\\anaconda3\\lib\\site-packages\\sklearn\\linear_model\\sag.py:334: ConvergenceWarning: The max_iter was reached which means the coef_ did not converge\n",
      "  \"the coef_ did not converge\", ConvergenceWarning)\n",
      "C:\\Users\\602770\\AppData\\Local\\Continuum\\anaconda3\\lib\\site-packages\\sklearn\\linear_model\\sag.py:334: ConvergenceWarning: The max_iter was reached which means the coef_ did not converge\n",
      "  \"the coef_ did not converge\", ConvergenceWarning)\n",
      "C:\\Users\\602770\\AppData\\Local\\Continuum\\anaconda3\\lib\\site-packages\\sklearn\\linear_model\\sag.py:334: ConvergenceWarning: The max_iter was reached which means the coef_ did not converge\n",
      "  \"the coef_ did not converge\", ConvergenceWarning)\n",
      "C:\\Users\\602770\\AppData\\Local\\Continuum\\anaconda3\\lib\\site-packages\\sklearn\\linear_model\\sag.py:334: ConvergenceWarning: The max_iter was reached which means the coef_ did not converge\n",
      "  \"the coef_ did not converge\", ConvergenceWarning)\n",
      "C:\\Users\\602770\\AppData\\Local\\Continuum\\anaconda3\\lib\\site-packages\\sklearn\\linear_model\\sag.py:334: ConvergenceWarning: The max_iter was reached which means the coef_ did not converge\n",
      "  \"the coef_ did not converge\", ConvergenceWarning)\n",
      "C:\\Users\\602770\\AppData\\Local\\Continuum\\anaconda3\\lib\\site-packages\\sklearn\\linear_model\\sag.py:334: ConvergenceWarning: The max_iter was reached which means the coef_ did not converge\n",
      "  \"the coef_ did not converge\", ConvergenceWarning)\n",
      "C:\\Users\\602770\\AppData\\Local\\Continuum\\anaconda3\\lib\\site-packages\\sklearn\\linear_model\\sag.py:334: ConvergenceWarning: The max_iter was reached which means the coef_ did not converge\n",
      "  \"the coef_ did not converge\", ConvergenceWarning)\n",
      "C:\\Users\\602770\\AppData\\Local\\Continuum\\anaconda3\\lib\\site-packages\\sklearn\\linear_model\\sag.py:334: ConvergenceWarning: The max_iter was reached which means the coef_ did not converge\n",
      "  \"the coef_ did not converge\", ConvergenceWarning)\n"
     ]
    }
   ],
   "source": [
    "rfe.fit(X,y)\n",
    "X_rfe = rfe.transform(X)"
   ]
  },
  {
   "cell_type": "code",
   "execution_count": 38,
   "metadata": {},
   "outputs": [
    {
     "data": {
      "text/plain": [
       "(300176, 8)"
      ]
     },
     "execution_count": 38,
     "metadata": {},
     "output_type": "execute_result"
    }
   ],
   "source": [
    "X_rfe.shape"
   ]
  },
  {
   "cell_type": "code",
   "execution_count": 39,
   "metadata": {},
   "outputs": [
    {
     "data": {
      "text/plain": [
       "array([ True,  True,  True, False,  True, False, False, False, False,\n",
       "       False,  True, False, False, False, False,  True,  True, False,\n",
       "        True])"
      ]
     },
     "execution_count": 39,
     "metadata": {},
     "output_type": "execute_result"
    }
   ],
   "source": [
    "rfe.support_"
   ]
  },
  {
   "cell_type": "code",
   "execution_count": 40,
   "metadata": {},
   "outputs": [],
   "source": [
    "X = valid_pima[feature_cols2]\n",
    "y = valid_pima[\"combined_score_level\"]"
   ]
  },
  {
   "cell_type": "code",
   "execution_count": 41,
   "metadata": {},
   "outputs": [
    {
     "data": {
      "text/plain": [
       "0.5656048540166037"
      ]
     },
     "execution_count": 41,
     "metadata": {},
     "output_type": "execute_result"
    }
   ],
   "source": [
    "kf = KFold(n_splits=5, shuffle=True)\n",
    "lmr = LogisticRegression(C=1e9, multi_class=\"multinomial\", solver=\"saga\")\n",
    "\n",
    "np.mean(cross_val_score(lmr, X, y, cv=kf))"
   ]
  },
  {
   "cell_type": "markdown",
   "metadata": {},
   "source": [
    "_So it turns out doing RFE wasn't actually that helpful in improving the model._"
   ]
  },
  {
   "cell_type": "markdown",
   "metadata": {},
   "source": [
    "## Model 5: Linear Regression"
   ]
  },
  {
   "cell_type": "code",
   "execution_count": 42,
   "metadata": {},
   "outputs": [
    {
     "data": {
      "text/plain": [
       "LinearRegression(copy_X=True, fit_intercept=True, n_jobs=None,\n",
       "         normalize=False)"
      ]
     },
     "execution_count": 42,
     "metadata": {},
     "output_type": "execute_result"
    }
   ],
   "source": [
    "X_train, X_test, y_train, y_test = train_test_split(X,y, test_size=.25, train_size=.75, random_state=12345)\n",
    "lr = LinearRegression()\n",
    "lr.fit(X_train,y_train)"
   ]
  },
  {
   "cell_type": "code",
   "execution_count": 43,
   "metadata": {},
   "outputs": [
    {
     "data": {
      "text/plain": [
       "0.796116739711319"
      ]
     },
     "execution_count": 43,
     "metadata": {},
     "output_type": "execute_result"
    }
   ],
   "source": [
    "y_null = np.ones_like(y_test) * np.mean(y_train)\n",
    "np.sqrt(metrics.mean_squared_error(y_test, y_null)) #Null RMSE "
   ]
  },
  {
   "cell_type": "code",
   "execution_count": 44,
   "metadata": {},
   "outputs": [
    {
     "data": {
      "text/plain": [
       "0.7609933909678454"
      ]
     },
     "execution_count": 44,
     "metadata": {},
     "output_type": "execute_result"
    }
   ],
   "source": [
    "y_pred = lr.predict(X_test)\n",
    "np.sqrt(metrics.mean_squared_error(y_test, y_pred))"
   ]
  },
  {
   "cell_type": "code",
   "execution_count": 45,
   "metadata": {},
   "outputs": [
    {
     "data": {
      "text/plain": [
       "0.0862707036202659"
      ]
     },
     "execution_count": 45,
     "metadata": {},
     "output_type": "execute_result"
    }
   ],
   "source": [
    "lr.score(X_test,y_test)"
   ]
  },
  {
   "cell_type": "markdown",
   "metadata": {},
   "source": [
    "_Even a linear regression does little to decrease the Null RMSE with the given model._"
   ]
  }
 ],
 "metadata": {
  "kernelspec": {
   "display_name": "Python 3",
   "language": "python",
   "name": "python3"
  },
  "language_info": {
   "codemirror_mode": {
    "name": "ipython",
    "version": 3
   },
   "file_extension": ".py",
   "mimetype": "text/x-python",
   "name": "python",
   "nbconvert_exporter": "python",
   "pygments_lexer": "ipython3",
   "version": "3.7.1"
  }
 },
 "nbformat": 4,
 "nbformat_minor": 2
}
